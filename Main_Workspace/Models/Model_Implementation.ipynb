{
 "cells": [
  {
   "cell_type": "markdown",
   "id": "statistical-stock",
   "metadata": {},
   "source": [
    "## imports"
   ]
  },
  {
   "cell_type": "code",
   "execution_count": 1,
   "id": "metallic-radar",
   "metadata": {},
   "outputs": [],
   "source": [
    "import pandas\n",
    "import numpy\n",
    "from matplotlib import pyplot\n",
    "from pandas.plotting import scatter_matrix\n",
    "import mysql.connector\n",
    "from sklearn.linear_model import LinearRegression\n",
    "from sklearn.preprocessing import PolynomialFeatures\n",
    "from sklearn.ensemble import RandomForestRegressor\n",
    "from sklearn.tree import DecisionTreeRegressor,ExtraTreeRegressor\n",
    "from sklearn.metrics import mean_squared_error,mean_absolute_error\n",
    "import joblib\n",
    "import datetime\n",
    "from statsmodels.tsa.arima.model import ARIMA\n",
    "from statsmodels.tsa.statespace.sarimax import SARIMAX\n",
    "from statsmodels.tsa.vector_ar.var_model import VAR\n",
    "\n",
    "%matplotlib qt"
   ]
  },
  {
   "cell_type": "markdown",
   "id": "annoying-guatemala",
   "metadata": {},
   "source": [
    "## Database Connection and data Fetching"
   ]
  },
  {
   "cell_type": "code",
   "execution_count": 2,
   "id": "greater-beads",
   "metadata": {},
   "outputs": [],
   "source": [
    "with open('../config.env') as f:\n",
    "    credentials=f.read()\n",
    "credentials=credentials.split(\" \")\n",
    "con = mysql.connector.connect(username=credentials[0],password=credentials[1],host=credentials[2],port=credentials[3],database=credentials[4])\n",
    "query=con.cursor()"
   ]
  },
  {
   "cell_type": "code",
   "execution_count": 3,
   "id": "continental-jungle",
   "metadata": {},
   "outputs": [],
   "source": [
    "sql=\"SELECT * FROM total_india_cases\"\n",
    "query.execute(sql)\n",
    "result=query.fetchall()\n",
    "column=[columns[0] for columns in query.description]\n",
    "india_data=pandas.DataFrame(result,columns=column)"
   ]
  },
  {
   "cell_type": "code",
   "execution_count": 4,
   "id": "catholic-footage",
   "metadata": {},
   "outputs": [
    {
     "data": {
      "text/html": [
       "<div>\n",
       "<style scoped>\n",
       "    .dataframe tbody tr th:only-of-type {\n",
       "        vertical-align: middle;\n",
       "    }\n",
       "\n",
       "    .dataframe tbody tr th {\n",
       "        vertical-align: top;\n",
       "    }\n",
       "\n",
       "    .dataframe thead th {\n",
       "        text-align: right;\n",
       "    }\n",
       "</style>\n",
       "<table border=\"1\" class=\"dataframe\">\n",
       "  <thead>\n",
       "    <tr style=\"text-align: right;\">\n",
       "      <th></th>\n",
       "      <th>index_no</th>\n",
       "      <th>date</th>\n",
       "      <th>ordinal_date</th>\n",
       "      <th>total_confirmed</th>\n",
       "      <th>total_active</th>\n",
       "      <th>total_recovered</th>\n",
       "      <th>total_deaths</th>\n",
       "      <th>total_tested</th>\n",
       "      <th>total_vaccinated1</th>\n",
       "      <th>total_vaccinated2</th>\n",
       "      <th>...</th>\n",
       "      <th>delta7_confirmed</th>\n",
       "      <th>delta7_active</th>\n",
       "      <th>delta7_recovered</th>\n",
       "      <th>delta7_deaths</th>\n",
       "      <th>delta7_tested</th>\n",
       "      <th>delta7_vaccinated1</th>\n",
       "      <th>delta7_vaccinated2</th>\n",
       "      <th>total_other</th>\n",
       "      <th>delta_other</th>\n",
       "      <th>delta7_other</th>\n",
       "    </tr>\n",
       "  </thead>\n",
       "  <tbody>\n",
       "    <tr>\n",
       "      <th>0</th>\n",
       "      <td>1</td>\n",
       "      <td>2020-01-30</td>\n",
       "      <td>737454</td>\n",
       "      <td>1</td>\n",
       "      <td>1</td>\n",
       "      <td>0</td>\n",
       "      <td>0</td>\n",
       "      <td>0</td>\n",
       "      <td>0</td>\n",
       "      <td>0</td>\n",
       "      <td>...</td>\n",
       "      <td>1</td>\n",
       "      <td>1</td>\n",
       "      <td>0</td>\n",
       "      <td>0</td>\n",
       "      <td>0</td>\n",
       "      <td>0</td>\n",
       "      <td>0</td>\n",
       "      <td>0</td>\n",
       "      <td>0</td>\n",
       "      <td>0</td>\n",
       "    </tr>\n",
       "    <tr>\n",
       "      <th>1</th>\n",
       "      <td>2</td>\n",
       "      <td>2020-02-02</td>\n",
       "      <td>737457</td>\n",
       "      <td>2</td>\n",
       "      <td>2</td>\n",
       "      <td>0</td>\n",
       "      <td>0</td>\n",
       "      <td>0</td>\n",
       "      <td>0</td>\n",
       "      <td>0</td>\n",
       "      <td>...</td>\n",
       "      <td>2</td>\n",
       "      <td>2</td>\n",
       "      <td>0</td>\n",
       "      <td>0</td>\n",
       "      <td>0</td>\n",
       "      <td>0</td>\n",
       "      <td>0</td>\n",
       "      <td>0</td>\n",
       "      <td>0</td>\n",
       "      <td>0</td>\n",
       "    </tr>\n",
       "    <tr>\n",
       "      <th>2</th>\n",
       "      <td>3</td>\n",
       "      <td>2020-02-03</td>\n",
       "      <td>737458</td>\n",
       "      <td>3</td>\n",
       "      <td>3</td>\n",
       "      <td>0</td>\n",
       "      <td>0</td>\n",
       "      <td>0</td>\n",
       "      <td>0</td>\n",
       "      <td>0</td>\n",
       "      <td>...</td>\n",
       "      <td>3</td>\n",
       "      <td>3</td>\n",
       "      <td>0</td>\n",
       "      <td>0</td>\n",
       "      <td>0</td>\n",
       "      <td>0</td>\n",
       "      <td>0</td>\n",
       "      <td>0</td>\n",
       "      <td>0</td>\n",
       "      <td>0</td>\n",
       "    </tr>\n",
       "    <tr>\n",
       "      <th>3</th>\n",
       "      <td>4</td>\n",
       "      <td>2020-02-14</td>\n",
       "      <td>737469</td>\n",
       "      <td>3</td>\n",
       "      <td>0</td>\n",
       "      <td>3</td>\n",
       "      <td>0</td>\n",
       "      <td>0</td>\n",
       "      <td>0</td>\n",
       "      <td>0</td>\n",
       "      <td>...</td>\n",
       "      <td>0</td>\n",
       "      <td>-3</td>\n",
       "      <td>3</td>\n",
       "      <td>0</td>\n",
       "      <td>0</td>\n",
       "      <td>0</td>\n",
       "      <td>0</td>\n",
       "      <td>0</td>\n",
       "      <td>0</td>\n",
       "      <td>0</td>\n",
       "    </tr>\n",
       "    <tr>\n",
       "      <th>4</th>\n",
       "      <td>5</td>\n",
       "      <td>2020-03-02</td>\n",
       "      <td>737486</td>\n",
       "      <td>5</td>\n",
       "      <td>2</td>\n",
       "      <td>3</td>\n",
       "      <td>0</td>\n",
       "      <td>0</td>\n",
       "      <td>0</td>\n",
       "      <td>0</td>\n",
       "      <td>...</td>\n",
       "      <td>2</td>\n",
       "      <td>2</td>\n",
       "      <td>0</td>\n",
       "      <td>0</td>\n",
       "      <td>0</td>\n",
       "      <td>0</td>\n",
       "      <td>0</td>\n",
       "      <td>0</td>\n",
       "      <td>0</td>\n",
       "      <td>0</td>\n",
       "    </tr>\n",
       "    <tr>\n",
       "      <th>...</th>\n",
       "      <td>...</td>\n",
       "      <td>...</td>\n",
       "      <td>...</td>\n",
       "      <td>...</td>\n",
       "      <td>...</td>\n",
       "      <td>...</td>\n",
       "      <td>...</td>\n",
       "      <td>...</td>\n",
       "      <td>...</td>\n",
       "      <td>...</td>\n",
       "      <td>...</td>\n",
       "      <td>...</td>\n",
       "      <td>...</td>\n",
       "      <td>...</td>\n",
       "      <td>...</td>\n",
       "      <td>...</td>\n",
       "      <td>...</td>\n",
       "      <td>...</td>\n",
       "      <td>...</td>\n",
       "      <td>...</td>\n",
       "      <td>...</td>\n",
       "    </tr>\n",
       "    <tr>\n",
       "      <th>580</th>\n",
       "      <td>582</td>\n",
       "      <td>2021-09-29</td>\n",
       "      <td>738062</td>\n",
       "      <td>33738217</td>\n",
       "      <td>269744</td>\n",
       "      <td>33007340</td>\n",
       "      <td>448094</td>\n",
       "      <td>568956439</td>\n",
       "      <td>646473741</td>\n",
       "      <td>236996837</td>\n",
       "      <td>...</td>\n",
       "      <td>176115</td>\n",
       "      <td>-25088</td>\n",
       "      <td>199126</td>\n",
       "      <td>2013</td>\n",
       "      <td>10589426</td>\n",
       "      <td>27960741</td>\n",
       "      <td>21519788</td>\n",
       "      <td>13039</td>\n",
       "      <td>9</td>\n",
       "      <td>64</td>\n",
       "    </tr>\n",
       "    <tr>\n",
       "      <th>581</th>\n",
       "      <td>583</td>\n",
       "      <td>2021-09-30</td>\n",
       "      <td>738063</td>\n",
       "      <td>33765502</td>\n",
       "      <td>268540</td>\n",
       "      <td>33035544</td>\n",
       "      <td>448372</td>\n",
       "      <td>570477338</td>\n",
       "      <td>650229045</td>\n",
       "      <td>239978962</td>\n",
       "      <td>...</td>\n",
       "      <td>171989</td>\n",
       "      <td>-24862</td>\n",
       "      <td>194820</td>\n",
       "      <td>1973</td>\n",
       "      <td>10544629</td>\n",
       "      <td>27326652</td>\n",
       "      <td>21363329</td>\n",
       "      <td>13046</td>\n",
       "      <td>7</td>\n",
       "      <td>58</td>\n",
       "    </tr>\n",
       "    <tr>\n",
       "      <th>582</th>\n",
       "      <td>584</td>\n",
       "      <td>2021-10-01</td>\n",
       "      <td>738064</td>\n",
       "      <td>33789420</td>\n",
       "      <td>266757</td>\n",
       "      <td>33061004</td>\n",
       "      <td>448605</td>\n",
       "      <td>571994990</td>\n",
       "      <td>654331744</td>\n",
       "      <td>243149810</td>\n",
       "      <td>...</td>\n",
       "      <td>166342</td>\n",
       "      <td>-27862</td>\n",
       "      <td>192231</td>\n",
       "      <td>1915</td>\n",
       "      <td>10333607</td>\n",
       "      <td>27156870</td>\n",
       "      <td>21395524</td>\n",
       "      <td>13054</td>\n",
       "      <td>8</td>\n",
       "      <td>58</td>\n",
       "    </tr>\n",
       "    <tr>\n",
       "      <th>583</th>\n",
       "      <td>585</td>\n",
       "      <td>2021-10-02</td>\n",
       "      <td>738065</td>\n",
       "      <td>33812609</td>\n",
       "      <td>263763</td>\n",
       "      <td>33086942</td>\n",
       "      <td>448847</td>\n",
       "      <td>573260724</td>\n",
       "      <td>658277760</td>\n",
       "      <td>246897588</td>\n",
       "      <td>...</td>\n",
       "      <td>161362</td>\n",
       "      <td>-32730</td>\n",
       "      <td>192148</td>\n",
       "      <td>1898</td>\n",
       "      <td>10017479</td>\n",
       "      <td>27446675</td>\n",
       "      <td>21647146</td>\n",
       "      <td>13057</td>\n",
       "      <td>3</td>\n",
       "      <td>46</td>\n",
       "    </tr>\n",
       "    <tr>\n",
       "      <th>584</th>\n",
       "      <td>586</td>\n",
       "      <td>2021-10-03</td>\n",
       "      <td>738066</td>\n",
       "      <td>33834253</td>\n",
       "      <td>258495</td>\n",
       "      <td>33113666</td>\n",
       "      <td>449029</td>\n",
       "      <td>574252400</td>\n",
       "      <td>659815128</td>\n",
       "      <td>248117733</td>\n",
       "      <td>...</td>\n",
       "      <td>156007</td>\n",
       "      <td>-35089</td>\n",
       "      <td>189247</td>\n",
       "      <td>1804</td>\n",
       "      <td>9844149</td>\n",
       "      <td>26598842</td>\n",
       "      <td>21175008</td>\n",
       "      <td>13063</td>\n",
       "      <td>6</td>\n",
       "      <td>45</td>\n",
       "    </tr>\n",
       "  </tbody>\n",
       "</table>\n",
       "<p>585 rows × 27 columns</p>\n",
       "</div>"
      ],
      "text/plain": [
       "     index_no        date  ordinal_date  total_confirmed  total_active  \\\n",
       "0           1  2020-01-30        737454                1             1   \n",
       "1           2  2020-02-02        737457                2             2   \n",
       "2           3  2020-02-03        737458                3             3   \n",
       "3           4  2020-02-14        737469                3             0   \n",
       "4           5  2020-03-02        737486                5             2   \n",
       "..        ...         ...           ...              ...           ...   \n",
       "580       582  2021-09-29        738062         33738217        269744   \n",
       "581       583  2021-09-30        738063         33765502        268540   \n",
       "582       584  2021-10-01        738064         33789420        266757   \n",
       "583       585  2021-10-02        738065         33812609        263763   \n",
       "584       586  2021-10-03        738066         33834253        258495   \n",
       "\n",
       "     total_recovered  total_deaths  total_tested  total_vaccinated1  \\\n",
       "0                  0             0             0                  0   \n",
       "1                  0             0             0                  0   \n",
       "2                  0             0             0                  0   \n",
       "3                  3             0             0                  0   \n",
       "4                  3             0             0                  0   \n",
       "..               ...           ...           ...                ...   \n",
       "580         33007340        448094     568956439          646473741   \n",
       "581         33035544        448372     570477338          650229045   \n",
       "582         33061004        448605     571994990          654331744   \n",
       "583         33086942        448847     573260724          658277760   \n",
       "584         33113666        449029     574252400          659815128   \n",
       "\n",
       "     total_vaccinated2  ...  delta7_confirmed  delta7_active  \\\n",
       "0                    0  ...                 1              1   \n",
       "1                    0  ...                 2              2   \n",
       "2                    0  ...                 3              3   \n",
       "3                    0  ...                 0             -3   \n",
       "4                    0  ...                 2              2   \n",
       "..                 ...  ...               ...            ...   \n",
       "580          236996837  ...            176115         -25088   \n",
       "581          239978962  ...            171989         -24862   \n",
       "582          243149810  ...            166342         -27862   \n",
       "583          246897588  ...            161362         -32730   \n",
       "584          248117733  ...            156007         -35089   \n",
       "\n",
       "     delta7_recovered  delta7_deaths  delta7_tested  delta7_vaccinated1  \\\n",
       "0                   0              0              0                   0   \n",
       "1                   0              0              0                   0   \n",
       "2                   0              0              0                   0   \n",
       "3                   3              0              0                   0   \n",
       "4                   0              0              0                   0   \n",
       "..                ...            ...            ...                 ...   \n",
       "580            199126           2013       10589426            27960741   \n",
       "581            194820           1973       10544629            27326652   \n",
       "582            192231           1915       10333607            27156870   \n",
       "583            192148           1898       10017479            27446675   \n",
       "584            189247           1804        9844149            26598842   \n",
       "\n",
       "     delta7_vaccinated2  total_other  delta_other  delta7_other  \n",
       "0                     0            0            0             0  \n",
       "1                     0            0            0             0  \n",
       "2                     0            0            0             0  \n",
       "3                     0            0            0             0  \n",
       "4                     0            0            0             0  \n",
       "..                  ...          ...          ...           ...  \n",
       "580            21519788        13039            9            64  \n",
       "581            21363329        13046            7            58  \n",
       "582            21395524        13054            8            58  \n",
       "583            21647146        13057            3            46  \n",
       "584            21175008        13063            6            45  \n",
       "\n",
       "[585 rows x 27 columns]"
      ]
     },
     "execution_count": 4,
     "metadata": {},
     "output_type": "execute_result"
    }
   ],
   "source": [
    "india_data"
   ]
  },
  {
   "cell_type": "code",
   "execution_count": 5,
   "id": "stable-monster",
   "metadata": {},
   "outputs": [],
   "source": [
    "sql=\"SELECT * FROM total_state_cases WHERE state_name='MH'\"\n",
    "query.execute(sql)\n",
    "result=query.fetchall()\n",
    "column=[columns[0] for columns in query.description]\n",
    "maharashtra_data=pandas.DataFrame(result,columns=column)"
   ]
  },
  {
   "cell_type": "code",
   "execution_count": 6,
   "id": "reasonable-administration",
   "metadata": {},
   "outputs": [
    {
     "data": {
      "text/html": [
       "<div>\n",
       "<style scoped>\n",
       "    .dataframe tbody tr th:only-of-type {\n",
       "        vertical-align: middle;\n",
       "    }\n",
       "\n",
       "    .dataframe tbody tr th {\n",
       "        vertical-align: top;\n",
       "    }\n",
       "\n",
       "    .dataframe thead th {\n",
       "        text-align: right;\n",
       "    }\n",
       "</style>\n",
       "<table border=\"1\" class=\"dataframe\">\n",
       "  <thead>\n",
       "    <tr style=\"text-align: right;\">\n",
       "      <th></th>\n",
       "      <th>index_no</th>\n",
       "      <th>date</th>\n",
       "      <th>ordinal_date</th>\n",
       "      <th>state_name</th>\n",
       "      <th>total_confirmed</th>\n",
       "      <th>total_active</th>\n",
       "      <th>total_recovered</th>\n",
       "      <th>total_deaths</th>\n",
       "      <th>total_tested</th>\n",
       "      <th>total_vaccinated1</th>\n",
       "      <th>...</th>\n",
       "      <th>delta7_confirmed</th>\n",
       "      <th>delta7_active</th>\n",
       "      <th>delta7_recovered</th>\n",
       "      <th>delta7_deaths</th>\n",
       "      <th>delta7_tested</th>\n",
       "      <th>delta7_vaccinated1</th>\n",
       "      <th>delta7_vaccinated2</th>\n",
       "      <th>total_other</th>\n",
       "      <th>delta_other</th>\n",
       "      <th>delta7_other</th>\n",
       "    </tr>\n",
       "  </thead>\n",
       "  <tbody>\n",
       "    <tr>\n",
       "      <th>0</th>\n",
       "      <td>52</td>\n",
       "      <td>2020-03-09</td>\n",
       "      <td>737493</td>\n",
       "      <td>MH</td>\n",
       "      <td>2</td>\n",
       "      <td>2</td>\n",
       "      <td>0</td>\n",
       "      <td>0</td>\n",
       "      <td>0</td>\n",
       "      <td>0</td>\n",
       "      <td>...</td>\n",
       "      <td>2</td>\n",
       "      <td>2</td>\n",
       "      <td>0</td>\n",
       "      <td>0</td>\n",
       "      <td>0</td>\n",
       "      <td>0</td>\n",
       "      <td>0</td>\n",
       "      <td>0</td>\n",
       "      <td>0</td>\n",
       "      <td>0</td>\n",
       "    </tr>\n",
       "    <tr>\n",
       "      <th>1</th>\n",
       "      <td>64</td>\n",
       "      <td>2020-03-10</td>\n",
       "      <td>737494</td>\n",
       "      <td>MH</td>\n",
       "      <td>5</td>\n",
       "      <td>5</td>\n",
       "      <td>0</td>\n",
       "      <td>0</td>\n",
       "      <td>0</td>\n",
       "      <td>0</td>\n",
       "      <td>...</td>\n",
       "      <td>5</td>\n",
       "      <td>5</td>\n",
       "      <td>0</td>\n",
       "      <td>0</td>\n",
       "      <td>0</td>\n",
       "      <td>0</td>\n",
       "      <td>0</td>\n",
       "      <td>0</td>\n",
       "      <td>0</td>\n",
       "      <td>0</td>\n",
       "    </tr>\n",
       "    <tr>\n",
       "      <th>2</th>\n",
       "      <td>76</td>\n",
       "      <td>2020-03-11</td>\n",
       "      <td>737495</td>\n",
       "      <td>MH</td>\n",
       "      <td>11</td>\n",
       "      <td>11</td>\n",
       "      <td>0</td>\n",
       "      <td>0</td>\n",
       "      <td>0</td>\n",
       "      <td>0</td>\n",
       "      <td>...</td>\n",
       "      <td>11</td>\n",
       "      <td>11</td>\n",
       "      <td>0</td>\n",
       "      <td>0</td>\n",
       "      <td>0</td>\n",
       "      <td>0</td>\n",
       "      <td>0</td>\n",
       "      <td>0</td>\n",
       "      <td>0</td>\n",
       "      <td>0</td>\n",
       "    </tr>\n",
       "    <tr>\n",
       "      <th>3</th>\n",
       "      <td>89</td>\n",
       "      <td>2020-03-12</td>\n",
       "      <td>737496</td>\n",
       "      <td>MH</td>\n",
       "      <td>14</td>\n",
       "      <td>14</td>\n",
       "      <td>0</td>\n",
       "      <td>0</td>\n",
       "      <td>0</td>\n",
       "      <td>0</td>\n",
       "      <td>...</td>\n",
       "      <td>14</td>\n",
       "      <td>14</td>\n",
       "      <td>0</td>\n",
       "      <td>0</td>\n",
       "      <td>0</td>\n",
       "      <td>0</td>\n",
       "      <td>0</td>\n",
       "      <td>0</td>\n",
       "      <td>0</td>\n",
       "      <td>0</td>\n",
       "    </tr>\n",
       "    <tr>\n",
       "      <th>4</th>\n",
       "      <td>102</td>\n",
       "      <td>2020-03-13</td>\n",
       "      <td>737497</td>\n",
       "      <td>MH</td>\n",
       "      <td>17</td>\n",
       "      <td>17</td>\n",
       "      <td>0</td>\n",
       "      <td>0</td>\n",
       "      <td>0</td>\n",
       "      <td>0</td>\n",
       "      <td>...</td>\n",
       "      <td>17</td>\n",
       "      <td>17</td>\n",
       "      <td>0</td>\n",
       "      <td>0</td>\n",
       "      <td>0</td>\n",
       "      <td>0</td>\n",
       "      <td>0</td>\n",
       "      <td>0</td>\n",
       "      <td>0</td>\n",
       "      <td>0</td>\n",
       "    </tr>\n",
       "    <tr>\n",
       "      <th>...</th>\n",
       "      <td>...</td>\n",
       "      <td>...</td>\n",
       "      <td>...</td>\n",
       "      <td>...</td>\n",
       "      <td>...</td>\n",
       "      <td>...</td>\n",
       "      <td>...</td>\n",
       "      <td>...</td>\n",
       "      <td>...</td>\n",
       "      <td>...</td>\n",
       "      <td>...</td>\n",
       "      <td>...</td>\n",
       "      <td>...</td>\n",
       "      <td>...</td>\n",
       "      <td>...</td>\n",
       "      <td>...</td>\n",
       "      <td>...</td>\n",
       "      <td>...</td>\n",
       "      <td>...</td>\n",
       "      <td>...</td>\n",
       "      <td>...</td>\n",
       "    </tr>\n",
       "    <tr>\n",
       "      <th>569</th>\n",
       "      <td>19917</td>\n",
       "      <td>2021-09-29</td>\n",
       "      <td>738062</td>\n",
       "      <td>MH</td>\n",
       "      <td>6547793</td>\n",
       "      <td>36675</td>\n",
       "      <td>6368530</td>\n",
       "      <td>139011</td>\n",
       "      <td>58884819</td>\n",
       "      <td>57091306</td>\n",
       "      <td>...</td>\n",
       "      <td>16556</td>\n",
       "      <td>-3309</td>\n",
       "      <td>19501</td>\n",
       "      <td>347</td>\n",
       "      <td>1408677</td>\n",
       "      <td>2729841</td>\n",
       "      <td>2110890</td>\n",
       "      <td>3577</td>\n",
       "      <td>4</td>\n",
       "      <td>17</td>\n",
       "    </tr>\n",
       "    <tr>\n",
       "      <th>570</th>\n",
       "      <td>19953</td>\n",
       "      <td>2021-09-30</td>\n",
       "      <td>738063</td>\n",
       "      <td>MH</td>\n",
       "      <td>6550856</td>\n",
       "      <td>36484</td>\n",
       "      <td>6371728</td>\n",
       "      <td>139067</td>\n",
       "      <td>58739974</td>\n",
       "      <td>57633028</td>\n",
       "      <td>...</td>\n",
       "      <td>16299</td>\n",
       "      <td>-2707</td>\n",
       "      <td>18649</td>\n",
       "      <td>342</td>\n",
       "      <td>1093459</td>\n",
       "      <td>2820452</td>\n",
       "      <td>2153323</td>\n",
       "      <td>3577</td>\n",
       "      <td>0</td>\n",
       "      <td>15</td>\n",
       "    </tr>\n",
       "    <tr>\n",
       "      <th>571</th>\n",
       "      <td>19989</td>\n",
       "      <td>2021-10-01</td>\n",
       "      <td>738064</td>\n",
       "      <td>MH</td>\n",
       "      <td>6553961</td>\n",
       "      <td>36371</td>\n",
       "      <td>6374892</td>\n",
       "      <td>139117</td>\n",
       "      <td>58910564</td>\n",
       "      <td>58110270</td>\n",
       "      <td>...</td>\n",
       "      <td>16118</td>\n",
       "      <td>-2120</td>\n",
       "      <td>17880</td>\n",
       "      <td>341</td>\n",
       "      <td>1091179</td>\n",
       "      <td>3013433</td>\n",
       "      <td>2263721</td>\n",
       "      <td>3581</td>\n",
       "      <td>4</td>\n",
       "      <td>17</td>\n",
       "    </tr>\n",
       "    <tr>\n",
       "      <th>572</th>\n",
       "      <td>20025</td>\n",
       "      <td>2021-10-02</td>\n",
       "      <td>738065</td>\n",
       "      <td>MH</td>\n",
       "      <td>6556657</td>\n",
       "      <td>35955</td>\n",
       "      <td>6377954</td>\n",
       "      <td>139166</td>\n",
       "      <td>59074660</td>\n",
       "      <td>58553667</td>\n",
       "      <td>...</td>\n",
       "      <td>15538</td>\n",
       "      <td>-2029</td>\n",
       "      <td>17219</td>\n",
       "      <td>332</td>\n",
       "      <td>1082650</td>\n",
       "      <td>3140902</td>\n",
       "      <td>2288397</td>\n",
       "      <td>3582</td>\n",
       "      <td>1</td>\n",
       "      <td>16</td>\n",
       "    </tr>\n",
       "    <tr>\n",
       "      <th>573</th>\n",
       "      <td>20061</td>\n",
       "      <td>2021-10-03</td>\n",
       "      <td>738066</td>\n",
       "      <td>MH</td>\n",
       "      <td>6559349</td>\n",
       "      <td>35889</td>\n",
       "      <td>6380670</td>\n",
       "      <td>139206</td>\n",
       "      <td>59222263</td>\n",
       "      <td>58617761</td>\n",
       "      <td>...</td>\n",
       "      <td>15024</td>\n",
       "      <td>-1971</td>\n",
       "      <td>16643</td>\n",
       "      <td>336</td>\n",
       "      <td>1064263</td>\n",
       "      <td>3074610</td>\n",
       "      <td>2251363</td>\n",
       "      <td>3584</td>\n",
       "      <td>2</td>\n",
       "      <td>16</td>\n",
       "    </tr>\n",
       "  </tbody>\n",
       "</table>\n",
       "<p>574 rows × 28 columns</p>\n",
       "</div>"
      ],
      "text/plain": [
       "     index_no        date  ordinal_date state_name  total_confirmed  \\\n",
       "0          52  2020-03-09        737493         MH                2   \n",
       "1          64  2020-03-10        737494         MH                5   \n",
       "2          76  2020-03-11        737495         MH               11   \n",
       "3          89  2020-03-12        737496         MH               14   \n",
       "4         102  2020-03-13        737497         MH               17   \n",
       "..        ...         ...           ...        ...              ...   \n",
       "569     19917  2021-09-29        738062         MH          6547793   \n",
       "570     19953  2021-09-30        738063         MH          6550856   \n",
       "571     19989  2021-10-01        738064         MH          6553961   \n",
       "572     20025  2021-10-02        738065         MH          6556657   \n",
       "573     20061  2021-10-03        738066         MH          6559349   \n",
       "\n",
       "     total_active  total_recovered  total_deaths  total_tested  \\\n",
       "0               2                0             0             0   \n",
       "1               5                0             0             0   \n",
       "2              11                0             0             0   \n",
       "3              14                0             0             0   \n",
       "4              17                0             0             0   \n",
       "..            ...              ...           ...           ...   \n",
       "569         36675          6368530        139011      58884819   \n",
       "570         36484          6371728        139067      58739974   \n",
       "571         36371          6374892        139117      58910564   \n",
       "572         35955          6377954        139166      59074660   \n",
       "573         35889          6380670        139206      59222263   \n",
       "\n",
       "     total_vaccinated1  ...  delta7_confirmed  delta7_active  \\\n",
       "0                    0  ...                 2              2   \n",
       "1                    0  ...                 5              5   \n",
       "2                    0  ...                11             11   \n",
       "3                    0  ...                14             14   \n",
       "4                    0  ...                17             17   \n",
       "..                 ...  ...               ...            ...   \n",
       "569           57091306  ...             16556          -3309   \n",
       "570           57633028  ...             16299          -2707   \n",
       "571           58110270  ...             16118          -2120   \n",
       "572           58553667  ...             15538          -2029   \n",
       "573           58617761  ...             15024          -1971   \n",
       "\n",
       "     delta7_recovered  delta7_deaths  delta7_tested  delta7_vaccinated1  \\\n",
       "0                   0              0              0                   0   \n",
       "1                   0              0              0                   0   \n",
       "2                   0              0              0                   0   \n",
       "3                   0              0              0                   0   \n",
       "4                   0              0              0                   0   \n",
       "..                ...            ...            ...                 ...   \n",
       "569             19501            347        1408677             2729841   \n",
       "570             18649            342        1093459             2820452   \n",
       "571             17880            341        1091179             3013433   \n",
       "572             17219            332        1082650             3140902   \n",
       "573             16643            336        1064263             3074610   \n",
       "\n",
       "     delta7_vaccinated2  total_other  delta_other  delta7_other  \n",
       "0                     0            0            0             0  \n",
       "1                     0            0            0             0  \n",
       "2                     0            0            0             0  \n",
       "3                     0            0            0             0  \n",
       "4                     0            0            0             0  \n",
       "..                  ...          ...          ...           ...  \n",
       "569             2110890         3577            4            17  \n",
       "570             2153323         3577            0            15  \n",
       "571             2263721         3581            4            17  \n",
       "572             2288397         3582            1            16  \n",
       "573             2251363         3584            2            16  \n",
       "\n",
       "[574 rows x 28 columns]"
      ]
     },
     "execution_count": 6,
     "metadata": {},
     "output_type": "execute_result"
    }
   ],
   "source": [
    "maharashtra_data"
   ]
  },
  {
   "cell_type": "code",
   "execution_count": 7,
   "id": "turkish-september",
   "metadata": {},
   "outputs": [],
   "source": [
    "sql=\"SELECT * FROM total_district_cases WHERE district_name='Raigad'\"\n",
    "query.execute(sql)\n",
    "result=query.fetchall()\n",
    "column=[columns[0] for columns in query.description]\n",
    "raigad_data=pandas.DataFrame(result,columns=column)"
   ]
  },
  {
   "cell_type": "code",
   "execution_count": 8,
   "id": "constitutional-parameter",
   "metadata": {},
   "outputs": [
    {
     "data": {
      "text/html": [
       "<div>\n",
       "<style scoped>\n",
       "    .dataframe tbody tr th:only-of-type {\n",
       "        vertical-align: middle;\n",
       "    }\n",
       "\n",
       "    .dataframe tbody tr th {\n",
       "        vertical-align: top;\n",
       "    }\n",
       "\n",
       "    .dataframe thead th {\n",
       "        text-align: right;\n",
       "    }\n",
       "</style>\n",
       "<table border=\"1\" class=\"dataframe\">\n",
       "  <thead>\n",
       "    <tr style=\"text-align: right;\">\n",
       "      <th></th>\n",
       "      <th>index_no</th>\n",
       "      <th>date</th>\n",
       "      <th>ordinal_date</th>\n",
       "      <th>state_name</th>\n",
       "      <th>district_name</th>\n",
       "      <th>total_confirmed</th>\n",
       "      <th>total_active</th>\n",
       "      <th>total_recovered</th>\n",
       "      <th>total_deaths</th>\n",
       "      <th>delta_confirmed</th>\n",
       "      <th>...</th>\n",
       "      <th>delta7_deaths</th>\n",
       "      <th>total_vaccinated1</th>\n",
       "      <th>total_vaccinated2</th>\n",
       "      <th>delta_vaccinated1</th>\n",
       "      <th>delta_vaccinated2</th>\n",
       "      <th>delta7_vaccinated1</th>\n",
       "      <th>delta7_vaccinated2</th>\n",
       "      <th>total_other</th>\n",
       "      <th>delta_other</th>\n",
       "      <th>delta7_other</th>\n",
       "    </tr>\n",
       "  </thead>\n",
       "  <tbody>\n",
       "    <tr>\n",
       "      <th>0</th>\n",
       "      <td>19918</td>\n",
       "      <td>2020-04-26</td>\n",
       "      <td>737541</td>\n",
       "      <td>MH</td>\n",
       "      <td>Raigad</td>\n",
       "      <td>57</td>\n",
       "      <td>36</td>\n",
       "      <td>20</td>\n",
       "      <td>1</td>\n",
       "      <td>0</td>\n",
       "      <td>...</td>\n",
       "      <td>0</td>\n",
       "      <td>0</td>\n",
       "      <td>0</td>\n",
       "      <td>0</td>\n",
       "      <td>0</td>\n",
       "      <td>0</td>\n",
       "      <td>0</td>\n",
       "      <td>0</td>\n",
       "      <td>0</td>\n",
       "      <td>0</td>\n",
       "    </tr>\n",
       "    <tr>\n",
       "      <th>1</th>\n",
       "      <td>20334</td>\n",
       "      <td>2020-04-27</td>\n",
       "      <td>737542</td>\n",
       "      <td>MH</td>\n",
       "      <td>Raigad</td>\n",
       "      <td>61</td>\n",
       "      <td>39</td>\n",
       "      <td>21</td>\n",
       "      <td>1</td>\n",
       "      <td>4</td>\n",
       "      <td>...</td>\n",
       "      <td>0</td>\n",
       "      <td>0</td>\n",
       "      <td>0</td>\n",
       "      <td>0</td>\n",
       "      <td>0</td>\n",
       "      <td>0</td>\n",
       "      <td>0</td>\n",
       "      <td>0</td>\n",
       "      <td>0</td>\n",
       "      <td>0</td>\n",
       "    </tr>\n",
       "    <tr>\n",
       "      <th>2</th>\n",
       "      <td>20759</td>\n",
       "      <td>2020-04-28</td>\n",
       "      <td>737543</td>\n",
       "      <td>MH</td>\n",
       "      <td>Raigad</td>\n",
       "      <td>66</td>\n",
       "      <td>44</td>\n",
       "      <td>21</td>\n",
       "      <td>1</td>\n",
       "      <td>5</td>\n",
       "      <td>...</td>\n",
       "      <td>0</td>\n",
       "      <td>0</td>\n",
       "      <td>0</td>\n",
       "      <td>0</td>\n",
       "      <td>0</td>\n",
       "      <td>0</td>\n",
       "      <td>0</td>\n",
       "      <td>0</td>\n",
       "      <td>0</td>\n",
       "      <td>0</td>\n",
       "    </tr>\n",
       "    <tr>\n",
       "      <th>3</th>\n",
       "      <td>21189</td>\n",
       "      <td>2020-04-29</td>\n",
       "      <td>737544</td>\n",
       "      <td>MH</td>\n",
       "      <td>Raigad</td>\n",
       "      <td>69</td>\n",
       "      <td>44</td>\n",
       "      <td>23</td>\n",
       "      <td>2</td>\n",
       "      <td>3</td>\n",
       "      <td>...</td>\n",
       "      <td>1</td>\n",
       "      <td>0</td>\n",
       "      <td>0</td>\n",
       "      <td>0</td>\n",
       "      <td>0</td>\n",
       "      <td>0</td>\n",
       "      <td>0</td>\n",
       "      <td>0</td>\n",
       "      <td>0</td>\n",
       "      <td>0</td>\n",
       "    </tr>\n",
       "    <tr>\n",
       "      <th>4</th>\n",
       "      <td>21623</td>\n",
       "      <td>2020-04-30</td>\n",
       "      <td>737545</td>\n",
       "      <td>MH</td>\n",
       "      <td>Raigad</td>\n",
       "      <td>71</td>\n",
       "      <td>44</td>\n",
       "      <td>24</td>\n",
       "      <td>3</td>\n",
       "      <td>2</td>\n",
       "      <td>...</td>\n",
       "      <td>2</td>\n",
       "      <td>0</td>\n",
       "      <td>0</td>\n",
       "      <td>0</td>\n",
       "      <td>0</td>\n",
       "      <td>0</td>\n",
       "      <td>0</td>\n",
       "      <td>0</td>\n",
       "      <td>0</td>\n",
       "      <td>0</td>\n",
       "    </tr>\n",
       "    <tr>\n",
       "      <th>...</th>\n",
       "      <td>...</td>\n",
       "      <td>...</td>\n",
       "      <td>...</td>\n",
       "      <td>...</td>\n",
       "      <td>...</td>\n",
       "      <td>...</td>\n",
       "      <td>...</td>\n",
       "      <td>...</td>\n",
       "      <td>...</td>\n",
       "      <td>...</td>\n",
       "      <td>...</td>\n",
       "      <td>...</td>\n",
       "      <td>...</td>\n",
       "      <td>...</td>\n",
       "      <td>...</td>\n",
       "      <td>...</td>\n",
       "      <td>...</td>\n",
       "      <td>...</td>\n",
       "      <td>...</td>\n",
       "      <td>...</td>\n",
       "      <td>...</td>\n",
       "    </tr>\n",
       "    <tr>\n",
       "      <th>521</th>\n",
       "      <td>379646</td>\n",
       "      <td>2021-09-29</td>\n",
       "      <td>738062</td>\n",
       "      <td>MH</td>\n",
       "      <td>Raigad</td>\n",
       "      <td>192684</td>\n",
       "      <td>1070</td>\n",
       "      <td>187098</td>\n",
       "      <td>4509</td>\n",
       "      <td>157</td>\n",
       "      <td>...</td>\n",
       "      <td>6</td>\n",
       "      <td>1497575</td>\n",
       "      <td>596105</td>\n",
       "      <td>45182</td>\n",
       "      <td>16086</td>\n",
       "      <td>112372</td>\n",
       "      <td>59902</td>\n",
       "      <td>7</td>\n",
       "      <td>0</td>\n",
       "      <td>0</td>\n",
       "    </tr>\n",
       "    <tr>\n",
       "      <th>522</th>\n",
       "      <td>380393</td>\n",
       "      <td>2021-09-30</td>\n",
       "      <td>738063</td>\n",
       "      <td>MH</td>\n",
       "      <td>Raigad</td>\n",
       "      <td>192810</td>\n",
       "      <td>1077</td>\n",
       "      <td>187216</td>\n",
       "      <td>4510</td>\n",
       "      <td>126</td>\n",
       "      <td>...</td>\n",
       "      <td>6</td>\n",
       "      <td>1523225</td>\n",
       "      <td>605831</td>\n",
       "      <td>25650</td>\n",
       "      <td>9726</td>\n",
       "      <td>131856</td>\n",
       "      <td>64441</td>\n",
       "      <td>7</td>\n",
       "      <td>0</td>\n",
       "      <td>0</td>\n",
       "    </tr>\n",
       "    <tr>\n",
       "      <th>523</th>\n",
       "      <td>381140</td>\n",
       "      <td>2021-10-01</td>\n",
       "      <td>738064</td>\n",
       "      <td>MH</td>\n",
       "      <td>Raigad</td>\n",
       "      <td>192930</td>\n",
       "      <td>977</td>\n",
       "      <td>187435</td>\n",
       "      <td>4511</td>\n",
       "      <td>120</td>\n",
       "      <td>...</td>\n",
       "      <td>7</td>\n",
       "      <td>1551617</td>\n",
       "      <td>615525</td>\n",
       "      <td>28392</td>\n",
       "      <td>9694</td>\n",
       "      <td>157100</td>\n",
       "      <td>70365</td>\n",
       "      <td>7</td>\n",
       "      <td>0</td>\n",
       "      <td>0</td>\n",
       "    </tr>\n",
       "    <tr>\n",
       "      <th>524</th>\n",
       "      <td>381887</td>\n",
       "      <td>2021-10-02</td>\n",
       "      <td>738065</td>\n",
       "      <td>MH</td>\n",
       "      <td>Raigad</td>\n",
       "      <td>193070</td>\n",
       "      <td>836</td>\n",
       "      <td>187715</td>\n",
       "      <td>4512</td>\n",
       "      <td>140</td>\n",
       "      <td>...</td>\n",
       "      <td>6</td>\n",
       "      <td>1567578</td>\n",
       "      <td>625129</td>\n",
       "      <td>15961</td>\n",
       "      <td>9604</td>\n",
       "      <td>133527</td>\n",
       "      <td>60062</td>\n",
       "      <td>7</td>\n",
       "      <td>0</td>\n",
       "      <td>0</td>\n",
       "    </tr>\n",
       "    <tr>\n",
       "      <th>525</th>\n",
       "      <td>382634</td>\n",
       "      <td>2021-10-03</td>\n",
       "      <td>738066</td>\n",
       "      <td>MH</td>\n",
       "      <td>Raigad</td>\n",
       "      <td>193192</td>\n",
       "      <td>854</td>\n",
       "      <td>187819</td>\n",
       "      <td>4512</td>\n",
       "      <td>122</td>\n",
       "      <td>...</td>\n",
       "      <td>6</td>\n",
       "      <td>1571674</td>\n",
       "      <td>627932</td>\n",
       "      <td>4096</td>\n",
       "      <td>2803</td>\n",
       "      <td>132433</td>\n",
       "      <td>59829</td>\n",
       "      <td>7</td>\n",
       "      <td>0</td>\n",
       "      <td>0</td>\n",
       "    </tr>\n",
       "  </tbody>\n",
       "</table>\n",
       "<p>526 rows × 26 columns</p>\n",
       "</div>"
      ],
      "text/plain": [
       "     index_no        date  ordinal_date state_name district_name  \\\n",
       "0       19918  2020-04-26        737541         MH        Raigad   \n",
       "1       20334  2020-04-27        737542         MH        Raigad   \n",
       "2       20759  2020-04-28        737543         MH        Raigad   \n",
       "3       21189  2020-04-29        737544         MH        Raigad   \n",
       "4       21623  2020-04-30        737545         MH        Raigad   \n",
       "..        ...         ...           ...        ...           ...   \n",
       "521    379646  2021-09-29        738062         MH        Raigad   \n",
       "522    380393  2021-09-30        738063         MH        Raigad   \n",
       "523    381140  2021-10-01        738064         MH        Raigad   \n",
       "524    381887  2021-10-02        738065         MH        Raigad   \n",
       "525    382634  2021-10-03        738066         MH        Raigad   \n",
       "\n",
       "     total_confirmed  total_active  total_recovered  total_deaths  \\\n",
       "0                 57            36               20             1   \n",
       "1                 61            39               21             1   \n",
       "2                 66            44               21             1   \n",
       "3                 69            44               23             2   \n",
       "4                 71            44               24             3   \n",
       "..               ...           ...              ...           ...   \n",
       "521           192684          1070           187098          4509   \n",
       "522           192810          1077           187216          4510   \n",
       "523           192930           977           187435          4511   \n",
       "524           193070           836           187715          4512   \n",
       "525           193192           854           187819          4512   \n",
       "\n",
       "     delta_confirmed  ...  delta7_deaths  total_vaccinated1  \\\n",
       "0                  0  ...              0                  0   \n",
       "1                  4  ...              0                  0   \n",
       "2                  5  ...              0                  0   \n",
       "3                  3  ...              1                  0   \n",
       "4                  2  ...              2                  0   \n",
       "..               ...  ...            ...                ...   \n",
       "521              157  ...              6            1497575   \n",
       "522              126  ...              6            1523225   \n",
       "523              120  ...              7            1551617   \n",
       "524              140  ...              6            1567578   \n",
       "525              122  ...              6            1571674   \n",
       "\n",
       "     total_vaccinated2  delta_vaccinated1  delta_vaccinated2  \\\n",
       "0                    0                  0                  0   \n",
       "1                    0                  0                  0   \n",
       "2                    0                  0                  0   \n",
       "3                    0                  0                  0   \n",
       "4                    0                  0                  0   \n",
       "..                 ...                ...                ...   \n",
       "521             596105              45182              16086   \n",
       "522             605831              25650               9726   \n",
       "523             615525              28392               9694   \n",
       "524             625129              15961               9604   \n",
       "525             627932               4096               2803   \n",
       "\n",
       "     delta7_vaccinated1  delta7_vaccinated2  total_other  delta_other  \\\n",
       "0                     0                   0            0            0   \n",
       "1                     0                   0            0            0   \n",
       "2                     0                   0            0            0   \n",
       "3                     0                   0            0            0   \n",
       "4                     0                   0            0            0   \n",
       "..                  ...                 ...          ...          ...   \n",
       "521              112372               59902            7            0   \n",
       "522              131856               64441            7            0   \n",
       "523              157100               70365            7            0   \n",
       "524              133527               60062            7            0   \n",
       "525              132433               59829            7            0   \n",
       "\n",
       "     delta7_other  \n",
       "0               0  \n",
       "1               0  \n",
       "2               0  \n",
       "3               0  \n",
       "4               0  \n",
       "..            ...  \n",
       "521             0  \n",
       "522             0  \n",
       "523             0  \n",
       "524             0  \n",
       "525             0  \n",
       "\n",
       "[526 rows x 26 columns]"
      ]
     },
     "execution_count": 8,
     "metadata": {},
     "output_type": "execute_result"
    }
   ],
   "source": [
    "raigad_data"
   ]
  },
  {
   "cell_type": "markdown",
   "id": "interior-occupation",
   "metadata": {},
   "source": [
    "## function for traintest_splitting and next 7 days ordinal_date creating"
   ]
  },
  {
   "cell_type": "code",
   "execution_count": 9,
   "id": "liberal-brand",
   "metadata": {},
   "outputs": [],
   "source": [
    "def splitting(data,training_ratio):\n",
    "    length=len(data)\n",
    "    traing_indexes=int(length*training_ratio)\n",
    "    training_set=data[:traing_indexes]\n",
    "    testing_set=data[traing_indexes:]\n",
    "    return training_set,testing_set"
   ]
  },
  {
   "cell_type": "code",
   "execution_count": 106,
   "id": "incoming-substitute",
   "metadata": {},
   "outputs": [],
   "source": [
    "def returnNext7days():\n",
    "    date=738066\n",
    "    date_range=[]\n",
    "    l=[]\n",
    "    for i in range(1,8):\n",
    "        l.append([date+i])\n",
    "        date_range.append(datetime.date.fromordinal(date+i))\n",
    "    return l,date_range\n",
    "predictingdate,daterange=returnNext7days()\n"
   ]
  },
  {
   "cell_type": "code",
   "execution_count": null,
   "id": "statutory-picnic",
   "metadata": {},
   "outputs": [],
   "source": []
  },
  {
   "cell_type": "markdown",
   "id": "acquired-fighter",
   "metadata": {},
   "source": [
    "## Train Test Splitting"
   ]
  },
  {
   "cell_type": "code",
   "execution_count": 11,
   "id": "killing-plaintiff",
   "metadata": {},
   "outputs": [],
   "source": [
    "# maindata=india_data\n",
    "# maindata=maharashtra_data\n",
    "maindata=raigad_data"
   ]
  },
  {
   "cell_type": "code",
   "execution_count": 12,
   "id": "turned-conditioning",
   "metadata": {},
   "outputs": [],
   "source": [
    "maindata_labels=maindata['delta_confirmed']"
   ]
  },
  {
   "cell_type": "code",
   "execution_count": 13,
   "id": "early-employment",
   "metadata": {},
   "outputs": [
    {
     "data": {
      "text/html": [
       "<div>\n",
       "<style scoped>\n",
       "    .dataframe tbody tr th:only-of-type {\n",
       "        vertical-align: middle;\n",
       "    }\n",
       "\n",
       "    .dataframe tbody tr th {\n",
       "        vertical-align: top;\n",
       "    }\n",
       "\n",
       "    .dataframe thead th {\n",
       "        text-align: right;\n",
       "    }\n",
       "</style>\n",
       "<table border=\"1\" class=\"dataframe\">\n",
       "  <thead>\n",
       "    <tr style=\"text-align: right;\">\n",
       "      <th></th>\n",
       "      <th>index_no</th>\n",
       "      <th>date</th>\n",
       "      <th>ordinal_date</th>\n",
       "      <th>state_name</th>\n",
       "      <th>district_name</th>\n",
       "      <th>total_confirmed</th>\n",
       "      <th>total_active</th>\n",
       "      <th>total_recovered</th>\n",
       "      <th>total_deaths</th>\n",
       "      <th>delta_confirmed</th>\n",
       "      <th>...</th>\n",
       "      <th>delta7_deaths</th>\n",
       "      <th>total_vaccinated1</th>\n",
       "      <th>total_vaccinated2</th>\n",
       "      <th>delta_vaccinated1</th>\n",
       "      <th>delta_vaccinated2</th>\n",
       "      <th>delta7_vaccinated1</th>\n",
       "      <th>delta7_vaccinated2</th>\n",
       "      <th>total_other</th>\n",
       "      <th>delta_other</th>\n",
       "      <th>delta7_other</th>\n",
       "    </tr>\n",
       "  </thead>\n",
       "  <tbody>\n",
       "    <tr>\n",
       "      <th>0</th>\n",
       "      <td>19918</td>\n",
       "      <td>2020-04-26</td>\n",
       "      <td>737541</td>\n",
       "      <td>MH</td>\n",
       "      <td>Raigad</td>\n",
       "      <td>57</td>\n",
       "      <td>36</td>\n",
       "      <td>20</td>\n",
       "      <td>1</td>\n",
       "      <td>0</td>\n",
       "      <td>...</td>\n",
       "      <td>0</td>\n",
       "      <td>0</td>\n",
       "      <td>0</td>\n",
       "      <td>0</td>\n",
       "      <td>0</td>\n",
       "      <td>0</td>\n",
       "      <td>0</td>\n",
       "      <td>0</td>\n",
       "      <td>0</td>\n",
       "      <td>0</td>\n",
       "    </tr>\n",
       "    <tr>\n",
       "      <th>1</th>\n",
       "      <td>20334</td>\n",
       "      <td>2020-04-27</td>\n",
       "      <td>737542</td>\n",
       "      <td>MH</td>\n",
       "      <td>Raigad</td>\n",
       "      <td>61</td>\n",
       "      <td>39</td>\n",
       "      <td>21</td>\n",
       "      <td>1</td>\n",
       "      <td>4</td>\n",
       "      <td>...</td>\n",
       "      <td>0</td>\n",
       "      <td>0</td>\n",
       "      <td>0</td>\n",
       "      <td>0</td>\n",
       "      <td>0</td>\n",
       "      <td>0</td>\n",
       "      <td>0</td>\n",
       "      <td>0</td>\n",
       "      <td>0</td>\n",
       "      <td>0</td>\n",
       "    </tr>\n",
       "    <tr>\n",
       "      <th>2</th>\n",
       "      <td>20759</td>\n",
       "      <td>2020-04-28</td>\n",
       "      <td>737543</td>\n",
       "      <td>MH</td>\n",
       "      <td>Raigad</td>\n",
       "      <td>66</td>\n",
       "      <td>44</td>\n",
       "      <td>21</td>\n",
       "      <td>1</td>\n",
       "      <td>5</td>\n",
       "      <td>...</td>\n",
       "      <td>0</td>\n",
       "      <td>0</td>\n",
       "      <td>0</td>\n",
       "      <td>0</td>\n",
       "      <td>0</td>\n",
       "      <td>0</td>\n",
       "      <td>0</td>\n",
       "      <td>0</td>\n",
       "      <td>0</td>\n",
       "      <td>0</td>\n",
       "    </tr>\n",
       "    <tr>\n",
       "      <th>3</th>\n",
       "      <td>21189</td>\n",
       "      <td>2020-04-29</td>\n",
       "      <td>737544</td>\n",
       "      <td>MH</td>\n",
       "      <td>Raigad</td>\n",
       "      <td>69</td>\n",
       "      <td>44</td>\n",
       "      <td>23</td>\n",
       "      <td>2</td>\n",
       "      <td>3</td>\n",
       "      <td>...</td>\n",
       "      <td>1</td>\n",
       "      <td>0</td>\n",
       "      <td>0</td>\n",
       "      <td>0</td>\n",
       "      <td>0</td>\n",
       "      <td>0</td>\n",
       "      <td>0</td>\n",
       "      <td>0</td>\n",
       "      <td>0</td>\n",
       "      <td>0</td>\n",
       "    </tr>\n",
       "    <tr>\n",
       "      <th>4</th>\n",
       "      <td>21623</td>\n",
       "      <td>2020-04-30</td>\n",
       "      <td>737545</td>\n",
       "      <td>MH</td>\n",
       "      <td>Raigad</td>\n",
       "      <td>71</td>\n",
       "      <td>44</td>\n",
       "      <td>24</td>\n",
       "      <td>3</td>\n",
       "      <td>2</td>\n",
       "      <td>...</td>\n",
       "      <td>2</td>\n",
       "      <td>0</td>\n",
       "      <td>0</td>\n",
       "      <td>0</td>\n",
       "      <td>0</td>\n",
       "      <td>0</td>\n",
       "      <td>0</td>\n",
       "      <td>0</td>\n",
       "      <td>0</td>\n",
       "      <td>0</td>\n",
       "    </tr>\n",
       "    <tr>\n",
       "      <th>...</th>\n",
       "      <td>...</td>\n",
       "      <td>...</td>\n",
       "      <td>...</td>\n",
       "      <td>...</td>\n",
       "      <td>...</td>\n",
       "      <td>...</td>\n",
       "      <td>...</td>\n",
       "      <td>...</td>\n",
       "      <td>...</td>\n",
       "      <td>...</td>\n",
       "      <td>...</td>\n",
       "      <td>...</td>\n",
       "      <td>...</td>\n",
       "      <td>...</td>\n",
       "      <td>...</td>\n",
       "      <td>...</td>\n",
       "      <td>...</td>\n",
       "      <td>...</td>\n",
       "      <td>...</td>\n",
       "      <td>...</td>\n",
       "      <td>...</td>\n",
       "    </tr>\n",
       "    <tr>\n",
       "      <th>521</th>\n",
       "      <td>379646</td>\n",
       "      <td>2021-09-29</td>\n",
       "      <td>738062</td>\n",
       "      <td>MH</td>\n",
       "      <td>Raigad</td>\n",
       "      <td>192684</td>\n",
       "      <td>1070</td>\n",
       "      <td>187098</td>\n",
       "      <td>4509</td>\n",
       "      <td>157</td>\n",
       "      <td>...</td>\n",
       "      <td>6</td>\n",
       "      <td>1497575</td>\n",
       "      <td>596105</td>\n",
       "      <td>45182</td>\n",
       "      <td>16086</td>\n",
       "      <td>112372</td>\n",
       "      <td>59902</td>\n",
       "      <td>7</td>\n",
       "      <td>0</td>\n",
       "      <td>0</td>\n",
       "    </tr>\n",
       "    <tr>\n",
       "      <th>522</th>\n",
       "      <td>380393</td>\n",
       "      <td>2021-09-30</td>\n",
       "      <td>738063</td>\n",
       "      <td>MH</td>\n",
       "      <td>Raigad</td>\n",
       "      <td>192810</td>\n",
       "      <td>1077</td>\n",
       "      <td>187216</td>\n",
       "      <td>4510</td>\n",
       "      <td>126</td>\n",
       "      <td>...</td>\n",
       "      <td>6</td>\n",
       "      <td>1523225</td>\n",
       "      <td>605831</td>\n",
       "      <td>25650</td>\n",
       "      <td>9726</td>\n",
       "      <td>131856</td>\n",
       "      <td>64441</td>\n",
       "      <td>7</td>\n",
       "      <td>0</td>\n",
       "      <td>0</td>\n",
       "    </tr>\n",
       "    <tr>\n",
       "      <th>523</th>\n",
       "      <td>381140</td>\n",
       "      <td>2021-10-01</td>\n",
       "      <td>738064</td>\n",
       "      <td>MH</td>\n",
       "      <td>Raigad</td>\n",
       "      <td>192930</td>\n",
       "      <td>977</td>\n",
       "      <td>187435</td>\n",
       "      <td>4511</td>\n",
       "      <td>120</td>\n",
       "      <td>...</td>\n",
       "      <td>7</td>\n",
       "      <td>1551617</td>\n",
       "      <td>615525</td>\n",
       "      <td>28392</td>\n",
       "      <td>9694</td>\n",
       "      <td>157100</td>\n",
       "      <td>70365</td>\n",
       "      <td>7</td>\n",
       "      <td>0</td>\n",
       "      <td>0</td>\n",
       "    </tr>\n",
       "    <tr>\n",
       "      <th>524</th>\n",
       "      <td>381887</td>\n",
       "      <td>2021-10-02</td>\n",
       "      <td>738065</td>\n",
       "      <td>MH</td>\n",
       "      <td>Raigad</td>\n",
       "      <td>193070</td>\n",
       "      <td>836</td>\n",
       "      <td>187715</td>\n",
       "      <td>4512</td>\n",
       "      <td>140</td>\n",
       "      <td>...</td>\n",
       "      <td>6</td>\n",
       "      <td>1567578</td>\n",
       "      <td>625129</td>\n",
       "      <td>15961</td>\n",
       "      <td>9604</td>\n",
       "      <td>133527</td>\n",
       "      <td>60062</td>\n",
       "      <td>7</td>\n",
       "      <td>0</td>\n",
       "      <td>0</td>\n",
       "    </tr>\n",
       "    <tr>\n",
       "      <th>525</th>\n",
       "      <td>382634</td>\n",
       "      <td>2021-10-03</td>\n",
       "      <td>738066</td>\n",
       "      <td>MH</td>\n",
       "      <td>Raigad</td>\n",
       "      <td>193192</td>\n",
       "      <td>854</td>\n",
       "      <td>187819</td>\n",
       "      <td>4512</td>\n",
       "      <td>122</td>\n",
       "      <td>...</td>\n",
       "      <td>6</td>\n",
       "      <td>1571674</td>\n",
       "      <td>627932</td>\n",
       "      <td>4096</td>\n",
       "      <td>2803</td>\n",
       "      <td>132433</td>\n",
       "      <td>59829</td>\n",
       "      <td>7</td>\n",
       "      <td>0</td>\n",
       "      <td>0</td>\n",
       "    </tr>\n",
       "  </tbody>\n",
       "</table>\n",
       "<p>526 rows × 26 columns</p>\n",
       "</div>"
      ],
      "text/plain": [
       "     index_no        date  ordinal_date state_name district_name  \\\n",
       "0       19918  2020-04-26        737541         MH        Raigad   \n",
       "1       20334  2020-04-27        737542         MH        Raigad   \n",
       "2       20759  2020-04-28        737543         MH        Raigad   \n",
       "3       21189  2020-04-29        737544         MH        Raigad   \n",
       "4       21623  2020-04-30        737545         MH        Raigad   \n",
       "..        ...         ...           ...        ...           ...   \n",
       "521    379646  2021-09-29        738062         MH        Raigad   \n",
       "522    380393  2021-09-30        738063         MH        Raigad   \n",
       "523    381140  2021-10-01        738064         MH        Raigad   \n",
       "524    381887  2021-10-02        738065         MH        Raigad   \n",
       "525    382634  2021-10-03        738066         MH        Raigad   \n",
       "\n",
       "     total_confirmed  total_active  total_recovered  total_deaths  \\\n",
       "0                 57            36               20             1   \n",
       "1                 61            39               21             1   \n",
       "2                 66            44               21             1   \n",
       "3                 69            44               23             2   \n",
       "4                 71            44               24             3   \n",
       "..               ...           ...              ...           ...   \n",
       "521           192684          1070           187098          4509   \n",
       "522           192810          1077           187216          4510   \n",
       "523           192930           977           187435          4511   \n",
       "524           193070           836           187715          4512   \n",
       "525           193192           854           187819          4512   \n",
       "\n",
       "     delta_confirmed  ...  delta7_deaths  total_vaccinated1  \\\n",
       "0                  0  ...              0                  0   \n",
       "1                  4  ...              0                  0   \n",
       "2                  5  ...              0                  0   \n",
       "3                  3  ...              1                  0   \n",
       "4                  2  ...              2                  0   \n",
       "..               ...  ...            ...                ...   \n",
       "521              157  ...              6            1497575   \n",
       "522              126  ...              6            1523225   \n",
       "523              120  ...              7            1551617   \n",
       "524              140  ...              6            1567578   \n",
       "525              122  ...              6            1571674   \n",
       "\n",
       "     total_vaccinated2  delta_vaccinated1  delta_vaccinated2  \\\n",
       "0                    0                  0                  0   \n",
       "1                    0                  0                  0   \n",
       "2                    0                  0                  0   \n",
       "3                    0                  0                  0   \n",
       "4                    0                  0                  0   \n",
       "..                 ...                ...                ...   \n",
       "521             596105              45182              16086   \n",
       "522             605831              25650               9726   \n",
       "523             615525              28392               9694   \n",
       "524             625129              15961               9604   \n",
       "525             627932               4096               2803   \n",
       "\n",
       "     delta7_vaccinated1  delta7_vaccinated2  total_other  delta_other  \\\n",
       "0                     0                   0            0            0   \n",
       "1                     0                   0            0            0   \n",
       "2                     0                   0            0            0   \n",
       "3                     0                   0            0            0   \n",
       "4                     0                   0            0            0   \n",
       "..                  ...                 ...          ...          ...   \n",
       "521              112372               59902            7            0   \n",
       "522              131856               64441            7            0   \n",
       "523              157100               70365            7            0   \n",
       "524              133527               60062            7            0   \n",
       "525              132433               59829            7            0   \n",
       "\n",
       "     delta7_other  \n",
       "0               0  \n",
       "1               0  \n",
       "2               0  \n",
       "3               0  \n",
       "4               0  \n",
       "..            ...  \n",
       "521             0  \n",
       "522             0  \n",
       "523             0  \n",
       "524             0  \n",
       "525             0  \n",
       "\n",
       "[526 rows x 26 columns]"
      ]
     },
     "execution_count": 13,
     "metadata": {},
     "output_type": "execute_result"
    }
   ],
   "source": [
    "maindata"
   ]
  },
  {
   "cell_type": "code",
   "execution_count": 14,
   "id": "phantom-visibility",
   "metadata": {},
   "outputs": [],
   "source": [
    "train_data,test_data=splitting(maindata,0.98)"
   ]
  },
  {
   "cell_type": "code",
   "execution_count": 15,
   "id": "gorgeous-kingston",
   "metadata": {},
   "outputs": [],
   "source": [
    "train_labels=train_data['delta_confirmed']\n",
    "# train_labels=train_data['total_confirmed']"
   ]
  },
  {
   "cell_type": "code",
   "execution_count": 16,
   "id": "bizarre-formation",
   "metadata": {},
   "outputs": [],
   "source": [
    "# india_train_labels"
   ]
  },
  {
   "cell_type": "code",
   "execution_count": 17,
   "id": "brilliant-pointer",
   "metadata": {},
   "outputs": [],
   "source": [
    "train_features=train_data[['ordinal_date']]\n",
    "# train_fetures=train_data[['ordinal_date','delta_tested']]"
   ]
  },
  {
   "cell_type": "code",
   "execution_count": 18,
   "id": "single-gates",
   "metadata": {},
   "outputs": [
    {
     "data": {
      "text/html": [
       "<div>\n",
       "<style scoped>\n",
       "    .dataframe tbody tr th:only-of-type {\n",
       "        vertical-align: middle;\n",
       "    }\n",
       "\n",
       "    .dataframe tbody tr th {\n",
       "        vertical-align: top;\n",
       "    }\n",
       "\n",
       "    .dataframe thead th {\n",
       "        text-align: right;\n",
       "    }\n",
       "</style>\n",
       "<table border=\"1\" class=\"dataframe\">\n",
       "  <thead>\n",
       "    <tr style=\"text-align: right;\">\n",
       "      <th></th>\n",
       "      <th>ordinal_date</th>\n",
       "    </tr>\n",
       "  </thead>\n",
       "  <tbody>\n",
       "    <tr>\n",
       "      <th>0</th>\n",
       "      <td>737541</td>\n",
       "    </tr>\n",
       "    <tr>\n",
       "      <th>1</th>\n",
       "      <td>737542</td>\n",
       "    </tr>\n",
       "    <tr>\n",
       "      <th>2</th>\n",
       "      <td>737543</td>\n",
       "    </tr>\n",
       "    <tr>\n",
       "      <th>3</th>\n",
       "      <td>737544</td>\n",
       "    </tr>\n",
       "    <tr>\n",
       "      <th>4</th>\n",
       "      <td>737545</td>\n",
       "    </tr>\n",
       "    <tr>\n",
       "      <th>...</th>\n",
       "      <td>...</td>\n",
       "    </tr>\n",
       "    <tr>\n",
       "      <th>510</th>\n",
       "      <td>738051</td>\n",
       "    </tr>\n",
       "    <tr>\n",
       "      <th>511</th>\n",
       "      <td>738052</td>\n",
       "    </tr>\n",
       "    <tr>\n",
       "      <th>512</th>\n",
       "      <td>738053</td>\n",
       "    </tr>\n",
       "    <tr>\n",
       "      <th>513</th>\n",
       "      <td>738054</td>\n",
       "    </tr>\n",
       "    <tr>\n",
       "      <th>514</th>\n",
       "      <td>738055</td>\n",
       "    </tr>\n",
       "  </tbody>\n",
       "</table>\n",
       "<p>515 rows × 1 columns</p>\n",
       "</div>"
      ],
      "text/plain": [
       "     ordinal_date\n",
       "0          737541\n",
       "1          737542\n",
       "2          737543\n",
       "3          737544\n",
       "4          737545\n",
       "..            ...\n",
       "510        738051\n",
       "511        738052\n",
       "512        738053\n",
       "513        738054\n",
       "514        738055\n",
       "\n",
       "[515 rows x 1 columns]"
      ]
     },
     "execution_count": 18,
     "metadata": {},
     "output_type": "execute_result"
    }
   ],
   "source": [
    "train_features"
   ]
  },
  {
   "cell_type": "code",
   "execution_count": 19,
   "id": "sonic-tuition",
   "metadata": {},
   "outputs": [],
   "source": [
    "# train_labels"
   ]
  },
  {
   "cell_type": "code",
   "execution_count": 20,
   "id": "original-advance",
   "metadata": {},
   "outputs": [],
   "source": [
    "test_labels=test_data['delta_confirmed']\n",
    "# test_labels=test_data['total_confirmed']"
   ]
  },
  {
   "cell_type": "code",
   "execution_count": 21,
   "id": "innocent-barcelona",
   "metadata": {},
   "outputs": [],
   "source": [
    "# test_labels"
   ]
  },
  {
   "cell_type": "code",
   "execution_count": 22,
   "id": "figured-receiver",
   "metadata": {},
   "outputs": [],
   "source": [
    "test_features=test_data[['ordinal_date']]\n",
    "# test_features=test_data[['ordinal_date','delta_tested']]"
   ]
  },
  {
   "cell_type": "code",
   "execution_count": 23,
   "id": "negative-bahamas",
   "metadata": {},
   "outputs": [],
   "source": [
    "# test_features"
   ]
  },
  {
   "cell_type": "code",
   "execution_count": null,
   "id": "pressing-exclusive",
   "metadata": {},
   "outputs": [],
   "source": []
  },
  {
   "cell_type": "code",
   "execution_count": 24,
   "id": "powerful-parameter",
   "metadata": {},
   "outputs": [],
   "source": [
    "# print(predictingdate)\n",
    "# print(daterange)"
   ]
  },
  {
   "cell_type": "code",
   "execution_count": null,
   "id": "aggregate-federal",
   "metadata": {},
   "outputs": [],
   "source": []
  },
  {
   "cell_type": "markdown",
   "id": "intensive-spending",
   "metadata": {},
   "source": [
    "## Model Implementation \n",
    "1. Linear Regression\n",
    "2. Random Forest Regression\n",
    "3. Decision Tree Regression\n",
    "4. Extra Tree Regression"
   ]
  },
  {
   "cell_type": "code",
   "execution_count": 28,
   "id": "aboriginal-jewelry",
   "metadata": {},
   "outputs": [],
   "source": [
    "linear_regression_model=LinearRegression()\n",
    "random_forest_model=RandomForestRegressor()\n",
    "decision_tree_model=DecisionTreeRegressor()\n",
    "extra_tree_model=ExtraTreeRegressor()"
   ]
  },
  {
   "cell_type": "code",
   "execution_count": null,
   "id": "coordinate-sharp",
   "metadata": {},
   "outputs": [],
   "source": []
  },
  {
   "cell_type": "markdown",
   "id": "passing-japanese",
   "metadata": {},
   "source": [
    "#### Linear regression"
   ]
  },
  {
   "cell_type": "code",
   "execution_count": 29,
   "id": "martial-snake",
   "metadata": {},
   "outputs": [
    {
     "data": {
      "text/plain": [
       "LinearRegression()"
      ]
     },
     "execution_count": 29,
     "metadata": {},
     "output_type": "execute_result"
    }
   ],
   "source": [
    "linear_regression_model.fit(train_features,train_labels)"
   ]
  },
  {
   "cell_type": "code",
   "execution_count": 30,
   "id": "loose-fluid",
   "metadata": {},
   "outputs": [],
   "source": [
    "linear_regression_model_train_predicted=linear_regression_model.predict(train_features)"
   ]
  },
  {
   "cell_type": "code",
   "execution_count": 31,
   "id": "random-madness",
   "metadata": {},
   "outputs": [],
   "source": [
    "# linear_regression_model_train_predicted"
   ]
  },
  {
   "cell_type": "code",
   "execution_count": 32,
   "id": "productive-radar",
   "metadata": {},
   "outputs": [],
   "source": [
    "linear_regression_model_test_predicted=linear_regression_model.predict(test_features)"
   ]
  },
  {
   "cell_type": "code",
   "execution_count": 33,
   "id": "attempted-soldier",
   "metadata": {},
   "outputs": [],
   "source": [
    "# linear_regression_model_test_predicted"
   ]
  },
  {
   "cell_type": "code",
   "execution_count": 34,
   "id": "photographic-poetry",
   "metadata": {},
   "outputs": [],
   "source": [
    "linear_regression_model_next_7_days_predicted=linear_regression_model.predict(predictingdate)"
   ]
  },
  {
   "cell_type": "code",
   "execution_count": 147,
   "id": "nominated-programming",
   "metadata": {},
   "outputs": [],
   "source": [
    "# linear_regression_model_next_7_days_predicted"
   ]
  },
  {
   "cell_type": "code",
   "execution_count": 148,
   "id": "earlier-terrorist",
   "metadata": {},
   "outputs": [],
   "source": [
    "pyplot.figure('linear regression')\n",
    "line_of_regression=numpy.concatenate((linear_regression_model_train_predicted,linear_regression_model_test_predicted))\n",
    "pyplot.plot(maindata['date'],maindata_labels,label='Original Data')\n",
    "pyplot.plot(maindata['date'],line_of_regression,label='Line of Regression')\n",
    "pyplot.plot(train_data['date'],linear_regression_model_train_predicted,label='Train Data')\n",
    "pyplot.plot(test_data['date'],linear_regression_model_test_predicted,label='Test Data')\n",
    "pyplot.plot(daterange,linear_regression_model_next_7_days_predicted,label='Future Prediction')\n",
    "pyplot.legend()\n",
    "pyplot.show()"
   ]
  },
  {
   "cell_type": "code",
   "execution_count": null,
   "id": "given-soldier",
   "metadata": {},
   "outputs": [],
   "source": []
  },
  {
   "cell_type": "markdown",
   "id": "infinite-commission",
   "metadata": {},
   "source": [
    "#### Ramdom Forest Regression regression"
   ]
  },
  {
   "cell_type": "code",
   "execution_count": 35,
   "id": "amended-velvet",
   "metadata": {},
   "outputs": [
    {
     "data": {
      "text/plain": [
       "RandomForestRegressor()"
      ]
     },
     "execution_count": 35,
     "metadata": {},
     "output_type": "execute_result"
    }
   ],
   "source": [
    "random_forest_model.fit(train_features,train_labels)"
   ]
  },
  {
   "cell_type": "code",
   "execution_count": 36,
   "id": "opened-trademark",
   "metadata": {},
   "outputs": [],
   "source": [
    "random_forest_model_train_predicted=random_forest_model.predict(train_features)"
   ]
  },
  {
   "cell_type": "code",
   "execution_count": 37,
   "id": "biblical-indianapolis",
   "metadata": {},
   "outputs": [],
   "source": [
    "# random_forest_model_train_predicted"
   ]
  },
  {
   "cell_type": "code",
   "execution_count": 38,
   "id": "prostate-company",
   "metadata": {},
   "outputs": [],
   "source": [
    "random_forest_model_test_predicted=random_forest_model.predict(test_features)"
   ]
  },
  {
   "cell_type": "code",
   "execution_count": 39,
   "id": "renewable-message",
   "metadata": {},
   "outputs": [],
   "source": [
    "# random_forest_model_test_predicted"
   ]
  },
  {
   "cell_type": "code",
   "execution_count": 40,
   "id": "wanted-messenger",
   "metadata": {},
   "outputs": [],
   "source": [
    "random_forest_model_next_7_days_predicted=random_forest_model.predict(predictingdate)"
   ]
  },
  {
   "cell_type": "code",
   "execution_count": 155,
   "id": "severe-benchmark",
   "metadata": {},
   "outputs": [],
   "source": [
    "# random_forest_model_next_7_days_predicted"
   ]
  },
  {
   "cell_type": "code",
   "execution_count": 156,
   "id": "classified-introduction",
   "metadata": {},
   "outputs": [],
   "source": [
    "pyplot.figure('random forest regression')\n",
    "pyplot.plot(maindata['date'],maindata_labels,label='Original Data')\n",
    "pyplot.plot(train_data['date'],random_forest_model_train_predicted,label='Train Data')\n",
    "pyplot.plot(test_data['date'],random_forest_model_test_predicted,label='Test Data')\n",
    "pyplot.plot(daterange,random_forest_model_next_7_days_predicted,label='Future Prediction')\n",
    "pyplot.legend()\n",
    "pyplot.show()"
   ]
  },
  {
   "cell_type": "code",
   "execution_count": null,
   "id": "further-format",
   "metadata": {},
   "outputs": [],
   "source": []
  },
  {
   "cell_type": "markdown",
   "id": "serious-wagner",
   "metadata": {},
   "source": [
    "#### Decision Tree regression"
   ]
  },
  {
   "cell_type": "code",
   "execution_count": 41,
   "id": "herbal-truck",
   "metadata": {},
   "outputs": [
    {
     "data": {
      "text/plain": [
       "DecisionTreeRegressor()"
      ]
     },
     "execution_count": 41,
     "metadata": {},
     "output_type": "execute_result"
    }
   ],
   "source": [
    "decision_tree_model.fit(train_features,train_labels)"
   ]
  },
  {
   "cell_type": "code",
   "execution_count": 42,
   "id": "current-admission",
   "metadata": {},
   "outputs": [],
   "source": [
    "decision_tree_model_train_predicted=decision_tree_model.predict(train_features)"
   ]
  },
  {
   "cell_type": "code",
   "execution_count": 43,
   "id": "atomic-terror",
   "metadata": {},
   "outputs": [],
   "source": [
    "# decision_tree_model_train_predicted"
   ]
  },
  {
   "cell_type": "code",
   "execution_count": 44,
   "id": "several-supervisor",
   "metadata": {},
   "outputs": [],
   "source": [
    "decision_tree_model_test_predicted=decision_tree_model.predict(test_features)"
   ]
  },
  {
   "cell_type": "code",
   "execution_count": 45,
   "id": "marine-verse",
   "metadata": {},
   "outputs": [],
   "source": [
    "# decision_tree_model_test_predicted"
   ]
  },
  {
   "cell_type": "code",
   "execution_count": 46,
   "id": "anonymous-architecture",
   "metadata": {},
   "outputs": [],
   "source": [
    "decision_tree_model_next_y_days_predicted=decision_tree_model.predict(predictingdate)"
   ]
  },
  {
   "cell_type": "code",
   "execution_count": 163,
   "id": "unusual-solomon",
   "metadata": {},
   "outputs": [],
   "source": [
    "# decision_tree_model_next_y_days_predicted"
   ]
  },
  {
   "cell_type": "code",
   "execution_count": 49,
   "id": "nervous-nature",
   "metadata": {},
   "outputs": [],
   "source": [
    "pyplot.figure('Decision tree regression')\n",
    "pyplot.plot(maindata['date'],maindata_labels,label='Original Data')\n",
    "pyplot.plot(train_data['date'],decision_tree_model_train_predicted,label='Train Data')\n",
    "pyplot.plot(test_data['date'],decision_tree_model_test_predicted,label='Test Data')\n",
    "pyplot.plot(daterange,decision_tree_model_next_y_days_predicted,label='Future Prediction')\n",
    "pyplot.legend()\n",
    "pyplot.show()"
   ]
  },
  {
   "cell_type": "code",
   "execution_count": null,
   "id": "dated-stock",
   "metadata": {},
   "outputs": [],
   "source": []
  },
  {
   "cell_type": "markdown",
   "id": "minimal-nursing",
   "metadata": {},
   "source": [
    "#### Extra Tree regression"
   ]
  },
  {
   "cell_type": "code",
   "execution_count": 47,
   "id": "helpful-adobe",
   "metadata": {},
   "outputs": [
    {
     "data": {
      "text/plain": [
       "ExtraTreeRegressor()"
      ]
     },
     "execution_count": 47,
     "metadata": {},
     "output_type": "execute_result"
    }
   ],
   "source": [
    "extra_tree_model.fit(train_features,train_labels)"
   ]
  },
  {
   "cell_type": "code",
   "execution_count": 48,
   "id": "variable-congress",
   "metadata": {},
   "outputs": [],
   "source": [
    "extra_tree_model_train_predicted=extra_tree_model.predict(train_features)"
   ]
  },
  {
   "cell_type": "code",
   "execution_count": 49,
   "id": "biological-blanket",
   "metadata": {},
   "outputs": [],
   "source": [
    "# extra_tree_model_train_predicted"
   ]
  },
  {
   "cell_type": "code",
   "execution_count": 50,
   "id": "lasting-native",
   "metadata": {},
   "outputs": [],
   "source": [
    "extra_tree_model_test_predicted=extra_tree_model.predict(test_features)"
   ]
  },
  {
   "cell_type": "code",
   "execution_count": 51,
   "id": "latest-criticism",
   "metadata": {},
   "outputs": [],
   "source": [
    "# extra_tree_model_test_predicted"
   ]
  },
  {
   "cell_type": "code",
   "execution_count": 52,
   "id": "negative-literature",
   "metadata": {},
   "outputs": [],
   "source": [
    "extra_tree_model_next_7_days_predicted=extra_tree_model.predict(predictingdate)"
   ]
  },
  {
   "cell_type": "code",
   "execution_count": 56,
   "id": "duplicate-recall",
   "metadata": {},
   "outputs": [],
   "source": [
    "# extra_tree_model_next_7_days_predicted"
   ]
  },
  {
   "cell_type": "code",
   "execution_count": 57,
   "id": "blond-berry",
   "metadata": {},
   "outputs": [],
   "source": [
    "pyplot.figure('Extra tree regression')\n",
    "pyplot.plot(maindata['date'],maindata_labels,label='Original Data')\n",
    "pyplot.plot(train_data['date'],extra_tree_model_train_predicted,label='Train Data')\n",
    "pyplot.plot(test_data['date'],extra_tree_model_test_predicted,label='Test Data')\n",
    "pyplot.plot(daterange,extra_tree_model_next_7_days_predicted,label='Future Prediction')\n",
    "pyplot.legend()\n",
    "pyplot.show()"
   ]
  },
  {
   "cell_type": "code",
   "execution_count": null,
   "id": "funky-swift",
   "metadata": {},
   "outputs": [],
   "source": []
  },
  {
   "cell_type": "markdown",
   "id": "secondary-greeting",
   "metadata": {},
   "source": [
    "## Evaluation\n",
    "    model\n",
    "    train : mean_absolute_error     root_mean_squared_error\n",
    "    test :  mean_absolute_error     root_mean_squared_error"
   ]
  },
  {
   "cell_type": "code",
   "execution_count": 53,
   "id": "accepting-irish",
   "metadata": {},
   "outputs": [
    {
     "name": "stdout",
     "output_type": "stream",
     "text": [
      "linear regrassion\n",
      "283.0350918400663 367.4276928101792\n",
      "411.59635891780175 412.09389937938204\n"
     ]
    }
   ],
   "source": [
    "print('linear regrassion')\n",
    "print(mean_absolute_error(linear_regression_model_train_predicted,train_labels),numpy.sqrt(mean_squared_error(linear_regression_model_train_predicted,train_labels)))\n",
    "print(mean_absolute_error(linear_regression_model_test_predicted,test_labels),numpy.sqrt(mean_squared_error(linear_regression_model_test_predicted,test_labels)))"
   ]
  },
  {
   "cell_type": "code",
   "execution_count": 54,
   "id": "ultimate-montreal",
   "metadata": {},
   "outputs": [
    {
     "name": "stdout",
     "output_type": "stream",
     "text": [
      "random forest regrassion\n",
      "25.455611650485437 47.57074254223301\n",
      "16.747272727272726 20.138006581856832\n"
     ]
    }
   ],
   "source": [
    "print('random forest regrassion')\n",
    "print(mean_absolute_error(random_forest_model_train_predicted,train_labels),numpy.sqrt(mean_squared_error(random_forest_model_train_predicted,train_labels)))\n",
    "print(mean_absolute_error(random_forest_model_test_predicted,test_labels),numpy.sqrt(mean_squared_error(random_forest_model_test_predicted,test_labels)))"
   ]
  },
  {
   "cell_type": "code",
   "execution_count": 55,
   "id": "attractive-lightning",
   "metadata": {},
   "outputs": [
    {
     "name": "stdout",
     "output_type": "stream",
     "text": [
      "Decision Tree regression\n",
      "0.0 0.0\n",
      "17.545454545454547 22.98813923427787\n"
     ]
    }
   ],
   "source": [
    "print('Decision Tree regression')\n",
    "print(mean_absolute_error(decision_tree_model_train_predicted,train_labels),numpy.sqrt(mean_squared_error(decision_tree_model_train_predicted,train_labels)))\n",
    "print(mean_absolute_error(decision_tree_model_test_predicted,test_labels),numpy.sqrt(mean_squared_error(decision_tree_model_test_predicted,test_labels)))"
   ]
  },
  {
   "cell_type": "code",
   "execution_count": 56,
   "id": "greenhouse-billion",
   "metadata": {},
   "outputs": [
    {
     "name": "stdout",
     "output_type": "stream",
     "text": [
      "Extra Tree Regression\n",
      "0.0 0.0\n",
      "17.545454545454547 22.98813923427787\n"
     ]
    }
   ],
   "source": [
    "print('Extra Tree Regression')\n",
    "print(mean_absolute_error(extra_tree_model_train_predicted,train_labels),numpy.sqrt(mean_squared_error(extra_tree_model_train_predicted,train_labels)))\n",
    "print(mean_absolute_error(extra_tree_model_test_predicted,test_labels),numpy.sqrt(mean_squared_error(extra_tree_model_test_predicted,test_labels)))"
   ]
  },
  {
   "cell_type": "code",
   "execution_count": null,
   "id": "hollywood-hazard",
   "metadata": {},
   "outputs": [],
   "source": []
  },
  {
   "cell_type": "code",
   "execution_count": null,
   "id": "wicked-there",
   "metadata": {},
   "outputs": [],
   "source": []
  },
  {
   "cell_type": "markdown",
   "id": "bridal-macedonia",
   "metadata": {},
   "source": [
    "## Polynomial Regression"
   ]
  },
  {
   "cell_type": "code",
   "execution_count": 62,
   "id": "arbitrary-edition",
   "metadata": {},
   "outputs": [],
   "source": [
    "# pyplot.scatter(train_features,train_labels)"
   ]
  },
  {
   "cell_type": "code",
   "execution_count": null,
   "id": "worse-terrorism",
   "metadata": {},
   "outputs": [],
   "source": []
  },
  {
   "cell_type": "code",
   "execution_count": 57,
   "id": "negative-density",
   "metadata": {
    "scrolled": true
   },
   "outputs": [],
   "source": [
    "def polynomial_regrassion_model(degree_of_equation=1):\n",
    "    polynomial=PolynomialFeatures(degree=degree_of_equation)\n",
    "    polynomial_train_data=polynomial.fit_transform(train_features.to_numpy())\n",
    "    polynomial_test_data=polynomial.fit_transform(test_features.to_numpy())\n",
    "    polynomial_future_test_data=polynomial.fit_transform(predictingdate)\n",
    "    polynomial_regression=LinearRegression()\n",
    "    polynomial_regression.fit(polynomial_train_data,train_labels)\n",
    "    polynomial_regression_model_train_predicted=polynomial_regression.predict(polynomial_train_data)\n",
    "    polynomial_regression_model_test_predicted=polynomial_regression.predict(polynomial_test_data)\n",
    "    polynomial_regression_model_nest_7_days_predicted=polynomial_regression.predict(polynomial_future_test_data)\n",
    "#     print('Train Data Prediction')\n",
    "#     print(polynomial_regression_model_train_predicted)\n",
    "#     print('\\n\\n\\nTest Data Prediction')\n",
    "#     print(polynomial_regression_model_test_predicted)\n",
    "#     print('\\n\\n\\nFuture Data Prediction')\n",
    "#     print(polynomial_regression_model_nest_7_days_predicted)\n",
    "#     print('\\n\\n\\n')\n",
    "    print('{} degree Polynomial regression'.format(degree_of_equation))\n",
    "    print(mean_absolute_error(polynomial_regression_model_train_predicted,train_labels),numpy.sqrt(mean_squared_error(polynomial_regression_model_train_predicted,train_labels)))\n",
    "    print(mean_absolute_error(polynomial_regression_model_test_predicted,test_labels),numpy.sqrt(mean_squared_error(polynomial_regression_model_test_predicted,test_labels)))\n",
    "    pyplot.figure('{} degree Polynomial regression'.format(degree_of_equation))\n",
    "    pyplot.plot(maindata['date'],maindata_labels,label='Original Data')\n",
    "    pyplot.plot(train_data['date'],polynomial_regression_model_train_predicted,label='Train Data')\n",
    "    pyplot.plot(test_data['date'],polynomial_regression_model_test_predicted,label='Test Data')\n",
    "    pyplot.plot(daterange,polynomial_regression_model_nest_7_days_predicted,label='Future Prediction')\n",
    "    pyplot.legend()\n",
    "    pyplot.show()"
   ]
  },
  {
   "cell_type": "code",
   "execution_count": null,
   "id": "latest-questionnaire",
   "metadata": {},
   "outputs": [],
   "source": []
  },
  {
   "cell_type": "code",
   "execution_count": 58,
   "id": "vocal-hazard",
   "metadata": {
    "scrolled": true
   },
   "outputs": [],
   "source": [
    "# polynomial_regrassion_model()"
   ]
  },
  {
   "cell_type": "code",
   "execution_count": 59,
   "id": "curious-product",
   "metadata": {
    "scrolled": true
   },
   "outputs": [
    {
     "name": "stdout",
     "output_type": "stream",
     "text": [
      "2 degree Polynomial regression\n",
      "276.3802224159241 361.48684801385497\n",
      "254.8866225155917 255.54079606195526\n"
     ]
    }
   ],
   "source": [
    "polynomial_regrassion_model(2)"
   ]
  },
  {
   "cell_type": "code",
   "execution_count": 60,
   "id": "artificial-capacity",
   "metadata": {
    "scrolled": false
   },
   "outputs": [
    {
     "name": "stdout",
     "output_type": "stream",
     "text": [
      "3 degree Polynomial regression\n",
      "276.379019039117 361.48503288328817\n",
      "254.83921189741656 255.4934679097837\n"
     ]
    }
   ],
   "source": [
    "polynomial_regrassion_model(3)"
   ]
  },
  {
   "cell_type": "code",
   "execution_count": 61,
   "id": "unauthorized-testing",
   "metadata": {},
   "outputs": [
    {
     "name": "stdout",
     "output_type": "stream",
     "text": [
      "4 degree Polynomial regression\n",
      "276.3778160245673 361.48321684386343\n",
      "254.79218472675845 255.44652233877613\n"
     ]
    }
   ],
   "source": [
    "polynomial_regrassion_model(4)"
   ]
  },
  {
   "cell_type": "code",
   "execution_count": 179,
   "id": "convenient-dinner",
   "metadata": {},
   "outputs": [
    {
     "name": "stdout",
     "output_type": "stream",
     "text": [
      "5 degree Polynomial regression\n",
      "277.54133528400735 362.38945785826195\n",
      "287.2486034469171 287.87667181210423\n"
     ]
    }
   ],
   "source": [
    "polynomial_regrassion_model(5)"
   ]
  },
  {
   "cell_type": "code",
   "execution_count": 62,
   "id": "amended-traffic",
   "metadata": {},
   "outputs": [
    {
     "name": "stdout",
     "output_type": "stream",
     "text": [
      "6 degree Polynomial regression\n",
      "276.37540626441967 361.4795820176879\n",
      "254.6980803310871 255.35258136262445\n"
     ]
    }
   ],
   "source": [
    "polynomial_regrassion_model(6)"
   ]
  },
  {
   "cell_type": "code",
   "execution_count": null,
   "id": "binding-negative",
   "metadata": {},
   "outputs": [],
   "source": []
  },
  {
   "cell_type": "code",
   "execution_count": null,
   "id": "hungarian-guidance",
   "metadata": {},
   "outputs": [],
   "source": []
  },
  {
   "cell_type": "markdown",
   "id": "civilian-testament",
   "metadata": {},
   "source": [
    "# Forcasting Models"
   ]
  },
  {
   "cell_type": "code",
   "execution_count": 107,
   "id": "brave-reproduction",
   "metadata": {},
   "outputs": [],
   "source": [
    "# import warnings\n",
    "# warnings.filterwarnings('ignore')"
   ]
  },
  {
   "cell_type": "code",
   "execution_count": 108,
   "id": "lined-equity",
   "metadata": {},
   "outputs": [],
   "source": [
    "forcasting_data_features=maindata[['date','delta_confirmed']]\n",
    "\n",
    "forcasting_train_data_features=train_data[['date','delta_confirmed']]\n",
    "\n",
    "forcasting_test_data_features=test_data[['date','delta_confirmed']]"
   ]
  },
  {
   "cell_type": "code",
   "execution_count": 109,
   "id": "historical-visiting",
   "metadata": {},
   "outputs": [
    {
     "name": "stderr",
     "output_type": "stream",
     "text": [
      "<ipython-input-109-7a0089d374bb>:1: SettingWithCopyWarning: \n",
      "A value is trying to be set on a copy of a slice from a DataFrame.\n",
      "Try using .loc[row_indexer,col_indexer] = value instead\n",
      "\n",
      "See the caveats in the documentation: https://pandas.pydata.org/pandas-docs/stable/user_guide/indexing.html#returning-a-view-versus-a-copy\n",
      "  forcasting_data_features['date']=pandas.to_datetime(forcasting_data_features['date'])\n",
      "<ipython-input-109-7a0089d374bb>:3: SettingWithCopyWarning: \n",
      "A value is trying to be set on a copy of a slice from a DataFrame.\n",
      "Try using .loc[row_indexer,col_indexer] = value instead\n",
      "\n",
      "See the caveats in the documentation: https://pandas.pydata.org/pandas-docs/stable/user_guide/indexing.html#returning-a-view-versus-a-copy\n",
      "  forcasting_train_data_features['date']=pandas.to_datetime(forcasting_train_data_features['date'])\n",
      "<ipython-input-109-7a0089d374bb>:5: SettingWithCopyWarning: \n",
      "A value is trying to be set on a copy of a slice from a DataFrame.\n",
      "Try using .loc[row_indexer,col_indexer] = value instead\n",
      "\n",
      "See the caveats in the documentation: https://pandas.pydata.org/pandas-docs/stable/user_guide/indexing.html#returning-a-view-versus-a-copy\n",
      "  forcasting_test_data_features['date']=pandas.to_datetime(forcasting_test_data_features['date'])\n"
     ]
    }
   ],
   "source": [
    "forcasting_data_features['date']=pandas.to_datetime(forcasting_data_features['date'])\n",
    "\n",
    "forcasting_train_data_features['date']=pandas.to_datetime(forcasting_train_data_features['date'])\n",
    "\n",
    "forcasting_test_data_features['date']=pandas.to_datetime(forcasting_test_data_features['date'])"
   ]
  },
  {
   "cell_type": "code",
   "execution_count": 110,
   "id": "strategic-carry",
   "metadata": {},
   "outputs": [],
   "source": [
    "forcasting_data_features=forcasting_data_features.set_index('date')\n",
    "\n",
    "forcasting_train_data_features=forcasting_train_data_features.set_index('date')\n",
    "\n",
    "forcasting_test_data_features=forcasting_test_data_features.set_index('date')"
   ]
  },
  {
   "cell_type": "code",
   "execution_count": 111,
   "id": "dependent-private",
   "metadata": {},
   "outputs": [],
   "source": [
    "# forcasting_data_features"
   ]
  },
  {
   "cell_type": "code",
   "execution_count": 112,
   "id": "cleared-spending",
   "metadata": {},
   "outputs": [],
   "source": [
    "# forcasting_train_data_features"
   ]
  },
  {
   "cell_type": "code",
   "execution_count": 113,
   "id": "arabic-camping",
   "metadata": {},
   "outputs": [],
   "source": [
    "# forcasting_test_data_features"
   ]
  },
  {
   "cell_type": "markdown",
   "id": "removable-ethics",
   "metadata": {},
   "source": [
    "## ARIMA model"
   ]
  },
  {
   "cell_type": "code",
   "execution_count": null,
   "id": "timely-battery",
   "metadata": {},
   "outputs": [],
   "source": []
  },
  {
   "cell_type": "code",
   "execution_count": 114,
   "id": "innocent-guatemala",
   "metadata": {},
   "outputs": [
    {
     "name": "stderr",
     "output_type": "stream",
     "text": [
      "C:\\Users\\Pankaj singh\\AppData\\Roaming\\Python\\Python39\\site-packages\\statsmodels\\tsa\\base\\tsa_model.py:524: ValueWarning: No frequency information was provided, so inferred frequency D will be used.\n",
      "  warnings.warn('No frequency information was'\n",
      "C:\\Users\\Pankaj singh\\AppData\\Roaming\\Python\\Python39\\site-packages\\statsmodels\\tsa\\base\\tsa_model.py:524: ValueWarning: No frequency information was provided, so inferred frequency D will be used.\n",
      "  warnings.warn('No frequency information was'\n",
      "C:\\Users\\Pankaj singh\\AppData\\Roaming\\Python\\Python39\\site-packages\\statsmodels\\tsa\\base\\tsa_model.py:524: ValueWarning: No frequency information was provided, so inferred frequency D will be used.\n",
      "  warnings.warn('No frequency information was'\n",
      "C:\\Users\\Pankaj singh\\AppData\\Roaming\\Python\\Python39\\site-packages\\statsmodels\\tsa\\base\\tsa_model.py:524: ValueWarning: No frequency information was provided, so inferred frequency D will be used.\n",
      "  warnings.warn('No frequency information was'\n",
      "C:\\Users\\Pankaj singh\\AppData\\Roaming\\Python\\Python39\\site-packages\\statsmodels\\tsa\\base\\tsa_model.py:524: ValueWarning: No frequency information was provided, so inferred frequency D will be used.\n",
      "  warnings.warn('No frequency information was'\n",
      "C:\\Users\\Pankaj singh\\AppData\\Roaming\\Python\\Python39\\site-packages\\statsmodels\\tsa\\base\\tsa_model.py:524: ValueWarning: No frequency information was provided, so inferred frequency D will be used.\n",
      "  warnings.warn('No frequency information was'\n"
     ]
    }
   ],
   "source": [
    "main_arima_model = ARIMA(forcasting_data_features,order=(5,0,3))\n",
    "train_arima_model = ARIMA(forcasting_train_data_features,order=(5,0,3))"
   ]
  },
  {
   "cell_type": "code",
   "execution_count": 115,
   "id": "accurate-return",
   "metadata": {},
   "outputs": [
    {
     "name": "stderr",
     "output_type": "stream",
     "text": [
      "C:\\Users\\Pankaj singh\\AppData\\Roaming\\Python\\Python39\\site-packages\\statsmodels\\tsa\\statespace\\sarimax.py:966: UserWarning: Non-stationary starting autoregressive parameters found. Using zeros as starting parameters.\n",
      "  warn('Non-stationary starting autoregressive parameters'\n",
      "C:\\Users\\Pankaj singh\\AppData\\Roaming\\Python\\Python39\\site-packages\\statsmodels\\tsa\\statespace\\sarimax.py:978: UserWarning: Non-invertible starting MA parameters found. Using zeros as starting parameters.\n",
      "  warn('Non-invertible starting MA parameters found.'\n",
      "C:\\Users\\Pankaj singh\\AppData\\Roaming\\Python\\Python39\\site-packages\\statsmodels\\base\\model.py:566: ConvergenceWarning: Maximum Likelihood optimization failed to converge. Check mle_retvals\n",
      "  warnings.warn(\"Maximum Likelihood optimization failed to \"\n",
      "C:\\Users\\Pankaj singh\\AppData\\Roaming\\Python\\Python39\\site-packages\\statsmodels\\base\\model.py:566: ConvergenceWarning: Maximum Likelihood optimization failed to converge. Check mle_retvals\n",
      "  warnings.warn(\"Maximum Likelihood optimization failed to \"\n"
     ]
    }
   ],
   "source": [
    "main_arima_fit_model=main_arima_model.fit()\n",
    "train_arima_fit_model=train_arima_model.fit()"
   ]
  },
  {
   "cell_type": "code",
   "execution_count": 116,
   "id": "entire-turtle",
   "metadata": {},
   "outputs": [],
   "source": [
    "main_arima_fit_model_predicted=main_arima_fit_model.predict()\n",
    "train_arima_fit_model_predicted=train_arima_fit_model.predict()\n",
    "test_arima_predicted=train_arima_fit_model.forecast(steps=len(forcasting_test_data_features))"
   ]
  },
  {
   "cell_type": "code",
   "execution_count": 117,
   "id": "variable-ownership",
   "metadata": {
    "scrolled": false
   },
   "outputs": [],
   "source": [
    "arima_model_forcast=main_arima_fit_model.forecast(steps=7)"
   ]
  },
  {
   "cell_type": "code",
   "execution_count": 118,
   "id": "surprising-roulette",
   "metadata": {},
   "outputs": [
    {
     "data": {
      "text/plain": [
       "2021-10-04    125.689693\n",
       "2021-10-05    137.998759\n",
       "2021-10-06    141.005693\n",
       "2021-10-07    134.614140\n",
       "2021-10-08    147.632227\n",
       "2021-10-09    140.636921\n",
       "2021-10-10    148.903543\n",
       "Freq: D, Name: predicted_mean, dtype: float64"
      ]
     },
     "execution_count": 118,
     "metadata": {},
     "output_type": "execute_result"
    }
   ],
   "source": [
    "# main_arima_fit_model_predicted\n",
    "# train_arima_fit_model_predicted\n",
    "# test_arima_predicted\n",
    "arima_model_forcast"
   ]
  },
  {
   "cell_type": "code",
   "execution_count": 141,
   "id": "adjacent-metallic",
   "metadata": {},
   "outputs": [],
   "source": [
    "# pyplot.figure('ARIMA model Forcasting')\n",
    "pyplot.plot(maindata['date'],maindata_labels,label='Original Data')\n",
    "pyplot.plot(train_data['date'],train_arima_fit_model_predicted,label='Train Data')\n",
    "pyplot.plot(test_data['date'],test_arima_predicted,label='Test Data')\n",
    "pyplot.plot(daterange,arima_model_forcast,label='ARIMA Future Prediction')\n",
    "pyplot.legend()\n",
    "pyplot.show()"
   ]
  },
  {
   "cell_type": "code",
   "execution_count": null,
   "id": "surface-niagara",
   "metadata": {},
   "outputs": [],
   "source": []
  },
  {
   "cell_type": "code",
   "execution_count": 120,
   "id": "alleged-intersection",
   "metadata": {},
   "outputs": [
    {
     "name": "stdout",
     "output_type": "stream",
     "text": [
      "76.02358105865368 130.33387172721095\n",
      "24.116503191991015 31.404988512543934\n"
     ]
    }
   ],
   "source": [
    "print(mean_absolute_error(train_arima_fit_model_predicted,train_labels),numpy.sqrt(mean_squared_error(train_arima_fit_model_predicted,train_labels)))\n",
    "print(mean_absolute_error(test_arima_predicted,test_labels),numpy.sqrt(mean_squared_error(test_arima_predicted,test_labels)))\n",
    "    "
   ]
  },
  {
   "cell_type": "code",
   "execution_count": 121,
   "id": "swedish-hunger",
   "metadata": {},
   "outputs": [
    {
     "data": {
      "text/plain": [
       "0      737541\n",
       "1      737542\n",
       "2      737543\n",
       "3      737544\n",
       "4      737545\n",
       "        ...  \n",
       "510    738051\n",
       "511    738052\n",
       "512    738053\n",
       "513    738054\n",
       "514    738055\n",
       "Name: ordinal_date, Length: 515, dtype: int64"
      ]
     },
     "execution_count": 121,
     "metadata": {},
     "output_type": "execute_result"
    }
   ],
   "source": [
    "train_data['ordinal_date']"
   ]
  },
  {
   "cell_type": "code",
   "execution_count": 122,
   "id": "detected-battery",
   "metadata": {},
   "outputs": [],
   "source": [
    "try_data=numpy.concatenate((maindata['ordinal_date'].to_numpy(),predictingdate),axis=None)"
   ]
  },
  {
   "cell_type": "code",
   "execution_count": 123,
   "id": "conceptual-singing",
   "metadata": {},
   "outputs": [],
   "source": [
    "# test_arima_predicted.to_numpy()"
   ]
  },
  {
   "cell_type": "code",
   "execution_count": 124,
   "id": "northern-deputy",
   "metadata": {},
   "outputs": [],
   "source": [
    "# train_data['ordinal_date'].to_numpy()"
   ]
  },
  {
   "cell_type": "code",
   "execution_count": 125,
   "id": "cutting-transformation",
   "metadata": {},
   "outputs": [
    {
     "data": {
      "text/plain": [
       "array([738054, 738055, 738056, 738057, 738058, 738059, 738060, 738061,\n",
       "       738062, 738063, 738064, 738065, 738066, 738067, 738068, 738069,\n",
       "       738070, 738071, 738072, 738073], dtype=int64)"
      ]
     },
     "execution_count": 125,
     "metadata": {},
     "output_type": "execute_result"
    }
   ],
   "source": [
    "try_data[-20:]"
   ]
  },
  {
   "cell_type": "code",
   "execution_count": 126,
   "id": "destroyed-cream",
   "metadata": {},
   "outputs": [],
   "source": [
    "try_labels=numpy.concatenate((maindata_labels,arima_model_forcast))"
   ]
  },
  {
   "cell_type": "code",
   "execution_count": 127,
   "id": "unauthorized-graham",
   "metadata": {},
   "outputs": [
    {
     "data": {
      "text/plain": [
       "array([138.        , 150.        , 164.        , 131.        ,\n",
       "       149.        , 156.        ,  97.        , 151.        ,\n",
       "       157.        , 126.        , 120.        , 140.        ,\n",
       "       122.        , 125.68969345, 137.99875949, 141.00569339,\n",
       "       134.61414006, 147.63222714, 140.63692054, 148.9035433 ])"
      ]
     },
     "execution_count": 127,
     "metadata": {},
     "output_type": "execute_result"
    }
   ],
   "source": [
    "try_labels[-20:]"
   ]
  },
  {
   "cell_type": "code",
   "execution_count": 128,
   "id": "characteristic-kitchen",
   "metadata": {},
   "outputs": [
    {
     "data": {
      "text/plain": [
       "RandomForestRegressor()"
      ]
     },
     "execution_count": 128,
     "metadata": {},
     "output_type": "execute_result"
    }
   ],
   "source": [
    "random_forest_model.fit(pandas.DataFrame(try_data),try_labels)"
   ]
  },
  {
   "cell_type": "code",
   "execution_count": 129,
   "id": "loaded-syria",
   "metadata": {},
   "outputs": [
    {
     "data": {
      "text/plain": [
       "array([1.43000000e+00, 3.19000000e+00, 4.46000000e+00, 3.47000000e+00,\n",
       "       2.49000000e+00, 2.73000000e+00, 3.05000000e+00, 8.09000000e+00,\n",
       "       2.07800000e+01, 4.31900000e+01, 2.39600000e+01, 2.18000000e+01,\n",
       "       1.57400000e+01, 1.22600000e+01, 8.80000000e+00, 2.25700000e+01,\n",
       "       1.83000000e+01, 2.77000000e+01, 2.46300000e+01, 4.69000000e+01,\n",
       "       3.11400000e+01, 2.94000000e+01, 2.80500000e+01, 3.22900000e+01,\n",
       "       2.67700000e+01, 2.44000000e+01, 2.54000000e+01, 3.77300000e+01,\n",
       "       9.14600000e+01, 6.89600000e+01, 5.66100000e+01, 5.28400000e+01,\n",
       "       4.93200000e+01, 5.27300000e+01, 4.71900000e+01, 5.87800000e+01,\n",
       "       4.83200000e+01, 5.31700000e+01, 4.22100000e+01, 5.18400000e+01,\n",
       "       6.05600000e+01, 4.94900000e+01, 3.55500000e+01, 2.70400000e+01,\n",
       "       4.01600000e+01, 6.26100000e+01, 6.40700000e+01, 7.10300000e+01,\n",
       "       7.14600000e+01, 7.93100000e+01, 6.72300000e+01, 5.47900000e+01,\n",
       "       8.56900000e+01, 9.68700000e+01, 1.02650000e+02, 1.25420000e+02,\n",
       "       1.26890000e+02, 1.09650000e+02, 9.78900000e+01, 1.55440000e+02,\n",
       "       1.87700000e+02, 1.82440000e+02, 2.28380000e+02, 2.05680000e+02,\n",
       "       2.60840000e+02, 2.75860000e+02, 2.98170000e+02, 3.21550000e+02,\n",
       "       3.46420000e+02, 3.42400000e+02, 2.81570000e+02, 2.68610000e+02,\n",
       "       2.80900000e+02, 3.15170000e+02, 4.19200000e+02, 4.46490000e+02,\n",
       "       4.14810000e+02, 4.31610000e+02, 4.00620000e+02, 3.00830000e+02,\n",
       "       4.36510000e+02, 4.45780000e+02, 4.16210000e+02, 4.03120000e+02,\n",
       "       4.86490000e+02, 4.40880000e+02, 3.62180000e+02, 4.27040000e+02,\n",
       "       4.83660000e+02, 4.86730000e+02, 4.84580000e+02, 4.80080000e+02,\n",
       "       4.32350000e+02, 3.38070000e+02, 4.30730000e+02, 4.27950000e+02,\n",
       "       3.97230000e+02, 4.06570000e+02, 3.97640000e+02, 3.89450000e+02,\n",
       "       3.13230000e+02, 4.05670000e+02, 4.27270000e+02, 4.28710000e+02,\n",
       "       4.10410000e+02, 4.18990000e+02, 3.60950000e+02, 4.14920000e+02,\n",
       "       4.29380000e+02, 4.82020000e+02, 5.00880000e+02, 6.45230000e+02,\n",
       "       4.80590000e+02, 3.13520000e+02, 3.97760000e+02, 4.88490000e+02,\n",
       "       5.71180000e+02, 5.57900000e+02, 4.86600000e+02, 3.77600000e+02,\n",
       "       3.10280000e+02, 2.89790000e+02, 4.84610000e+02, 5.33820000e+02,\n",
       "       5.36990000e+02, 5.62770000e+02, 5.52100000e+02, 4.88840000e+02,\n",
       "       5.20500000e+02, 6.92600000e+02, 7.33150000e+02, 7.99730000e+02,\n",
       "       9.12990000e+02, 9.16440000e+02, 7.15320000e+02, 8.06450000e+02,\n",
       "       1.02024000e+03, 9.33620000e+02, 1.00198000e+03, 9.83470000e+02,\n",
       "       9.16910000e+02, 7.91980000e+02, 7.22110000e+02, 7.50810000e+02,\n",
       "       8.01790000e+02, 6.90790000e+02, 5.18930000e+02, 5.98350000e+02,\n",
       "       4.42540000e+02, 5.16230000e+02, 6.82930000e+02, 5.81550000e+02,\n",
       "       5.86310000e+02, 5.33300000e+02, 4.99480000e+02, 4.08850000e+02,\n",
       "       4.16020000e+02, 5.36770000e+02, 5.06170000e+02, 4.96140000e+02,\n",
       "       4.33780000e+02, 3.68740000e+02, 3.16180000e+02, 3.53080000e+02,\n",
       "       4.02180000e+02, 3.94660000e+02, 3.78460000e+02, 3.40310000e+02,\n",
       "       3.22240000e+02, 2.65270000e+02, 2.52790000e+02, 2.67060000e+02,\n",
       "       2.72780000e+02, 2.60370000e+02, 2.53910000e+02, 2.18320000e+02,\n",
       "       1.73140000e+02, 1.80750000e+02, 2.02940000e+02, 2.14440000e+02,\n",
       "       1.91150000e+02, 1.80770000e+02, 1.51270000e+02, 1.23360000e+02,\n",
       "       1.38720000e+02, 1.60730000e+02, 1.47930000e+02, 1.58650000e+02,\n",
       "       1.45070000e+02, 1.39140000e+02, 1.21960000e+02, 1.26370000e+02,\n",
       "       1.53340000e+02, 1.50760000e+02, 1.40970000e+02, 1.03620000e+02,\n",
       "       8.33700000e+01, 6.66300000e+01, 1.15820000e+02, 1.12400000e+02,\n",
       "       1.15040000e+02, 1.15320000e+02, 1.03900000e+02, 6.35600000e+01,\n",
       "       4.68300000e+01, 6.10800000e+01, 1.08650000e+02, 1.38020000e+02,\n",
       "       1.50830000e+02, 1.33400000e+02, 1.35020000e+02, 1.20880000e+02,\n",
       "       1.49170000e+02, 1.60450000e+02, 1.55420000e+02, 1.68960000e+02,\n",
       "       1.60700000e+02, 1.33110000e+02, 1.00670000e+02, 9.71900000e+01,\n",
       "       1.32860000e+02, 1.26140000e+02, 1.32250000e+02, 1.37590000e+02,\n",
       "       1.06800000e+02, 7.87900000e+01, 8.10500000e+01, 9.03200000e+01,\n",
       "       8.28900000e+01, 8.36300000e+01, 8.73600000e+01, 7.14500000e+01,\n",
       "       5.11200000e+01, 1.13510000e+02, 4.26420000e+02, 2.03970000e+02,\n",
       "       1.26460000e+02, 8.87000000e+01, 7.33700000e+01, 5.34600000e+01,\n",
       "       4.49300000e+01, 5.69400000e+01, 7.10200000e+01, 8.20700000e+01,\n",
       "       6.41600000e+01, 6.25800000e+01, 6.09800000e+01, 6.00800000e+01,\n",
       "       6.02400000e+01, 6.53600000e+01, 6.20300000e+01, 7.10600000e+01,\n",
       "       1.02210000e+02, 1.87610000e+02, 1.50480000e+02, 1.21350000e+02,\n",
       "       1.02780000e+02, 9.53500000e+01, 8.21800000e+01, 7.37800000e+01,\n",
       "       6.41300000e+01, 5.76900000e+01, 7.60000000e+01, 8.08600000e+01,\n",
       "       8.29400000e+01, 8.05100000e+01, 7.26700000e+01, 6.13900000e+01,\n",
       "       5.16700000e+01, 7.59500000e+01, 6.81200000e+01, 4.84200000e+01,\n",
       "       5.59300000e+01, 4.65900000e+01, 4.76600000e+01, 4.00400000e+01,\n",
       "       4.55200000e+01, 6.44500000e+01, 5.92300000e+01, 5.80300000e+01,\n",
       "       5.28300000e+01, 3.50700000e+01, 4.37200000e+01, 6.18000000e+01,\n",
       "       5.79800000e+01, 5.74800000e+01, 5.67900000e+01, 6.50400000e+01,\n",
       "       5.71700000e+01, 4.48200000e+01, 5.88800000e+01, 4.49900000e+01,\n",
       "       4.89100000e+01, 6.65200000e+01, 7.15900000e+01, 6.39200000e+01,\n",
       "       6.88100000e+01, 6.64400000e+01, 9.19000000e+01, 9.97600000e+01,\n",
       "       9.31000000e+01, 9.89700000e+01, 9.03600000e+01, 8.30000000e+01,\n",
       "       9.85100000e+01, 9.46700000e+01, 1.12530000e+02, 1.17070000e+02,\n",
       "       1.17200000e+02, 1.12220000e+02, 1.09520000e+02, 1.54360000e+02,\n",
       "       1.65560000e+02, 1.37080000e+02, 1.47610000e+02, 1.47140000e+02,\n",
       "       1.19530000e+02, 1.23790000e+02, 1.78060000e+02, 1.87780000e+02,\n",
       "       1.72680000e+02, 2.08910000e+02, 2.51790000e+02, 2.39350000e+02,\n",
       "       2.56710000e+02, 3.38230000e+02, 3.27920000e+02, 3.61070000e+02,\n",
       "       4.14240000e+02, 4.34080000e+02, 4.41030000e+02, 4.00970000e+02,\n",
       "       5.02120000e+02, 5.85690000e+02, 5.89950000e+02, 6.15500000e+02,\n",
       "       6.07560000e+02, 5.05350000e+02, 4.65340000e+02, 5.72200000e+02,\n",
       "       7.34790000e+02, 8.64860000e+02, 8.62000000e+02, 1.02874000e+03,\n",
       "       9.35850000e+02, 1.01742000e+03, 1.14140000e+03, 1.04960000e+03,\n",
       "       1.17296000e+03, 1.20581000e+03, 1.28296000e+03, 1.15817000e+03,\n",
       "       1.42991000e+03, 1.46269000e+03, 1.46410000e+03, 1.48257000e+03,\n",
       "       1.58082000e+03, 1.64069000e+03, 1.48530000e+03, 1.77000000e+03,\n",
       "       1.84772000e+03, 1.74420000e+03, 1.73408000e+03, 1.72486000e+03,\n",
       "       1.64338000e+03, 1.30368000e+03, 1.28416000e+03, 1.59907000e+03,\n",
       "       1.66658000e+03, 1.60772000e+03, 1.37114000e+03, 1.26278000e+03,\n",
       "       9.61400000e+02, 1.16303000e+03, 1.43903000e+03, 1.30519000e+03,\n",
       "       1.19350000e+03, 1.23007000e+03, 1.08160000e+03, 8.72160000e+02,\n",
       "       8.86710000e+02, 1.00276000e+03, 9.62240000e+02, 8.88580000e+02,\n",
       "       9.14900000e+02, 8.28040000e+02, 6.40190000e+02, 5.13270000e+02,\n",
       "       6.71150000e+02, 7.31000000e+02, 7.22540000e+02, 7.72320000e+02,\n",
       "       7.37200000e+02, 5.94000000e+02, 6.62790000e+02, 7.44110000e+02,\n",
       "       6.62860000e+02, 6.83080000e+02, 6.64270000e+02, 6.49570000e+02,\n",
       "       5.11100000e+02, 5.36520000e+02, 6.38130000e+02, 7.51310000e+02,\n",
       "       7.56620000e+02, 7.14980000e+02, 6.28370000e+02, 5.47710000e+02,\n",
       "       5.89880000e+02, 6.27840000e+02, 5.93360000e+02, 5.74470000e+02,\n",
       "       6.55060000e+02, 6.19720000e+02, 4.67480000e+02, 5.67920000e+02,\n",
       "       6.53920000e+02, 6.33830000e+02, 5.93580000e+02, 6.47670000e+02,\n",
       "       7.19160000e+02, 5.07670000e+02, 5.77210000e+02, 7.44300000e+02,\n",
       "       8.09550000e+02, 1.12104000e+03, 8.06230000e+02, 6.62350000e+02,\n",
       "       4.81470000e+02, 5.79620000e+02, 6.27920000e+02, 6.22750000e+02,\n",
       "       5.87500000e+02, 5.69600000e+02, 5.67710000e+02, 4.73340000e+02,\n",
       "       5.62980000e+02, 6.62260000e+02, 6.37740000e+02, 5.57140000e+02,\n",
       "       5.50620000e+02, 4.77710000e+02, 4.42620000e+02, 4.76270000e+02,\n",
       "       4.80430000e+02, 4.53820000e+02, 4.42310000e+02, 4.93750000e+02,\n",
       "       5.00360000e+02, 4.00640000e+02, 4.64510000e+02, 4.69670000e+02,\n",
       "       4.12260000e+02, 3.98770000e+02, 3.02940000e+02, 3.16880000e+02,\n",
       "       2.90970000e+02, 3.16290000e+02, 3.94670000e+02, 1.06259000e+03,\n",
       "       6.09050000e+02, 2.43180000e+02, 2.71770000e+02, 2.23020000e+02,\n",
       "       2.22240000e+02, 2.39320000e+02, 2.41870000e+02, 1.99750000e+02,\n",
       "       1.83200000e+02, 1.73000000e+02, 1.77960000e+02, 2.11160000e+02,\n",
       "       2.01550000e+02, 1.71680000e+02, 1.92200000e+02, 1.91760000e+02,\n",
       "       1.69850000e+02, 1.26060000e+02, 1.28440000e+02, 1.37710000e+02,\n",
       "       1.47430000e+02, 1.27890000e+02, 1.40420000e+02, 1.41370000e+02,\n",
       "       1.20570000e+02, 1.17360000e+02, 1.44670000e+02, 1.54150000e+02,\n",
       "       1.61550000e+02, 1.63470000e+02, 1.73540000e+02, 1.31490000e+02,\n",
       "       1.23860000e+02, 1.28340000e+02, 1.39680000e+02, 1.51420000e+02,\n",
       "       1.52560000e+02, 1.57390000e+02, 1.09320000e+02, 1.20970000e+02,\n",
       "       1.48880000e+02, 2.66340000e+02, 1.91690000e+02, 1.15310000e+02,\n",
       "       9.52600000e+01, 8.33600000e+01, 9.83000000e+01, 1.27360000e+02,\n",
       "       1.33090000e+02, 1.44810000e+02, 1.45370000e+02, 1.47960000e+02,\n",
       "       1.28000000e+02, 1.36770000e+02, 1.48040000e+02, 1.56710000e+02,\n",
       "       1.39120000e+02, 1.43490000e+02, 1.47620000e+02, 1.15860000e+02,\n",
       "       1.35860000e+02, 1.49100000e+02, 1.32210000e+02, 1.24470000e+02,\n",
       "       1.35016897e+02, 1.27795163e+02, 1.27026079e+02, 1.36041713e+02,\n",
       "       1.39430148e+02, 1.37417502e+02, 1.44119664e+02, 1.43037508e+02,\n",
       "       1.46439475e+02])"
      ]
     },
     "execution_count": 129,
     "metadata": {},
     "output_type": "execute_result"
    }
   ],
   "source": [
    "random_forest_model.predict(pandas.DataFrame(try_data))"
   ]
  },
  {
   "cell_type": "code",
   "execution_count": null,
   "id": "maritime-annual",
   "metadata": {},
   "outputs": [],
   "source": []
  },
  {
   "cell_type": "markdown",
   "id": "turkish-silence",
   "metadata": {},
   "source": [
    "## SARIMA model"
   ]
  },
  {
   "cell_type": "code",
   "execution_count": null,
   "id": "alpine-scope",
   "metadata": {},
   "outputs": [],
   "source": []
  },
  {
   "cell_type": "code",
   "execution_count": 130,
   "id": "adverse-promotion",
   "metadata": {},
   "outputs": [
    {
     "name": "stderr",
     "output_type": "stream",
     "text": [
      "C:\\Users\\Pankaj singh\\AppData\\Roaming\\Python\\Python39\\site-packages\\statsmodels\\tsa\\base\\tsa_model.py:524: ValueWarning: No frequency information was provided, so inferred frequency D will be used.\n",
      "  warnings.warn('No frequency information was'\n",
      "C:\\Users\\Pankaj singh\\AppData\\Roaming\\Python\\Python39\\site-packages\\statsmodels\\tsa\\base\\tsa_model.py:524: ValueWarning: No frequency information was provided, so inferred frequency D will be used.\n",
      "  warnings.warn('No frequency information was'\n",
      "C:\\Users\\Pankaj singh\\AppData\\Roaming\\Python\\Python39\\site-packages\\statsmodels\\tsa\\base\\tsa_model.py:524: ValueWarning: No frequency information was provided, so inferred frequency D will be used.\n",
      "  warnings.warn('No frequency information was'\n",
      "C:\\Users\\Pankaj singh\\AppData\\Roaming\\Python\\Python39\\site-packages\\statsmodels\\tsa\\base\\tsa_model.py:524: ValueWarning: No frequency information was provided, so inferred frequency D will be used.\n",
      "  warnings.warn('No frequency information was'\n",
      "C:\\Users\\Pankaj singh\\AppData\\Roaming\\Python\\Python39\\site-packages\\statsmodels\\tsa\\base\\tsa_model.py:524: ValueWarning: No frequency information was provided, so inferred frequency D will be used.\n",
      "  warnings.warn('No frequency information was'\n"
     ]
    }
   ],
   "source": [
    "main_sarima_model=SARIMAX(forcasting_data_features)\n",
    "train_sarima_model = ARIMA(forcasting_train_data_features,order=(5,0,3))"
   ]
  },
  {
   "cell_type": "code",
   "execution_count": 131,
   "id": "alive-klein",
   "metadata": {},
   "outputs": [
    {
     "name": "stderr",
     "output_type": "stream",
     "text": [
      "C:\\Users\\Pankaj singh\\AppData\\Roaming\\Python\\Python39\\site-packages\\statsmodels\\tsa\\statespace\\sarimax.py:966: UserWarning: Non-stationary starting autoregressive parameters found. Using zeros as starting parameters.\n",
      "  warn('Non-stationary starting autoregressive parameters'\n",
      "C:\\Users\\Pankaj singh\\AppData\\Roaming\\Python\\Python39\\site-packages\\statsmodels\\tsa\\statespace\\sarimax.py:978: UserWarning: Non-invertible starting MA parameters found. Using zeros as starting parameters.\n",
      "  warn('Non-invertible starting MA parameters found.'\n",
      "C:\\Users\\Pankaj singh\\AppData\\Roaming\\Python\\Python39\\site-packages\\statsmodels\\base\\model.py:566: ConvergenceWarning: Maximum Likelihood optimization failed to converge. Check mle_retvals\n",
      "  warnings.warn(\"Maximum Likelihood optimization failed to \"\n"
     ]
    }
   ],
   "source": [
    "main_sarima_fit_model=main_sarima_model.fit()\n",
    "train_sarima_fit_model=train_sarima_model.fit()"
   ]
  },
  {
   "cell_type": "code",
   "execution_count": 132,
   "id": "coated-north",
   "metadata": {},
   "outputs": [],
   "source": [
    "# sarima_model_fit.predict(590)\n",
    "main_sarima_fit_model_predicted=main_sarima_fit_model.predict()\n",
    "train_sarima_fit_model_predicted=train_sarima_fit_model.predict()\n",
    "test_sarima_predicted=train_sarima_fit_model.forecast(steps=len(forcasting_test_data_features))"
   ]
  },
  {
   "cell_type": "code",
   "execution_count": 133,
   "id": "musical-annex",
   "metadata": {
    "scrolled": true
   },
   "outputs": [],
   "source": [
    "sarima_model_forcast=main_sarima_fit_model.forecast(steps=7)"
   ]
  },
  {
   "cell_type": "code",
   "execution_count": 144,
   "id": "generous-blood",
   "metadata": {},
   "outputs": [
    {
     "data": {
      "text/plain": [
       "2021-10-04    116.816276\n",
       "2021-10-05    111.852807\n",
       "2021-10-06    107.100233\n",
       "2021-10-07    102.549593\n",
       "2021-10-08     98.192308\n",
       "2021-10-09     94.020163\n",
       "2021-10-10     90.025289\n",
       "Freq: D, Name: predicted_mean, dtype: float64"
      ]
     },
     "execution_count": 144,
     "metadata": {},
     "output_type": "execute_result"
    }
   ],
   "source": [
    "# main_sarima_fit_model_predicted\n",
    "# train_sarima_fit_model_predicted\n",
    "# test_sarima_predicted\n",
    "sarima_model_forcast"
   ]
  },
  {
   "cell_type": "code",
   "execution_count": 143,
   "id": "selective-russell",
   "metadata": {},
   "outputs": [],
   "source": [
    "pyplot.figure('SARIMA model Forcasting')\n",
    "pyplot.plot(maindata['date'],maindata_labels,label='Original Data')\n",
    "pyplot.plot(train_data['date'],train_sarima_fit_model_predicted,label='Train Data')\n",
    "pyplot.plot(test_data['date'],test_sarima_predicted,label='Test Data')\n",
    "pyplot.plot(daterange,sarima_model_forcast,label='SARIMA Future Prediction')\n",
    "pyplot.legend()\n",
    "pyplot.show()"
   ]
  },
  {
   "cell_type": "code",
   "execution_count": null,
   "id": "angry-approach",
   "metadata": {},
   "outputs": [],
   "source": []
  },
  {
   "cell_type": "code",
   "execution_count": 136,
   "id": "private-italic",
   "metadata": {},
   "outputs": [
    {
     "name": "stdout",
     "output_type": "stream",
     "text": [
      "76.02358105865368 130.33387172721095\n",
      "24.116503191991015 31.404988512543934\n"
     ]
    }
   ],
   "source": [
    "print(mean_absolute_error(train_sarima_fit_model_predicted,train_labels),numpy.sqrt(mean_squared_error(train_sarima_fit_model_predicted,train_labels)))\n",
    "print(mean_absolute_error(test_sarima_predicted,test_labels),numpy.sqrt(mean_squared_error(test_sarima_predicted,test_labels)))\n",
    "    "
   ]
  },
  {
   "cell_type": "code",
   "execution_count": 156,
   "id": "supreme-classroom",
   "metadata": {},
   "outputs": [
    {
     "data": {
      "text/plain": [
       "116.81627636131688"
      ]
     },
     "execution_count": 156,
     "metadata": {},
     "output_type": "execute_result"
    }
   ],
   "source": []
  },
  {
   "cell_type": "code",
   "execution_count": null,
   "id": "searching-windsor",
   "metadata": {},
   "outputs": [],
   "source": []
  },
  {
   "cell_type": "code",
   "execution_count": null,
   "id": "similar-governor",
   "metadata": {},
   "outputs": [],
   "source": []
  },
  {
   "cell_type": "markdown",
   "id": "treated-interim",
   "metadata": {},
   "source": [
    "## VAR Model"
   ]
  },
  {
   "cell_type": "code",
   "execution_count": 93,
   "id": "jewish-linux",
   "metadata": {},
   "outputs": [],
   "source": [
    "forcasting_data_features_for_VAR=maindata[['date','delta_confirmed','delta_vaccinated1','delta_vaccinated2']]\n",
    "forcasting_train_data_features_for_VAR=train_data[['date','delta_confirmed','delta_vaccinated1','delta_vaccinated2']]"
   ]
  },
  {
   "cell_type": "code",
   "execution_count": 94,
   "id": "opposite-browse",
   "metadata": {},
   "outputs": [
    {
     "data": {
      "text/html": [
       "<div>\n",
       "<style scoped>\n",
       "    .dataframe tbody tr th:only-of-type {\n",
       "        vertical-align: middle;\n",
       "    }\n",
       "\n",
       "    .dataframe tbody tr th {\n",
       "        vertical-align: top;\n",
       "    }\n",
       "\n",
       "    .dataframe thead th {\n",
       "        text-align: right;\n",
       "    }\n",
       "</style>\n",
       "<table border=\"1\" class=\"dataframe\">\n",
       "  <thead>\n",
       "    <tr style=\"text-align: right;\">\n",
       "      <th></th>\n",
       "      <th>date</th>\n",
       "      <th>delta_confirmed</th>\n",
       "      <th>delta_vaccinated1</th>\n",
       "      <th>delta_vaccinated2</th>\n",
       "    </tr>\n",
       "  </thead>\n",
       "  <tbody>\n",
       "    <tr>\n",
       "      <th>0</th>\n",
       "      <td>2020-04-26</td>\n",
       "      <td>0</td>\n",
       "      <td>0</td>\n",
       "      <td>0</td>\n",
       "    </tr>\n",
       "    <tr>\n",
       "      <th>1</th>\n",
       "      <td>2020-04-27</td>\n",
       "      <td>4</td>\n",
       "      <td>0</td>\n",
       "      <td>0</td>\n",
       "    </tr>\n",
       "    <tr>\n",
       "      <th>2</th>\n",
       "      <td>2020-04-28</td>\n",
       "      <td>5</td>\n",
       "      <td>0</td>\n",
       "      <td>0</td>\n",
       "    </tr>\n",
       "    <tr>\n",
       "      <th>3</th>\n",
       "      <td>2020-04-29</td>\n",
       "      <td>3</td>\n",
       "      <td>0</td>\n",
       "      <td>0</td>\n",
       "    </tr>\n",
       "    <tr>\n",
       "      <th>4</th>\n",
       "      <td>2020-04-30</td>\n",
       "      <td>2</td>\n",
       "      <td>0</td>\n",
       "      <td>0</td>\n",
       "    </tr>\n",
       "    <tr>\n",
       "      <th>...</th>\n",
       "      <td>...</td>\n",
       "      <td>...</td>\n",
       "      <td>...</td>\n",
       "      <td>...</td>\n",
       "    </tr>\n",
       "    <tr>\n",
       "      <th>521</th>\n",
       "      <td>2021-09-29</td>\n",
       "      <td>157</td>\n",
       "      <td>45182</td>\n",
       "      <td>16086</td>\n",
       "    </tr>\n",
       "    <tr>\n",
       "      <th>522</th>\n",
       "      <td>2021-09-30</td>\n",
       "      <td>126</td>\n",
       "      <td>25650</td>\n",
       "      <td>9726</td>\n",
       "    </tr>\n",
       "    <tr>\n",
       "      <th>523</th>\n",
       "      <td>2021-10-01</td>\n",
       "      <td>120</td>\n",
       "      <td>28392</td>\n",
       "      <td>9694</td>\n",
       "    </tr>\n",
       "    <tr>\n",
       "      <th>524</th>\n",
       "      <td>2021-10-02</td>\n",
       "      <td>140</td>\n",
       "      <td>15961</td>\n",
       "      <td>9604</td>\n",
       "    </tr>\n",
       "    <tr>\n",
       "      <th>525</th>\n",
       "      <td>2021-10-03</td>\n",
       "      <td>122</td>\n",
       "      <td>4096</td>\n",
       "      <td>2803</td>\n",
       "    </tr>\n",
       "  </tbody>\n",
       "</table>\n",
       "<p>526 rows × 4 columns</p>\n",
       "</div>"
      ],
      "text/plain": [
       "           date  delta_confirmed  delta_vaccinated1  delta_vaccinated2\n",
       "0    2020-04-26                0                  0                  0\n",
       "1    2020-04-27                4                  0                  0\n",
       "2    2020-04-28                5                  0                  0\n",
       "3    2020-04-29                3                  0                  0\n",
       "4    2020-04-30                2                  0                  0\n",
       "..          ...              ...                ...                ...\n",
       "521  2021-09-29              157              45182              16086\n",
       "522  2021-09-30              126              25650               9726\n",
       "523  2021-10-01              120              28392               9694\n",
       "524  2021-10-02              140              15961               9604\n",
       "525  2021-10-03              122               4096               2803\n",
       "\n",
       "[526 rows x 4 columns]"
      ]
     },
     "execution_count": 94,
     "metadata": {},
     "output_type": "execute_result"
    }
   ],
   "source": [
    "forcasting_data_features_for_VAR\n",
    "# forcasting_train_data_features_for_VAR"
   ]
  },
  {
   "cell_type": "code",
   "execution_count": 95,
   "id": "great-candy",
   "metadata": {},
   "outputs": [
    {
     "name": "stderr",
     "output_type": "stream",
     "text": [
      "<ipython-input-95-1b0de2c1aaa6>:1: SettingWithCopyWarning: \n",
      "A value is trying to be set on a copy of a slice from a DataFrame.\n",
      "Try using .loc[row_indexer,col_indexer] = value instead\n",
      "\n",
      "See the caveats in the documentation: https://pandas.pydata.org/pandas-docs/stable/user_guide/indexing.html#returning-a-view-versus-a-copy\n",
      "  forcasting_data_features_for_VAR['date']=pandas.to_datetime(forcasting_data_features_for_VAR['date'])\n",
      "<ipython-input-95-1b0de2c1aaa6>:2: SettingWithCopyWarning: \n",
      "A value is trying to be set on a copy of a slice from a DataFrame.\n",
      "Try using .loc[row_indexer,col_indexer] = value instead\n",
      "\n",
      "See the caveats in the documentation: https://pandas.pydata.org/pandas-docs/stable/user_guide/indexing.html#returning-a-view-versus-a-copy\n",
      "  forcasting_train_data_features_for_VAR['date']=pandas.to_datetime(forcasting_train_data_features_for_VAR['date'])\n"
     ]
    }
   ],
   "source": [
    "forcasting_data_features_for_VAR['date']=pandas.to_datetime(forcasting_data_features_for_VAR['date'])\n",
    "forcasting_train_data_features_for_VAR['date']=pandas.to_datetime(forcasting_train_data_features_for_VAR['date'])"
   ]
  },
  {
   "cell_type": "code",
   "execution_count": 96,
   "id": "hungarian-shoot",
   "metadata": {},
   "outputs": [
    {
     "data": {
      "text/html": [
       "<div>\n",
       "<style scoped>\n",
       "    .dataframe tbody tr th:only-of-type {\n",
       "        vertical-align: middle;\n",
       "    }\n",
       "\n",
       "    .dataframe tbody tr th {\n",
       "        vertical-align: top;\n",
       "    }\n",
       "\n",
       "    .dataframe thead th {\n",
       "        text-align: right;\n",
       "    }\n",
       "</style>\n",
       "<table border=\"1\" class=\"dataframe\">\n",
       "  <thead>\n",
       "    <tr style=\"text-align: right;\">\n",
       "      <th></th>\n",
       "      <th>date</th>\n",
       "      <th>delta_confirmed</th>\n",
       "      <th>delta_vaccinated1</th>\n",
       "      <th>delta_vaccinated2</th>\n",
       "    </tr>\n",
       "  </thead>\n",
       "  <tbody>\n",
       "    <tr>\n",
       "      <th>0</th>\n",
       "      <td>2020-04-26</td>\n",
       "      <td>0</td>\n",
       "      <td>0</td>\n",
       "      <td>0</td>\n",
       "    </tr>\n",
       "    <tr>\n",
       "      <th>1</th>\n",
       "      <td>2020-04-27</td>\n",
       "      <td>4</td>\n",
       "      <td>0</td>\n",
       "      <td>0</td>\n",
       "    </tr>\n",
       "    <tr>\n",
       "      <th>2</th>\n",
       "      <td>2020-04-28</td>\n",
       "      <td>5</td>\n",
       "      <td>0</td>\n",
       "      <td>0</td>\n",
       "    </tr>\n",
       "    <tr>\n",
       "      <th>3</th>\n",
       "      <td>2020-04-29</td>\n",
       "      <td>3</td>\n",
       "      <td>0</td>\n",
       "      <td>0</td>\n",
       "    </tr>\n",
       "    <tr>\n",
       "      <th>4</th>\n",
       "      <td>2020-04-30</td>\n",
       "      <td>2</td>\n",
       "      <td>0</td>\n",
       "      <td>0</td>\n",
       "    </tr>\n",
       "    <tr>\n",
       "      <th>...</th>\n",
       "      <td>...</td>\n",
       "      <td>...</td>\n",
       "      <td>...</td>\n",
       "      <td>...</td>\n",
       "    </tr>\n",
       "    <tr>\n",
       "      <th>510</th>\n",
       "      <td>2021-09-18</td>\n",
       "      <td>145</td>\n",
       "      <td>21601</td>\n",
       "      <td>8403</td>\n",
       "    </tr>\n",
       "    <tr>\n",
       "      <th>511</th>\n",
       "      <td>2021-09-19</td>\n",
       "      <td>156</td>\n",
       "      <td>6999</td>\n",
       "      <td>5738</td>\n",
       "    </tr>\n",
       "    <tr>\n",
       "      <th>512</th>\n",
       "      <td>2021-09-20</td>\n",
       "      <td>111</td>\n",
       "      <td>13568</td>\n",
       "      <td>6078</td>\n",
       "    </tr>\n",
       "    <tr>\n",
       "      <th>513</th>\n",
       "      <td>2021-09-21</td>\n",
       "      <td>138</td>\n",
       "      <td>32266</td>\n",
       "      <td>13366</td>\n",
       "    </tr>\n",
       "    <tr>\n",
       "      <th>514</th>\n",
       "      <td>2021-09-22</td>\n",
       "      <td>150</td>\n",
       "      <td>14632</td>\n",
       "      <td>7563</td>\n",
       "    </tr>\n",
       "  </tbody>\n",
       "</table>\n",
       "<p>515 rows × 4 columns</p>\n",
       "</div>"
      ],
      "text/plain": [
       "          date  delta_confirmed  delta_vaccinated1  delta_vaccinated2\n",
       "0   2020-04-26                0                  0                  0\n",
       "1   2020-04-27                4                  0                  0\n",
       "2   2020-04-28                5                  0                  0\n",
       "3   2020-04-29                3                  0                  0\n",
       "4   2020-04-30                2                  0                  0\n",
       "..         ...              ...                ...                ...\n",
       "510 2021-09-18              145              21601               8403\n",
       "511 2021-09-19              156               6999               5738\n",
       "512 2021-09-20              111              13568               6078\n",
       "513 2021-09-21              138              32266              13366\n",
       "514 2021-09-22              150              14632               7563\n",
       "\n",
       "[515 rows x 4 columns]"
      ]
     },
     "execution_count": 96,
     "metadata": {},
     "output_type": "execute_result"
    }
   ],
   "source": [
    "# forcasting_data_features_for_VAR\n",
    "forcasting_train_data_features_for_VAR"
   ]
  },
  {
   "cell_type": "code",
   "execution_count": 97,
   "id": "committed-daisy",
   "metadata": {},
   "outputs": [],
   "source": [
    "forcasting_data_features_for_VAR=forcasting_data_features_for_VAR.set_index('date')\n",
    "forcasting_train_data_features_for_VAR=forcasting_train_data_features_for_VAR.set_index('date')"
   ]
  },
  {
   "cell_type": "code",
   "execution_count": 98,
   "id": "nervous-better",
   "metadata": {},
   "outputs": [
    {
     "data": {
      "text/html": [
       "<div>\n",
       "<style scoped>\n",
       "    .dataframe tbody tr th:only-of-type {\n",
       "        vertical-align: middle;\n",
       "    }\n",
       "\n",
       "    .dataframe tbody tr th {\n",
       "        vertical-align: top;\n",
       "    }\n",
       "\n",
       "    .dataframe thead th {\n",
       "        text-align: right;\n",
       "    }\n",
       "</style>\n",
       "<table border=\"1\" class=\"dataframe\">\n",
       "  <thead>\n",
       "    <tr style=\"text-align: right;\">\n",
       "      <th></th>\n",
       "      <th>delta_confirmed</th>\n",
       "      <th>delta_vaccinated1</th>\n",
       "      <th>delta_vaccinated2</th>\n",
       "    </tr>\n",
       "    <tr>\n",
       "      <th>date</th>\n",
       "      <th></th>\n",
       "      <th></th>\n",
       "      <th></th>\n",
       "    </tr>\n",
       "  </thead>\n",
       "  <tbody>\n",
       "    <tr>\n",
       "      <th>2020-04-26</th>\n",
       "      <td>0</td>\n",
       "      <td>0</td>\n",
       "      <td>0</td>\n",
       "    </tr>\n",
       "    <tr>\n",
       "      <th>2020-04-27</th>\n",
       "      <td>4</td>\n",
       "      <td>0</td>\n",
       "      <td>0</td>\n",
       "    </tr>\n",
       "    <tr>\n",
       "      <th>2020-04-28</th>\n",
       "      <td>5</td>\n",
       "      <td>0</td>\n",
       "      <td>0</td>\n",
       "    </tr>\n",
       "    <tr>\n",
       "      <th>2020-04-29</th>\n",
       "      <td>3</td>\n",
       "      <td>0</td>\n",
       "      <td>0</td>\n",
       "    </tr>\n",
       "    <tr>\n",
       "      <th>2020-04-30</th>\n",
       "      <td>2</td>\n",
       "      <td>0</td>\n",
       "      <td>0</td>\n",
       "    </tr>\n",
       "    <tr>\n",
       "      <th>...</th>\n",
       "      <td>...</td>\n",
       "      <td>...</td>\n",
       "      <td>...</td>\n",
       "    </tr>\n",
       "    <tr>\n",
       "      <th>2021-09-18</th>\n",
       "      <td>145</td>\n",
       "      <td>21601</td>\n",
       "      <td>8403</td>\n",
       "    </tr>\n",
       "    <tr>\n",
       "      <th>2021-09-19</th>\n",
       "      <td>156</td>\n",
       "      <td>6999</td>\n",
       "      <td>5738</td>\n",
       "    </tr>\n",
       "    <tr>\n",
       "      <th>2021-09-20</th>\n",
       "      <td>111</td>\n",
       "      <td>13568</td>\n",
       "      <td>6078</td>\n",
       "    </tr>\n",
       "    <tr>\n",
       "      <th>2021-09-21</th>\n",
       "      <td>138</td>\n",
       "      <td>32266</td>\n",
       "      <td>13366</td>\n",
       "    </tr>\n",
       "    <tr>\n",
       "      <th>2021-09-22</th>\n",
       "      <td>150</td>\n",
       "      <td>14632</td>\n",
       "      <td>7563</td>\n",
       "    </tr>\n",
       "  </tbody>\n",
       "</table>\n",
       "<p>515 rows × 3 columns</p>\n",
       "</div>"
      ],
      "text/plain": [
       "            delta_confirmed  delta_vaccinated1  delta_vaccinated2\n",
       "date                                                             \n",
       "2020-04-26                0                  0                  0\n",
       "2020-04-27                4                  0                  0\n",
       "2020-04-28                5                  0                  0\n",
       "2020-04-29                3                  0                  0\n",
       "2020-04-30                2                  0                  0\n",
       "...                     ...                ...                ...\n",
       "2021-09-18              145              21601               8403\n",
       "2021-09-19              156               6999               5738\n",
       "2021-09-20              111              13568               6078\n",
       "2021-09-21              138              32266              13366\n",
       "2021-09-22              150              14632               7563\n",
       "\n",
       "[515 rows x 3 columns]"
      ]
     },
     "execution_count": 98,
     "metadata": {},
     "output_type": "execute_result"
    }
   ],
   "source": [
    "# forcasting_data_features_for_VAR\n",
    "forcasting_train_data_features_for_VAR"
   ]
  },
  {
   "cell_type": "code",
   "execution_count": 99,
   "id": "coastal-galaxy",
   "metadata": {},
   "outputs": [
    {
     "name": "stderr",
     "output_type": "stream",
     "text": [
      "C:\\Users\\Pankaj singh\\AppData\\Roaming\\Python\\Python39\\site-packages\\statsmodels\\tsa\\base\\tsa_model.py:524: ValueWarning: No frequency information was provided, so inferred frequency D will be used.\n",
      "  warnings.warn('No frequency information was'\n",
      "C:\\Users\\Pankaj singh\\AppData\\Roaming\\Python\\Python39\\site-packages\\statsmodels\\tsa\\base\\tsa_model.py:524: ValueWarning: No frequency information was provided, so inferred frequency D will be used.\n",
      "  warnings.warn('No frequency information was'\n"
     ]
    }
   ],
   "source": [
    "main_var_model=VAR(forcasting_data_features_for_VAR)\n",
    "main_var_train_model=VAR(forcasting_train_data_features_for_VAR)"
   ]
  },
  {
   "cell_type": "code",
   "execution_count": 100,
   "id": "caring-utilization",
   "metadata": {},
   "outputs": [],
   "source": [
    "main_var_model_fit=main_var_model.fit()\n",
    "main_var_train_model_fit=main_var_train_model.fit()"
   ]
  },
  {
   "cell_type": "code",
   "execution_count": 101,
   "id": "figured-desert",
   "metadata": {},
   "outputs": [],
   "source": [
    "# main_var_train_model_fit.plot()"
   ]
  },
  {
   "cell_type": "code",
   "execution_count": null,
   "id": "aging-grenada",
   "metadata": {},
   "outputs": [],
   "source": []
  },
  {
   "cell_type": "code",
   "execution_count": 102,
   "id": "compatible-occasion",
   "metadata": {},
   "outputs": [
    {
     "name": "stderr",
     "output_type": "stream",
     "text": [
      "<ipython-input-102-2bd438d2e6bb>:1: FutureWarning: y is a deprecated alias for endog, will be removed in version 0.11.0\n",
      "  var_model_forcast=main_var_model_fit.forecast(main_var_model.y,steps=7)\n"
     ]
    }
   ],
   "source": [
    "var_model_forcast=main_var_model_fit.forecast(main_var_model.y,steps=7)"
   ]
  },
  {
   "cell_type": "code",
   "execution_count": 103,
   "id": "thermal-iraqi",
   "metadata": {},
   "outputs": [],
   "source": [
    "var_model_forcast_data=pandas.DataFrame(var_model_forcast)"
   ]
  },
  {
   "cell_type": "code",
   "execution_count": 104,
   "id": "flying-acceptance",
   "metadata": {},
   "outputs": [
    {
     "data": {
      "text/html": [
       "<div>\n",
       "<style scoped>\n",
       "    .dataframe tbody tr th:only-of-type {\n",
       "        vertical-align: middle;\n",
       "    }\n",
       "\n",
       "    .dataframe tbody tr th {\n",
       "        vertical-align: top;\n",
       "    }\n",
       "\n",
       "    .dataframe thead th {\n",
       "        text-align: right;\n",
       "    }\n",
       "</style>\n",
       "<table border=\"1\" class=\"dataframe\">\n",
       "  <thead>\n",
       "    <tr style=\"text-align: right;\">\n",
       "      <th></th>\n",
       "      <th>0</th>\n",
       "      <th>1</th>\n",
       "      <th>2</th>\n",
       "    </tr>\n",
       "  </thead>\n",
       "  <tbody>\n",
       "    <tr>\n",
       "      <th>0</th>\n",
       "      <td>136.823286</td>\n",
       "      <td>3893.409058</td>\n",
       "      <td>2142.133839</td>\n",
       "    </tr>\n",
       "    <tr>\n",
       "      <th>1</th>\n",
       "      <td>153.840091</td>\n",
       "      <td>3550.610839</td>\n",
       "      <td>1744.256164</td>\n",
       "    </tr>\n",
       "    <tr>\n",
       "      <th>2</th>\n",
       "      <td>170.726987</td>\n",
       "      <td>3269.201191</td>\n",
       "      <td>1509.831733</td>\n",
       "    </tr>\n",
       "    <tr>\n",
       "      <th>3</th>\n",
       "      <td>186.679600</td>\n",
       "      <td>3079.440216</td>\n",
       "      <td>1373.740039</td>\n",
       "    </tr>\n",
       "    <tr>\n",
       "      <th>4</th>\n",
       "      <td>201.475710</td>\n",
       "      <td>2964.286750</td>\n",
       "      <td>1295.590532</td>\n",
       "    </tr>\n",
       "    <tr>\n",
       "      <th>5</th>\n",
       "      <td>215.107033</td>\n",
       "      <td>2900.210043</td>\n",
       "      <td>1251.112583</td>\n",
       "    </tr>\n",
       "    <tr>\n",
       "      <th>6</th>\n",
       "      <td>227.637314</td>\n",
       "      <td>2868.277332</td>\n",
       "      <td>1226.013062</td>\n",
       "    </tr>\n",
       "  </tbody>\n",
       "</table>\n",
       "</div>"
      ],
      "text/plain": [
       "            0            1            2\n",
       "0  136.823286  3893.409058  2142.133839\n",
       "1  153.840091  3550.610839  1744.256164\n",
       "2  170.726987  3269.201191  1509.831733\n",
       "3  186.679600  3079.440216  1373.740039\n",
       "4  201.475710  2964.286750  1295.590532\n",
       "5  215.107033  2900.210043  1251.112583\n",
       "6  227.637314  2868.277332  1226.013062"
      ]
     },
     "execution_count": 104,
     "metadata": {},
     "output_type": "execute_result"
    }
   ],
   "source": [
    "var_model_forcast_data"
   ]
  },
  {
   "cell_type": "code",
   "execution_count": 105,
   "id": "auburn-accounting",
   "metadata": {},
   "outputs": [],
   "source": [
    "pyplot.figure('VAR model Forcasting')\n",
    "pyplot.plot(maindata['date'],maindata_labels,label='Original Data')\n",
    "pyplot.plot(maindata['date'],maindata['delta_vaccinated1'],label='Original Data')\n",
    "pyplot.plot(daterange,var_model_forcast_data[0],label='VAR Future Confirmed Prediction')\n",
    "pyplot.plot(daterange,var_model_forcast_data[1],label='VAR Future Vaccinated1 Prediction')\n",
    "\n",
    "pyplot.legend()\n",
    "pyplot.show()"
   ]
  },
  {
   "cell_type": "code",
   "execution_count": null,
   "id": "circular-encyclopedia",
   "metadata": {},
   "outputs": [],
   "source": []
  }
 ],
 "metadata": {
  "kernelspec": {
   "display_name": "Python 3",
   "language": "python",
   "name": "python3"
  },
  "language_info": {
   "codemirror_mode": {
    "name": "ipython",
    "version": 3
   },
   "file_extension": ".py",
   "mimetype": "text/x-python",
   "name": "python",
   "nbconvert_exporter": "python",
   "pygments_lexer": "ipython3",
   "version": "3.9.2"
  }
 },
 "nbformat": 4,
 "nbformat_minor": 5
}
