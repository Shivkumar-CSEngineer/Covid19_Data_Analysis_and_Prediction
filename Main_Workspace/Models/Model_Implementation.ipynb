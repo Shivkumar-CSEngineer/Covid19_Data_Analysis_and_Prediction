{
 "cells": [
  {
   "cell_type": "markdown",
   "id": "statistical-stock",
   "metadata": {},
   "source": [
    "## imports"
   ]
  },
  {
   "cell_type": "code",
   "execution_count": 1,
   "id": "metallic-radar",
   "metadata": {},
   "outputs": [],
   "source": [
    "import pandas\n",
    "import numpy\n",
    "from matplotlib import pyplot\n",
    "from pandas.plotting import scatter_matrix\n",
    "import mysql.connector\n",
    "from sklearn.linear_model import LinearRegression\n",
    "from sklearn.preprocessing import PolynomialFeatures\n",
    "from sklearn.ensemble import RandomForestRegressor\n",
    "from sklearn.tree import DecisionTreeRegressor,ExtraTreeRegressor\n",
    "from sklearn.metrics import mean_squared_error,mean_absolute_error\n",
    "import joblib\n",
    "import datetime\n",
    "from statsmodels.tsa.arima.model import ARIMA\n",
    "from statsmodels.tsa.statespace.sarimax import SARIMAX\n",
    "from statsmodels.tsa.vector_ar.var_model import VAR\n",
    "\n",
    "%matplotlib qt"
   ]
  },
  {
   "cell_type": "markdown",
   "id": "annoying-guatemala",
   "metadata": {},
   "source": [
    "## Database Connection and data Fetching"
   ]
  },
  {
   "cell_type": "code",
   "execution_count": 2,
   "id": "greater-beads",
   "metadata": {},
   "outputs": [],
   "source": [
    "with open('../config.env') as f:\n",
    "    credentials=f.read()\n",
    "credentials=credentials.split(\" \")\n",
    "con = mysql.connector.connect(username=credentials[0],password=credentials[1],host=credentials[2],port=credentials[3],database=credentials[4])\n",
    "query=con.cursor()"
   ]
  },
  {
   "cell_type": "code",
   "execution_count": 3,
   "id": "continental-jungle",
   "metadata": {},
   "outputs": [],
   "source": [
    "sql=\"SELECT * FROM total_india_cases\"\n",
    "query.execute(sql)\n",
    "result=query.fetchall()\n",
    "column=[columns[0] for columns in query.description]\n",
    "india_data=pandas.DataFrame(result,columns=column)"
   ]
  },
  {
   "cell_type": "code",
   "execution_count": 4,
   "id": "catholic-footage",
   "metadata": {},
   "outputs": [
    {
     "data": {
      "text/html": [
       "<div>\n",
       "<style scoped>\n",
       "    .dataframe tbody tr th:only-of-type {\n",
       "        vertical-align: middle;\n",
       "    }\n",
       "\n",
       "    .dataframe tbody tr th {\n",
       "        vertical-align: top;\n",
       "    }\n",
       "\n",
       "    .dataframe thead th {\n",
       "        text-align: right;\n",
       "    }\n",
       "</style>\n",
       "<table border=\"1\" class=\"dataframe\">\n",
       "  <thead>\n",
       "    <tr style=\"text-align: right;\">\n",
       "      <th></th>\n",
       "      <th>index_no</th>\n",
       "      <th>date</th>\n",
       "      <th>ordinal_date</th>\n",
       "      <th>total_confirmed</th>\n",
       "      <th>total_active</th>\n",
       "      <th>total_recovered</th>\n",
       "      <th>total_deaths</th>\n",
       "      <th>total_tested</th>\n",
       "      <th>total_vaccinated1</th>\n",
       "      <th>total_vaccinated2</th>\n",
       "      <th>...</th>\n",
       "      <th>delta7_confirmed</th>\n",
       "      <th>delta7_active</th>\n",
       "      <th>delta7_recovered</th>\n",
       "      <th>delta7_deaths</th>\n",
       "      <th>delta7_tested</th>\n",
       "      <th>delta7_vaccinated1</th>\n",
       "      <th>delta7_vaccinated2</th>\n",
       "      <th>total_other</th>\n",
       "      <th>delta_other</th>\n",
       "      <th>delta7_other</th>\n",
       "    </tr>\n",
       "  </thead>\n",
       "  <tbody>\n",
       "    <tr>\n",
       "      <th>0</th>\n",
       "      <td>1</td>\n",
       "      <td>2020-01-30</td>\n",
       "      <td>737454</td>\n",
       "      <td>1</td>\n",
       "      <td>1</td>\n",
       "      <td>0</td>\n",
       "      <td>0</td>\n",
       "      <td>0</td>\n",
       "      <td>0</td>\n",
       "      <td>0</td>\n",
       "      <td>...</td>\n",
       "      <td>1</td>\n",
       "      <td>1</td>\n",
       "      <td>0</td>\n",
       "      <td>0</td>\n",
       "      <td>0</td>\n",
       "      <td>0</td>\n",
       "      <td>0</td>\n",
       "      <td>0</td>\n",
       "      <td>0</td>\n",
       "      <td>0</td>\n",
       "    </tr>\n",
       "    <tr>\n",
       "      <th>1</th>\n",
       "      <td>2</td>\n",
       "      <td>2020-02-02</td>\n",
       "      <td>737457</td>\n",
       "      <td>2</td>\n",
       "      <td>2</td>\n",
       "      <td>0</td>\n",
       "      <td>0</td>\n",
       "      <td>0</td>\n",
       "      <td>0</td>\n",
       "      <td>0</td>\n",
       "      <td>...</td>\n",
       "      <td>2</td>\n",
       "      <td>2</td>\n",
       "      <td>0</td>\n",
       "      <td>0</td>\n",
       "      <td>0</td>\n",
       "      <td>0</td>\n",
       "      <td>0</td>\n",
       "      <td>0</td>\n",
       "      <td>0</td>\n",
       "      <td>0</td>\n",
       "    </tr>\n",
       "    <tr>\n",
       "      <th>2</th>\n",
       "      <td>3</td>\n",
       "      <td>2020-02-03</td>\n",
       "      <td>737458</td>\n",
       "      <td>3</td>\n",
       "      <td>3</td>\n",
       "      <td>0</td>\n",
       "      <td>0</td>\n",
       "      <td>0</td>\n",
       "      <td>0</td>\n",
       "      <td>0</td>\n",
       "      <td>...</td>\n",
       "      <td>3</td>\n",
       "      <td>3</td>\n",
       "      <td>0</td>\n",
       "      <td>0</td>\n",
       "      <td>0</td>\n",
       "      <td>0</td>\n",
       "      <td>0</td>\n",
       "      <td>0</td>\n",
       "      <td>0</td>\n",
       "      <td>0</td>\n",
       "    </tr>\n",
       "    <tr>\n",
       "      <th>3</th>\n",
       "      <td>4</td>\n",
       "      <td>2020-02-14</td>\n",
       "      <td>737469</td>\n",
       "      <td>3</td>\n",
       "      <td>0</td>\n",
       "      <td>3</td>\n",
       "      <td>0</td>\n",
       "      <td>0</td>\n",
       "      <td>0</td>\n",
       "      <td>0</td>\n",
       "      <td>...</td>\n",
       "      <td>0</td>\n",
       "      <td>-3</td>\n",
       "      <td>3</td>\n",
       "      <td>0</td>\n",
       "      <td>0</td>\n",
       "      <td>0</td>\n",
       "      <td>0</td>\n",
       "      <td>0</td>\n",
       "      <td>0</td>\n",
       "      <td>0</td>\n",
       "    </tr>\n",
       "    <tr>\n",
       "      <th>4</th>\n",
       "      <td>5</td>\n",
       "      <td>2020-03-02</td>\n",
       "      <td>737486</td>\n",
       "      <td>5</td>\n",
       "      <td>2</td>\n",
       "      <td>3</td>\n",
       "      <td>0</td>\n",
       "      <td>0</td>\n",
       "      <td>0</td>\n",
       "      <td>0</td>\n",
       "      <td>...</td>\n",
       "      <td>2</td>\n",
       "      <td>2</td>\n",
       "      <td>0</td>\n",
       "      <td>0</td>\n",
       "      <td>0</td>\n",
       "      <td>0</td>\n",
       "      <td>0</td>\n",
       "      <td>0</td>\n",
       "      <td>0</td>\n",
       "      <td>0</td>\n",
       "    </tr>\n",
       "    <tr>\n",
       "      <th>...</th>\n",
       "      <td>...</td>\n",
       "      <td>...</td>\n",
       "      <td>...</td>\n",
       "      <td>...</td>\n",
       "      <td>...</td>\n",
       "      <td>...</td>\n",
       "      <td>...</td>\n",
       "      <td>...</td>\n",
       "      <td>...</td>\n",
       "      <td>...</td>\n",
       "      <td>...</td>\n",
       "      <td>...</td>\n",
       "      <td>...</td>\n",
       "      <td>...</td>\n",
       "      <td>...</td>\n",
       "      <td>...</td>\n",
       "      <td>...</td>\n",
       "      <td>...</td>\n",
       "      <td>...</td>\n",
       "      <td>...</td>\n",
       "      <td>...</td>\n",
       "    </tr>\n",
       "    <tr>\n",
       "      <th>574</th>\n",
       "      <td>575</td>\n",
       "      <td>2021-09-23</td>\n",
       "      <td>738056</td>\n",
       "      <td>33593513</td>\n",
       "      <td>293402</td>\n",
       "      <td>32840724</td>\n",
       "      <td>446399</td>\n",
       "      <td>559932709</td>\n",
       "      <td>622902393</td>\n",
       "      <td>218615633</td>\n",
       "      <td>...</td>\n",
       "      <td>212978</td>\n",
       "      <td>-39045</td>\n",
       "      <td>249839</td>\n",
       "      <td>2121</td>\n",
       "      <td>10703560</td>\n",
       "      <td>40295488</td>\n",
       "      <td>28796794</td>\n",
       "      <td>12988</td>\n",
       "      <td>13</td>\n",
       "      <td>63</td>\n",
       "    </tr>\n",
       "    <tr>\n",
       "      <th>575</th>\n",
       "      <td>576</td>\n",
       "      <td>2021-09-24</td>\n",
       "      <td>738057</td>\n",
       "      <td>33623078</td>\n",
       "      <td>294619</td>\n",
       "      <td>32868773</td>\n",
       "      <td>446690</td>\n",
       "      <td>561661383</td>\n",
       "      <td>627174874</td>\n",
       "      <td>221754286</td>\n",
       "      <td>...</td>\n",
       "      <td>207189</td>\n",
       "      <td>-39055</td>\n",
       "      <td>244055</td>\n",
       "      <td>2127</td>\n",
       "      <td>10881110</td>\n",
       "      <td>31083028</td>\n",
       "      <td>22537043</td>\n",
       "      <td>12996</td>\n",
       "      <td>8</td>\n",
       "      <td>62</td>\n",
       "    </tr>\n",
       "    <tr>\n",
       "      <th>576</th>\n",
       "      <td>577</td>\n",
       "      <td>2021-09-25</td>\n",
       "      <td>738058</td>\n",
       "      <td>33651247</td>\n",
       "      <td>296493</td>\n",
       "      <td>32894794</td>\n",
       "      <td>446949</td>\n",
       "      <td>563243245</td>\n",
       "      <td>630831085</td>\n",
       "      <td>225250442</td>\n",
       "      <td>...</td>\n",
       "      <td>204228</td>\n",
       "      <td>-28342</td>\n",
       "      <td>230424</td>\n",
       "      <td>2080</td>\n",
       "      <td>10903077</td>\n",
       "      <td>29784635</td>\n",
       "      <td>21924561</td>\n",
       "      <td>13011</td>\n",
       "      <td>15</td>\n",
       "      <td>66</td>\n",
       "    </tr>\n",
       "    <tr>\n",
       "      <th>577</th>\n",
       "      <td>578</td>\n",
       "      <td>2021-09-26</td>\n",
       "      <td>738059</td>\n",
       "      <td>33678246</td>\n",
       "      <td>293584</td>\n",
       "      <td>32924419</td>\n",
       "      <td>447225</td>\n",
       "      <td>564408251</td>\n",
       "      <td>633216286</td>\n",
       "      <td>226942725</td>\n",
       "      <td>...</td>\n",
       "      <td>200399</td>\n",
       "      <td>-18559</td>\n",
       "      <td>216832</td>\n",
       "      <td>2060</td>\n",
       "      <td>10786485</td>\n",
       "      <td>29549513</td>\n",
       "      <td>22041354</td>\n",
       "      <td>13018</td>\n",
       "      <td>7</td>\n",
       "      <td>66</td>\n",
       "    </tr>\n",
       "    <tr>\n",
       "      <th>578</th>\n",
       "      <td>579</td>\n",
       "      <td>2021-09-27</td>\n",
       "      <td>738060</td>\n",
       "      <td>33693153</td>\n",
       "      <td>284052</td>\n",
       "      <td>32948670</td>\n",
       "      <td>447406</td>\n",
       "      <td>565730031</td>\n",
       "      <td>639614662</td>\n",
       "      <td>231093974</td>\n",
       "      <td>...</td>\n",
       "      <td>190399</td>\n",
       "      <td>-18271</td>\n",
       "      <td>206613</td>\n",
       "      <td>1990</td>\n",
       "      <td>10694314</td>\n",
       "      <td>30046502</td>\n",
       "      <td>22148307</td>\n",
       "      <td>13025</td>\n",
       "      <td>7</td>\n",
       "      <td>67</td>\n",
       "    </tr>\n",
       "  </tbody>\n",
       "</table>\n",
       "<p>579 rows × 27 columns</p>\n",
       "</div>"
      ],
      "text/plain": [
       "     index_no        date  ordinal_date  total_confirmed  total_active  \\\n",
       "0           1  2020-01-30        737454                1             1   \n",
       "1           2  2020-02-02        737457                2             2   \n",
       "2           3  2020-02-03        737458                3             3   \n",
       "3           4  2020-02-14        737469                3             0   \n",
       "4           5  2020-03-02        737486                5             2   \n",
       "..        ...         ...           ...              ...           ...   \n",
       "574       575  2021-09-23        738056         33593513        293402   \n",
       "575       576  2021-09-24        738057         33623078        294619   \n",
       "576       577  2021-09-25        738058         33651247        296493   \n",
       "577       578  2021-09-26        738059         33678246        293584   \n",
       "578       579  2021-09-27        738060         33693153        284052   \n",
       "\n",
       "     total_recovered  total_deaths  total_tested  total_vaccinated1  \\\n",
       "0                  0             0             0                  0   \n",
       "1                  0             0             0                  0   \n",
       "2                  0             0             0                  0   \n",
       "3                  3             0             0                  0   \n",
       "4                  3             0             0                  0   \n",
       "..               ...           ...           ...                ...   \n",
       "574         32840724        446399     559932709          622902393   \n",
       "575         32868773        446690     561661383          627174874   \n",
       "576         32894794        446949     563243245          630831085   \n",
       "577         32924419        447225     564408251          633216286   \n",
       "578         32948670        447406     565730031          639614662   \n",
       "\n",
       "     total_vaccinated2  ...  delta7_confirmed  delta7_active  \\\n",
       "0                    0  ...                 1              1   \n",
       "1                    0  ...                 2              2   \n",
       "2                    0  ...                 3              3   \n",
       "3                    0  ...                 0             -3   \n",
       "4                    0  ...                 2              2   \n",
       "..                 ...  ...               ...            ...   \n",
       "574          218615633  ...            212978         -39045   \n",
       "575          221754286  ...            207189         -39055   \n",
       "576          225250442  ...            204228         -28342   \n",
       "577          226942725  ...            200399         -18559   \n",
       "578          231093974  ...            190399         -18271   \n",
       "\n",
       "     delta7_recovered  delta7_deaths  delta7_tested  delta7_vaccinated1  \\\n",
       "0                   0              0              0                   0   \n",
       "1                   0              0              0                   0   \n",
       "2                   0              0              0                   0   \n",
       "3                   3              0              0                   0   \n",
       "4                   0              0              0                   0   \n",
       "..                ...            ...            ...                 ...   \n",
       "574            249839           2121       10703560            40295488   \n",
       "575            244055           2127       10881110            31083028   \n",
       "576            230424           2080       10903077            29784635   \n",
       "577            216832           2060       10786485            29549513   \n",
       "578            206613           1990       10694314            30046502   \n",
       "\n",
       "     delta7_vaccinated2  total_other  delta_other  delta7_other  \n",
       "0                     0            0            0             0  \n",
       "1                     0            0            0             0  \n",
       "2                     0            0            0             0  \n",
       "3                     0            0            0             0  \n",
       "4                     0            0            0             0  \n",
       "..                  ...          ...          ...           ...  \n",
       "574            28796794        12988           13            63  \n",
       "575            22537043        12996            8            62  \n",
       "576            21924561        13011           15            66  \n",
       "577            22041354        13018            7            66  \n",
       "578            22148307        13025            7            67  \n",
       "\n",
       "[579 rows x 27 columns]"
      ]
     },
     "execution_count": 4,
     "metadata": {},
     "output_type": "execute_result"
    }
   ],
   "source": [
    "india_data"
   ]
  },
  {
   "cell_type": "code",
   "execution_count": 5,
   "id": "stable-monster",
   "metadata": {},
   "outputs": [],
   "source": [
    "sql=\"SELECT * FROM total_state_cases WHERE state_name='MH'\"\n",
    "query.execute(sql)\n",
    "result=query.fetchall()\n",
    "column=[columns[0] for columns in query.description]\n",
    "maharashtra_data=pandas.DataFrame(result,columns=column)"
   ]
  },
  {
   "cell_type": "code",
   "execution_count": 6,
   "id": "reasonable-administration",
   "metadata": {},
   "outputs": [
    {
     "data": {
      "text/html": [
       "<div>\n",
       "<style scoped>\n",
       "    .dataframe tbody tr th:only-of-type {\n",
       "        vertical-align: middle;\n",
       "    }\n",
       "\n",
       "    .dataframe tbody tr th {\n",
       "        vertical-align: top;\n",
       "    }\n",
       "\n",
       "    .dataframe thead th {\n",
       "        text-align: right;\n",
       "    }\n",
       "</style>\n",
       "<table border=\"1\" class=\"dataframe\">\n",
       "  <thead>\n",
       "    <tr style=\"text-align: right;\">\n",
       "      <th></th>\n",
       "      <th>index_no</th>\n",
       "      <th>date</th>\n",
       "      <th>ordinal_date</th>\n",
       "      <th>state_name</th>\n",
       "      <th>total_confirmed</th>\n",
       "      <th>total_active</th>\n",
       "      <th>total_recovered</th>\n",
       "      <th>total_deaths</th>\n",
       "      <th>total_tested</th>\n",
       "      <th>total_vaccinated1</th>\n",
       "      <th>...</th>\n",
       "      <th>delta7_confirmed</th>\n",
       "      <th>delta7_active</th>\n",
       "      <th>delta7_recovered</th>\n",
       "      <th>delta7_deaths</th>\n",
       "      <th>delta7_tested</th>\n",
       "      <th>delta7_vaccinated1</th>\n",
       "      <th>delta7_vaccinated2</th>\n",
       "      <th>total_other</th>\n",
       "      <th>delta_other</th>\n",
       "      <th>delta7_other</th>\n",
       "    </tr>\n",
       "  </thead>\n",
       "  <tbody>\n",
       "    <tr>\n",
       "      <th>0</th>\n",
       "      <td>52</td>\n",
       "      <td>2020-03-09</td>\n",
       "      <td>737493</td>\n",
       "      <td>MH</td>\n",
       "      <td>2</td>\n",
       "      <td>2</td>\n",
       "      <td>0</td>\n",
       "      <td>0</td>\n",
       "      <td>0</td>\n",
       "      <td>0</td>\n",
       "      <td>...</td>\n",
       "      <td>2</td>\n",
       "      <td>2</td>\n",
       "      <td>0</td>\n",
       "      <td>0</td>\n",
       "      <td>0</td>\n",
       "      <td>0</td>\n",
       "      <td>0</td>\n",
       "      <td>0</td>\n",
       "      <td>0</td>\n",
       "      <td>0</td>\n",
       "    </tr>\n",
       "    <tr>\n",
       "      <th>1</th>\n",
       "      <td>64</td>\n",
       "      <td>2020-03-10</td>\n",
       "      <td>737494</td>\n",
       "      <td>MH</td>\n",
       "      <td>5</td>\n",
       "      <td>5</td>\n",
       "      <td>0</td>\n",
       "      <td>0</td>\n",
       "      <td>0</td>\n",
       "      <td>0</td>\n",
       "      <td>...</td>\n",
       "      <td>5</td>\n",
       "      <td>5</td>\n",
       "      <td>0</td>\n",
       "      <td>0</td>\n",
       "      <td>0</td>\n",
       "      <td>0</td>\n",
       "      <td>0</td>\n",
       "      <td>0</td>\n",
       "      <td>0</td>\n",
       "      <td>0</td>\n",
       "    </tr>\n",
       "    <tr>\n",
       "      <th>2</th>\n",
       "      <td>76</td>\n",
       "      <td>2020-03-11</td>\n",
       "      <td>737495</td>\n",
       "      <td>MH</td>\n",
       "      <td>11</td>\n",
       "      <td>11</td>\n",
       "      <td>0</td>\n",
       "      <td>0</td>\n",
       "      <td>0</td>\n",
       "      <td>0</td>\n",
       "      <td>...</td>\n",
       "      <td>11</td>\n",
       "      <td>11</td>\n",
       "      <td>0</td>\n",
       "      <td>0</td>\n",
       "      <td>0</td>\n",
       "      <td>0</td>\n",
       "      <td>0</td>\n",
       "      <td>0</td>\n",
       "      <td>0</td>\n",
       "      <td>0</td>\n",
       "    </tr>\n",
       "    <tr>\n",
       "      <th>3</th>\n",
       "      <td>89</td>\n",
       "      <td>2020-03-12</td>\n",
       "      <td>737496</td>\n",
       "      <td>MH</td>\n",
       "      <td>14</td>\n",
       "      <td>14</td>\n",
       "      <td>0</td>\n",
       "      <td>0</td>\n",
       "      <td>0</td>\n",
       "      <td>0</td>\n",
       "      <td>...</td>\n",
       "      <td>14</td>\n",
       "      <td>14</td>\n",
       "      <td>0</td>\n",
       "      <td>0</td>\n",
       "      <td>0</td>\n",
       "      <td>0</td>\n",
       "      <td>0</td>\n",
       "      <td>0</td>\n",
       "      <td>0</td>\n",
       "      <td>0</td>\n",
       "    </tr>\n",
       "    <tr>\n",
       "      <th>4</th>\n",
       "      <td>102</td>\n",
       "      <td>2020-03-13</td>\n",
       "      <td>737497</td>\n",
       "      <td>MH</td>\n",
       "      <td>17</td>\n",
       "      <td>17</td>\n",
       "      <td>0</td>\n",
       "      <td>0</td>\n",
       "      <td>0</td>\n",
       "      <td>0</td>\n",
       "      <td>...</td>\n",
       "      <td>17</td>\n",
       "      <td>17</td>\n",
       "      <td>0</td>\n",
       "      <td>0</td>\n",
       "      <td>0</td>\n",
       "      <td>0</td>\n",
       "      <td>0</td>\n",
       "      <td>0</td>\n",
       "      <td>0</td>\n",
       "      <td>0</td>\n",
       "    </tr>\n",
       "    <tr>\n",
       "      <th>...</th>\n",
       "      <td>...</td>\n",
       "      <td>...</td>\n",
       "      <td>...</td>\n",
       "      <td>...</td>\n",
       "      <td>...</td>\n",
       "      <td>...</td>\n",
       "      <td>...</td>\n",
       "      <td>...</td>\n",
       "      <td>...</td>\n",
       "      <td>...</td>\n",
       "      <td>...</td>\n",
       "      <td>...</td>\n",
       "      <td>...</td>\n",
       "      <td>...</td>\n",
       "      <td>...</td>\n",
       "      <td>...</td>\n",
       "      <td>...</td>\n",
       "      <td>...</td>\n",
       "      <td>...</td>\n",
       "      <td>...</td>\n",
       "      <td>...</td>\n",
       "    </tr>\n",
       "    <tr>\n",
       "      <th>563</th>\n",
       "      <td>19701</td>\n",
       "      <td>2021-09-23</td>\n",
       "      <td>738056</td>\n",
       "      <td>MH</td>\n",
       "      <td>6534557</td>\n",
       "      <td>39191</td>\n",
       "      <td>6353079</td>\n",
       "      <td>138725</td>\n",
       "      <td>57646515</td>\n",
       "      <td>54812576</td>\n",
       "      <td>...</td>\n",
       "      <td>23032</td>\n",
       "      <td>-10151</td>\n",
       "      <td>32769</td>\n",
       "      <td>403</td>\n",
       "      <td>1116633</td>\n",
       "      <td>3782408</td>\n",
       "      <td>2486025</td>\n",
       "      <td>3562</td>\n",
       "      <td>2</td>\n",
       "      <td>11</td>\n",
       "    </tr>\n",
       "    <tr>\n",
       "      <th>564</th>\n",
       "      <td>19737</td>\n",
       "      <td>2021-09-24</td>\n",
       "      <td>738057</td>\n",
       "      <td>MH</td>\n",
       "      <td>6537843</td>\n",
       "      <td>38491</td>\n",
       "      <td>6357012</td>\n",
       "      <td>138776</td>\n",
       "      <td>57819385</td>\n",
       "      <td>55096837</td>\n",
       "      <td>...</td>\n",
       "      <td>22732</td>\n",
       "      <td>-9960</td>\n",
       "      <td>32292</td>\n",
       "      <td>387</td>\n",
       "      <td>1110257</td>\n",
       "      <td>3230397</td>\n",
       "      <td>2297707</td>\n",
       "      <td>3564</td>\n",
       "      <td>2</td>\n",
       "      <td>13</td>\n",
       "    </tr>\n",
       "    <tr>\n",
       "      <th>565</th>\n",
       "      <td>19773</td>\n",
       "      <td>2021-09-25</td>\n",
       "      <td>738058</td>\n",
       "      <td>MH</td>\n",
       "      <td>6541119</td>\n",
       "      <td>37984</td>\n",
       "      <td>6360735</td>\n",
       "      <td>138834</td>\n",
       "      <td>57992010</td>\n",
       "      <td>55412765</td>\n",
       "      <td>...</td>\n",
       "      <td>22617</td>\n",
       "      <td>-9935</td>\n",
       "      <td>32174</td>\n",
       "      <td>365</td>\n",
       "      <td>1117519</td>\n",
       "      <td>2729686</td>\n",
       "      <td>2076920</td>\n",
       "      <td>3566</td>\n",
       "      <td>2</td>\n",
       "      <td>13</td>\n",
       "    </tr>\n",
       "    <tr>\n",
       "      <th>566</th>\n",
       "      <td>19809</td>\n",
       "      <td>2021-09-26</td>\n",
       "      <td>738059</td>\n",
       "      <td>MH</td>\n",
       "      <td>6544325</td>\n",
       "      <td>37860</td>\n",
       "      <td>6364027</td>\n",
       "      <td>138870</td>\n",
       "      <td>58158000</td>\n",
       "      <td>55543151</td>\n",
       "      <td>...</td>\n",
       "      <td>22410</td>\n",
       "      <td>-5095</td>\n",
       "      <td>27140</td>\n",
       "      <td>352</td>\n",
       "      <td>1129524</td>\n",
       "      <td>2776872</td>\n",
       "      <td>2109193</td>\n",
       "      <td>3568</td>\n",
       "      <td>2</td>\n",
       "      <td>13</td>\n",
       "    </tr>\n",
       "    <tr>\n",
       "      <th>567</th>\n",
       "      <td>19845</td>\n",
       "      <td>2021-09-27</td>\n",
       "      <td>738060</td>\n",
       "      <td>MH</td>\n",
       "      <td>6541762</td>\n",
       "      <td>37043</td>\n",
       "      <td>6362248</td>\n",
       "      <td>138902</td>\n",
       "      <td>58286036</td>\n",
       "      <td>56168912</td>\n",
       "      <td>...</td>\n",
       "      <td>17264</td>\n",
       "      <td>-4629</td>\n",
       "      <td>21525</td>\n",
       "      <td>356</td>\n",
       "      <td>1121635</td>\n",
       "      <td>2891267</td>\n",
       "      <td>2158405</td>\n",
       "      <td>3569</td>\n",
       "      <td>1</td>\n",
       "      <td>12</td>\n",
       "    </tr>\n",
       "  </tbody>\n",
       "</table>\n",
       "<p>568 rows × 28 columns</p>\n",
       "</div>"
      ],
      "text/plain": [
       "     index_no        date  ordinal_date state_name  total_confirmed  \\\n",
       "0          52  2020-03-09        737493         MH                2   \n",
       "1          64  2020-03-10        737494         MH                5   \n",
       "2          76  2020-03-11        737495         MH               11   \n",
       "3          89  2020-03-12        737496         MH               14   \n",
       "4         102  2020-03-13        737497         MH               17   \n",
       "..        ...         ...           ...        ...              ...   \n",
       "563     19701  2021-09-23        738056         MH          6534557   \n",
       "564     19737  2021-09-24        738057         MH          6537843   \n",
       "565     19773  2021-09-25        738058         MH          6541119   \n",
       "566     19809  2021-09-26        738059         MH          6544325   \n",
       "567     19845  2021-09-27        738060         MH          6541762   \n",
       "\n",
       "     total_active  total_recovered  total_deaths  total_tested  \\\n",
       "0               2                0             0             0   \n",
       "1               5                0             0             0   \n",
       "2              11                0             0             0   \n",
       "3              14                0             0             0   \n",
       "4              17                0             0             0   \n",
       "..            ...              ...           ...           ...   \n",
       "563         39191          6353079        138725      57646515   \n",
       "564         38491          6357012        138776      57819385   \n",
       "565         37984          6360735        138834      57992010   \n",
       "566         37860          6364027        138870      58158000   \n",
       "567         37043          6362248        138902      58286036   \n",
       "\n",
       "     total_vaccinated1  ...  delta7_confirmed  delta7_active  \\\n",
       "0                    0  ...                 2              2   \n",
       "1                    0  ...                 5              5   \n",
       "2                    0  ...                11             11   \n",
       "3                    0  ...                14             14   \n",
       "4                    0  ...                17             17   \n",
       "..                 ...  ...               ...            ...   \n",
       "563           54812576  ...             23032         -10151   \n",
       "564           55096837  ...             22732          -9960   \n",
       "565           55412765  ...             22617          -9935   \n",
       "566           55543151  ...             22410          -5095   \n",
       "567           56168912  ...             17264          -4629   \n",
       "\n",
       "     delta7_recovered  delta7_deaths  delta7_tested  delta7_vaccinated1  \\\n",
       "0                   0              0              0                   0   \n",
       "1                   0              0              0                   0   \n",
       "2                   0              0              0                   0   \n",
       "3                   0              0              0                   0   \n",
       "4                   0              0              0                   0   \n",
       "..                ...            ...            ...                 ...   \n",
       "563             32769            403        1116633             3782408   \n",
       "564             32292            387        1110257             3230397   \n",
       "565             32174            365        1117519             2729686   \n",
       "566             27140            352        1129524             2776872   \n",
       "567             21525            356        1121635             2891267   \n",
       "\n",
       "     delta7_vaccinated2  total_other  delta_other  delta7_other  \n",
       "0                     0            0            0             0  \n",
       "1                     0            0            0             0  \n",
       "2                     0            0            0             0  \n",
       "3                     0            0            0             0  \n",
       "4                     0            0            0             0  \n",
       "..                  ...          ...          ...           ...  \n",
       "563             2486025         3562            2            11  \n",
       "564             2297707         3564            2            13  \n",
       "565             2076920         3566            2            13  \n",
       "566             2109193         3568            2            13  \n",
       "567             2158405         3569            1            12  \n",
       "\n",
       "[568 rows x 28 columns]"
      ]
     },
     "execution_count": 6,
     "metadata": {},
     "output_type": "execute_result"
    }
   ],
   "source": [
    "maharashtra_data"
   ]
  },
  {
   "cell_type": "code",
   "execution_count": 7,
   "id": "turkish-september",
   "metadata": {},
   "outputs": [],
   "source": [
    "sql=\"SELECT * FROM total_district_cases WHERE district_name='Raigad'\"\n",
    "query.execute(sql)\n",
    "result=query.fetchall()\n",
    "column=[columns[0] for columns in query.description]\n",
    "raigad_data=pandas.DataFrame(result,columns=column)"
   ]
  },
  {
   "cell_type": "code",
   "execution_count": 8,
   "id": "constitutional-parameter",
   "metadata": {},
   "outputs": [
    {
     "data": {
      "text/html": [
       "<div>\n",
       "<style scoped>\n",
       "    .dataframe tbody tr th:only-of-type {\n",
       "        vertical-align: middle;\n",
       "    }\n",
       "\n",
       "    .dataframe tbody tr th {\n",
       "        vertical-align: top;\n",
       "    }\n",
       "\n",
       "    .dataframe thead th {\n",
       "        text-align: right;\n",
       "    }\n",
       "</style>\n",
       "<table border=\"1\" class=\"dataframe\">\n",
       "  <thead>\n",
       "    <tr style=\"text-align: right;\">\n",
       "      <th></th>\n",
       "      <th>index_no</th>\n",
       "      <th>date</th>\n",
       "      <th>ordinal_date</th>\n",
       "      <th>state_name</th>\n",
       "      <th>district_name</th>\n",
       "      <th>total_confirmed</th>\n",
       "      <th>total_active</th>\n",
       "      <th>total_recovered</th>\n",
       "      <th>total_deaths</th>\n",
       "      <th>delta_confirmed</th>\n",
       "      <th>...</th>\n",
       "      <th>delta7_deaths</th>\n",
       "      <th>total_vaccinated1</th>\n",
       "      <th>total_vaccinated2</th>\n",
       "      <th>delta_vaccinated1</th>\n",
       "      <th>delta_vaccinated2</th>\n",
       "      <th>delta7_vaccinated1</th>\n",
       "      <th>delta7_vaccinated2</th>\n",
       "      <th>total_other</th>\n",
       "      <th>delta_other</th>\n",
       "      <th>delta7_other</th>\n",
       "    </tr>\n",
       "  </thead>\n",
       "  <tbody>\n",
       "    <tr>\n",
       "      <th>0</th>\n",
       "      <td>19918</td>\n",
       "      <td>2020-04-26</td>\n",
       "      <td>737541</td>\n",
       "      <td>MH</td>\n",
       "      <td>Raigad</td>\n",
       "      <td>57</td>\n",
       "      <td>36</td>\n",
       "      <td>20</td>\n",
       "      <td>1</td>\n",
       "      <td>0</td>\n",
       "      <td>...</td>\n",
       "      <td>0</td>\n",
       "      <td>0</td>\n",
       "      <td>0</td>\n",
       "      <td>0</td>\n",
       "      <td>0</td>\n",
       "      <td>0</td>\n",
       "      <td>0</td>\n",
       "      <td>0</td>\n",
       "      <td>0</td>\n",
       "      <td>0</td>\n",
       "    </tr>\n",
       "    <tr>\n",
       "      <th>1</th>\n",
       "      <td>20334</td>\n",
       "      <td>2020-04-27</td>\n",
       "      <td>737542</td>\n",
       "      <td>MH</td>\n",
       "      <td>Raigad</td>\n",
       "      <td>61</td>\n",
       "      <td>39</td>\n",
       "      <td>21</td>\n",
       "      <td>1</td>\n",
       "      <td>4</td>\n",
       "      <td>...</td>\n",
       "      <td>0</td>\n",
       "      <td>0</td>\n",
       "      <td>0</td>\n",
       "      <td>0</td>\n",
       "      <td>0</td>\n",
       "      <td>0</td>\n",
       "      <td>0</td>\n",
       "      <td>0</td>\n",
       "      <td>0</td>\n",
       "      <td>0</td>\n",
       "    </tr>\n",
       "    <tr>\n",
       "      <th>2</th>\n",
       "      <td>20759</td>\n",
       "      <td>2020-04-28</td>\n",
       "      <td>737543</td>\n",
       "      <td>MH</td>\n",
       "      <td>Raigad</td>\n",
       "      <td>66</td>\n",
       "      <td>44</td>\n",
       "      <td>21</td>\n",
       "      <td>1</td>\n",
       "      <td>5</td>\n",
       "      <td>...</td>\n",
       "      <td>0</td>\n",
       "      <td>0</td>\n",
       "      <td>0</td>\n",
       "      <td>0</td>\n",
       "      <td>0</td>\n",
       "      <td>0</td>\n",
       "      <td>0</td>\n",
       "      <td>0</td>\n",
       "      <td>0</td>\n",
       "      <td>0</td>\n",
       "    </tr>\n",
       "    <tr>\n",
       "      <th>3</th>\n",
       "      <td>21189</td>\n",
       "      <td>2020-04-29</td>\n",
       "      <td>737544</td>\n",
       "      <td>MH</td>\n",
       "      <td>Raigad</td>\n",
       "      <td>69</td>\n",
       "      <td>44</td>\n",
       "      <td>23</td>\n",
       "      <td>2</td>\n",
       "      <td>3</td>\n",
       "      <td>...</td>\n",
       "      <td>1</td>\n",
       "      <td>0</td>\n",
       "      <td>0</td>\n",
       "      <td>0</td>\n",
       "      <td>0</td>\n",
       "      <td>0</td>\n",
       "      <td>0</td>\n",
       "      <td>0</td>\n",
       "      <td>0</td>\n",
       "      <td>0</td>\n",
       "    </tr>\n",
       "    <tr>\n",
       "      <th>4</th>\n",
       "      <td>21623</td>\n",
       "      <td>2020-04-30</td>\n",
       "      <td>737545</td>\n",
       "      <td>MH</td>\n",
       "      <td>Raigad</td>\n",
       "      <td>71</td>\n",
       "      <td>44</td>\n",
       "      <td>24</td>\n",
       "      <td>3</td>\n",
       "      <td>2</td>\n",
       "      <td>...</td>\n",
       "      <td>2</td>\n",
       "      <td>0</td>\n",
       "      <td>0</td>\n",
       "      <td>0</td>\n",
       "      <td>0</td>\n",
       "      <td>0</td>\n",
       "      <td>0</td>\n",
       "      <td>0</td>\n",
       "      <td>0</td>\n",
       "      <td>0</td>\n",
       "    </tr>\n",
       "    <tr>\n",
       "      <th>...</th>\n",
       "      <td>...</td>\n",
       "      <td>...</td>\n",
       "      <td>...</td>\n",
       "      <td>...</td>\n",
       "      <td>...</td>\n",
       "      <td>...</td>\n",
       "      <td>...</td>\n",
       "      <td>...</td>\n",
       "      <td>...</td>\n",
       "      <td>...</td>\n",
       "      <td>...</td>\n",
       "      <td>...</td>\n",
       "      <td>...</td>\n",
       "      <td>...</td>\n",
       "      <td>...</td>\n",
       "      <td>...</td>\n",
       "      <td>...</td>\n",
       "      <td>...</td>\n",
       "      <td>...</td>\n",
       "      <td>...</td>\n",
       "      <td>...</td>\n",
       "    </tr>\n",
       "    <tr>\n",
       "      <th>515</th>\n",
       "      <td>375164</td>\n",
       "      <td>2021-09-23</td>\n",
       "      <td>738056</td>\n",
       "      <td>MH</td>\n",
       "      <td>Raigad</td>\n",
       "      <td>191843</td>\n",
       "      <td>1086</td>\n",
       "      <td>186246</td>\n",
       "      <td>4504</td>\n",
       "      <td>164</td>\n",
       "      <td>...</td>\n",
       "      <td>13</td>\n",
       "      <td>1391369</td>\n",
       "      <td>541390</td>\n",
       "      <td>6166</td>\n",
       "      <td>5187</td>\n",
       "      <td>163496</td>\n",
       "      <td>68884</td>\n",
       "      <td>7</td>\n",
       "      <td>0</td>\n",
       "      <td>0</td>\n",
       "    </tr>\n",
       "    <tr>\n",
       "      <th>516</th>\n",
       "      <td>375911</td>\n",
       "      <td>2021-09-24</td>\n",
       "      <td>738057</td>\n",
       "      <td>MH</td>\n",
       "      <td>Raigad</td>\n",
       "      <td>191974</td>\n",
       "      <td>1204</td>\n",
       "      <td>186259</td>\n",
       "      <td>4504</td>\n",
       "      <td>131</td>\n",
       "      <td>...</td>\n",
       "      <td>10</td>\n",
       "      <td>1394517</td>\n",
       "      <td>545160</td>\n",
       "      <td>3148</td>\n",
       "      <td>3770</td>\n",
       "      <td>98380</td>\n",
       "      <td>50105</td>\n",
       "      <td>7</td>\n",
       "      <td>0</td>\n",
       "      <td>0</td>\n",
       "    </tr>\n",
       "    <tr>\n",
       "      <th>517</th>\n",
       "      <td>376658</td>\n",
       "      <td>2021-09-25</td>\n",
       "      <td>738058</td>\n",
       "      <td>MH</td>\n",
       "      <td>Raigad</td>\n",
       "      <td>192123</td>\n",
       "      <td>1127</td>\n",
       "      <td>186483</td>\n",
       "      <td>4506</td>\n",
       "      <td>149</td>\n",
       "      <td>...</td>\n",
       "      <td>6</td>\n",
       "      <td>1434051</td>\n",
       "      <td>565067</td>\n",
       "      <td>39534</td>\n",
       "      <td>19907</td>\n",
       "      <td>116313</td>\n",
       "      <td>61609</td>\n",
       "      <td>7</td>\n",
       "      <td>0</td>\n",
       "      <td>0</td>\n",
       "    </tr>\n",
       "    <tr>\n",
       "      <th>518</th>\n",
       "      <td>377405</td>\n",
       "      <td>2021-09-26</td>\n",
       "      <td>738059</td>\n",
       "      <td>MH</td>\n",
       "      <td>Raigad</td>\n",
       "      <td>192279</td>\n",
       "      <td>1056</td>\n",
       "      <td>186710</td>\n",
       "      <td>4506</td>\n",
       "      <td>156</td>\n",
       "      <td>...</td>\n",
       "      <td>6</td>\n",
       "      <td>1439241</td>\n",
       "      <td>568103</td>\n",
       "      <td>5190</td>\n",
       "      <td>3036</td>\n",
       "      <td>114504</td>\n",
       "      <td>58907</td>\n",
       "      <td>7</td>\n",
       "      <td>0</td>\n",
       "      <td>0</td>\n",
       "    </tr>\n",
       "    <tr>\n",
       "      <th>519</th>\n",
       "      <td>378152</td>\n",
       "      <td>2021-09-27</td>\n",
       "      <td>738060</td>\n",
       "      <td>MH</td>\n",
       "      <td>Raigad</td>\n",
       "      <td>192376</td>\n",
       "      <td>989</td>\n",
       "      <td>186874</td>\n",
       "      <td>4506</td>\n",
       "      <td>97</td>\n",
       "      <td>...</td>\n",
       "      <td>5</td>\n",
       "      <td>1450571</td>\n",
       "      <td>576024</td>\n",
       "      <td>11330</td>\n",
       "      <td>7921</td>\n",
       "      <td>112266</td>\n",
       "      <td>60750</td>\n",
       "      <td>7</td>\n",
       "      <td>0</td>\n",
       "      <td>0</td>\n",
       "    </tr>\n",
       "  </tbody>\n",
       "</table>\n",
       "<p>520 rows × 26 columns</p>\n",
       "</div>"
      ],
      "text/plain": [
       "     index_no        date  ordinal_date state_name district_name  \\\n",
       "0       19918  2020-04-26        737541         MH        Raigad   \n",
       "1       20334  2020-04-27        737542         MH        Raigad   \n",
       "2       20759  2020-04-28        737543         MH        Raigad   \n",
       "3       21189  2020-04-29        737544         MH        Raigad   \n",
       "4       21623  2020-04-30        737545         MH        Raigad   \n",
       "..        ...         ...           ...        ...           ...   \n",
       "515    375164  2021-09-23        738056         MH        Raigad   \n",
       "516    375911  2021-09-24        738057         MH        Raigad   \n",
       "517    376658  2021-09-25        738058         MH        Raigad   \n",
       "518    377405  2021-09-26        738059         MH        Raigad   \n",
       "519    378152  2021-09-27        738060         MH        Raigad   \n",
       "\n",
       "     total_confirmed  total_active  total_recovered  total_deaths  \\\n",
       "0                 57            36               20             1   \n",
       "1                 61            39               21             1   \n",
       "2                 66            44               21             1   \n",
       "3                 69            44               23             2   \n",
       "4                 71            44               24             3   \n",
       "..               ...           ...              ...           ...   \n",
       "515           191843          1086           186246          4504   \n",
       "516           191974          1204           186259          4504   \n",
       "517           192123          1127           186483          4506   \n",
       "518           192279          1056           186710          4506   \n",
       "519           192376           989           186874          4506   \n",
       "\n",
       "     delta_confirmed  ...  delta7_deaths  total_vaccinated1  \\\n",
       "0                  0  ...              0                  0   \n",
       "1                  4  ...              0                  0   \n",
       "2                  5  ...              0                  0   \n",
       "3                  3  ...              1                  0   \n",
       "4                  2  ...              2                  0   \n",
       "..               ...  ...            ...                ...   \n",
       "515              164  ...             13            1391369   \n",
       "516              131  ...             10            1394517   \n",
       "517              149  ...              6            1434051   \n",
       "518              156  ...              6            1439241   \n",
       "519               97  ...              5            1450571   \n",
       "\n",
       "     total_vaccinated2  delta_vaccinated1  delta_vaccinated2  \\\n",
       "0                    0                  0                  0   \n",
       "1                    0                  0                  0   \n",
       "2                    0                  0                  0   \n",
       "3                    0                  0                  0   \n",
       "4                    0                  0                  0   \n",
       "..                 ...                ...                ...   \n",
       "515             541390               6166               5187   \n",
       "516             545160               3148               3770   \n",
       "517             565067              39534              19907   \n",
       "518             568103               5190               3036   \n",
       "519             576024              11330               7921   \n",
       "\n",
       "     delta7_vaccinated1  delta7_vaccinated2  total_other  delta_other  \\\n",
       "0                     0                   0            0            0   \n",
       "1                     0                   0            0            0   \n",
       "2                     0                   0            0            0   \n",
       "3                     0                   0            0            0   \n",
       "4                     0                   0            0            0   \n",
       "..                  ...                 ...          ...          ...   \n",
       "515              163496               68884            7            0   \n",
       "516               98380               50105            7            0   \n",
       "517              116313               61609            7            0   \n",
       "518              114504               58907            7            0   \n",
       "519              112266               60750            7            0   \n",
       "\n",
       "     delta7_other  \n",
       "0               0  \n",
       "1               0  \n",
       "2               0  \n",
       "3               0  \n",
       "4               0  \n",
       "..            ...  \n",
       "515             0  \n",
       "516             0  \n",
       "517             0  \n",
       "518             0  \n",
       "519             0  \n",
       "\n",
       "[520 rows x 26 columns]"
      ]
     },
     "execution_count": 8,
     "metadata": {},
     "output_type": "execute_result"
    }
   ],
   "source": [
    "raigad_data"
   ]
  },
  {
   "cell_type": "markdown",
   "id": "interior-occupation",
   "metadata": {},
   "source": [
    "## function for traintest_splitting and next 7 days ordinal_date creating"
   ]
  },
  {
   "cell_type": "code",
   "execution_count": 9,
   "id": "liberal-brand",
   "metadata": {},
   "outputs": [],
   "source": [
    "def splitting(data,training_ratio):\n",
    "    length=len(data)\n",
    "    traing_indexes=int(length*training_ratio)\n",
    "    training_set=data[:traing_indexes]\n",
    "    testing_set=data[traing_indexes:]\n",
    "    return training_set,testing_set"
   ]
  },
  {
   "cell_type": "code",
   "execution_count": 10,
   "id": "incoming-substitute",
   "metadata": {},
   "outputs": [],
   "source": [
    "def returnNext7days():\n",
    "    date=738060\n",
    "    date_range=[]\n",
    "    l=[]\n",
    "    for i in range(1,8):\n",
    "        l.append([date+i])\n",
    "        date_range.append(datetime.date.fromordinal(date+i))\n",
    "    return l,date_range\n",
    "predictingdate,daterange=returnNext7days()\n"
   ]
  },
  {
   "cell_type": "code",
   "execution_count": null,
   "id": "statutory-picnic",
   "metadata": {},
   "outputs": [],
   "source": []
  },
  {
   "cell_type": "markdown",
   "id": "acquired-fighter",
   "metadata": {},
   "source": [
    "## Train Test Splitting"
   ]
  },
  {
   "cell_type": "code",
   "execution_count": 11,
   "id": "killing-plaintiff",
   "metadata": {},
   "outputs": [],
   "source": [
    "maindata=india_data\n",
    "# maindata=maharashtra_data\n",
    "# maindata=raigad_data"
   ]
  },
  {
   "cell_type": "code",
   "execution_count": 12,
   "id": "turned-conditioning",
   "metadata": {},
   "outputs": [],
   "source": [
    "maindata_labels=maindata['total_confirmed']"
   ]
  },
  {
   "cell_type": "code",
   "execution_count": 13,
   "id": "early-employment",
   "metadata": {},
   "outputs": [
    {
     "data": {
      "text/html": [
       "<div>\n",
       "<style scoped>\n",
       "    .dataframe tbody tr th:only-of-type {\n",
       "        vertical-align: middle;\n",
       "    }\n",
       "\n",
       "    .dataframe tbody tr th {\n",
       "        vertical-align: top;\n",
       "    }\n",
       "\n",
       "    .dataframe thead th {\n",
       "        text-align: right;\n",
       "    }\n",
       "</style>\n",
       "<table border=\"1\" class=\"dataframe\">\n",
       "  <thead>\n",
       "    <tr style=\"text-align: right;\">\n",
       "      <th></th>\n",
       "      <th>index_no</th>\n",
       "      <th>date</th>\n",
       "      <th>ordinal_date</th>\n",
       "      <th>total_confirmed</th>\n",
       "      <th>total_active</th>\n",
       "      <th>total_recovered</th>\n",
       "      <th>total_deaths</th>\n",
       "      <th>total_tested</th>\n",
       "      <th>total_vaccinated1</th>\n",
       "      <th>total_vaccinated2</th>\n",
       "      <th>...</th>\n",
       "      <th>delta7_confirmed</th>\n",
       "      <th>delta7_active</th>\n",
       "      <th>delta7_recovered</th>\n",
       "      <th>delta7_deaths</th>\n",
       "      <th>delta7_tested</th>\n",
       "      <th>delta7_vaccinated1</th>\n",
       "      <th>delta7_vaccinated2</th>\n",
       "      <th>total_other</th>\n",
       "      <th>delta_other</th>\n",
       "      <th>delta7_other</th>\n",
       "    </tr>\n",
       "  </thead>\n",
       "  <tbody>\n",
       "    <tr>\n",
       "      <th>0</th>\n",
       "      <td>1</td>\n",
       "      <td>2020-01-30</td>\n",
       "      <td>737454</td>\n",
       "      <td>1</td>\n",
       "      <td>1</td>\n",
       "      <td>0</td>\n",
       "      <td>0</td>\n",
       "      <td>0</td>\n",
       "      <td>0</td>\n",
       "      <td>0</td>\n",
       "      <td>...</td>\n",
       "      <td>1</td>\n",
       "      <td>1</td>\n",
       "      <td>0</td>\n",
       "      <td>0</td>\n",
       "      <td>0</td>\n",
       "      <td>0</td>\n",
       "      <td>0</td>\n",
       "      <td>0</td>\n",
       "      <td>0</td>\n",
       "      <td>0</td>\n",
       "    </tr>\n",
       "    <tr>\n",
       "      <th>1</th>\n",
       "      <td>2</td>\n",
       "      <td>2020-02-02</td>\n",
       "      <td>737457</td>\n",
       "      <td>2</td>\n",
       "      <td>2</td>\n",
       "      <td>0</td>\n",
       "      <td>0</td>\n",
       "      <td>0</td>\n",
       "      <td>0</td>\n",
       "      <td>0</td>\n",
       "      <td>...</td>\n",
       "      <td>2</td>\n",
       "      <td>2</td>\n",
       "      <td>0</td>\n",
       "      <td>0</td>\n",
       "      <td>0</td>\n",
       "      <td>0</td>\n",
       "      <td>0</td>\n",
       "      <td>0</td>\n",
       "      <td>0</td>\n",
       "      <td>0</td>\n",
       "    </tr>\n",
       "    <tr>\n",
       "      <th>2</th>\n",
       "      <td>3</td>\n",
       "      <td>2020-02-03</td>\n",
       "      <td>737458</td>\n",
       "      <td>3</td>\n",
       "      <td>3</td>\n",
       "      <td>0</td>\n",
       "      <td>0</td>\n",
       "      <td>0</td>\n",
       "      <td>0</td>\n",
       "      <td>0</td>\n",
       "      <td>...</td>\n",
       "      <td>3</td>\n",
       "      <td>3</td>\n",
       "      <td>0</td>\n",
       "      <td>0</td>\n",
       "      <td>0</td>\n",
       "      <td>0</td>\n",
       "      <td>0</td>\n",
       "      <td>0</td>\n",
       "      <td>0</td>\n",
       "      <td>0</td>\n",
       "    </tr>\n",
       "    <tr>\n",
       "      <th>3</th>\n",
       "      <td>4</td>\n",
       "      <td>2020-02-14</td>\n",
       "      <td>737469</td>\n",
       "      <td>3</td>\n",
       "      <td>0</td>\n",
       "      <td>3</td>\n",
       "      <td>0</td>\n",
       "      <td>0</td>\n",
       "      <td>0</td>\n",
       "      <td>0</td>\n",
       "      <td>...</td>\n",
       "      <td>0</td>\n",
       "      <td>-3</td>\n",
       "      <td>3</td>\n",
       "      <td>0</td>\n",
       "      <td>0</td>\n",
       "      <td>0</td>\n",
       "      <td>0</td>\n",
       "      <td>0</td>\n",
       "      <td>0</td>\n",
       "      <td>0</td>\n",
       "    </tr>\n",
       "    <tr>\n",
       "      <th>4</th>\n",
       "      <td>5</td>\n",
       "      <td>2020-03-02</td>\n",
       "      <td>737486</td>\n",
       "      <td>5</td>\n",
       "      <td>2</td>\n",
       "      <td>3</td>\n",
       "      <td>0</td>\n",
       "      <td>0</td>\n",
       "      <td>0</td>\n",
       "      <td>0</td>\n",
       "      <td>...</td>\n",
       "      <td>2</td>\n",
       "      <td>2</td>\n",
       "      <td>0</td>\n",
       "      <td>0</td>\n",
       "      <td>0</td>\n",
       "      <td>0</td>\n",
       "      <td>0</td>\n",
       "      <td>0</td>\n",
       "      <td>0</td>\n",
       "      <td>0</td>\n",
       "    </tr>\n",
       "    <tr>\n",
       "      <th>...</th>\n",
       "      <td>...</td>\n",
       "      <td>...</td>\n",
       "      <td>...</td>\n",
       "      <td>...</td>\n",
       "      <td>...</td>\n",
       "      <td>...</td>\n",
       "      <td>...</td>\n",
       "      <td>...</td>\n",
       "      <td>...</td>\n",
       "      <td>...</td>\n",
       "      <td>...</td>\n",
       "      <td>...</td>\n",
       "      <td>...</td>\n",
       "      <td>...</td>\n",
       "      <td>...</td>\n",
       "      <td>...</td>\n",
       "      <td>...</td>\n",
       "      <td>...</td>\n",
       "      <td>...</td>\n",
       "      <td>...</td>\n",
       "      <td>...</td>\n",
       "    </tr>\n",
       "    <tr>\n",
       "      <th>574</th>\n",
       "      <td>575</td>\n",
       "      <td>2021-09-23</td>\n",
       "      <td>738056</td>\n",
       "      <td>33593513</td>\n",
       "      <td>293402</td>\n",
       "      <td>32840724</td>\n",
       "      <td>446399</td>\n",
       "      <td>559932709</td>\n",
       "      <td>622902393</td>\n",
       "      <td>218615633</td>\n",
       "      <td>...</td>\n",
       "      <td>212978</td>\n",
       "      <td>-39045</td>\n",
       "      <td>249839</td>\n",
       "      <td>2121</td>\n",
       "      <td>10703560</td>\n",
       "      <td>40295488</td>\n",
       "      <td>28796794</td>\n",
       "      <td>12988</td>\n",
       "      <td>13</td>\n",
       "      <td>63</td>\n",
       "    </tr>\n",
       "    <tr>\n",
       "      <th>575</th>\n",
       "      <td>576</td>\n",
       "      <td>2021-09-24</td>\n",
       "      <td>738057</td>\n",
       "      <td>33623078</td>\n",
       "      <td>294619</td>\n",
       "      <td>32868773</td>\n",
       "      <td>446690</td>\n",
       "      <td>561661383</td>\n",
       "      <td>627174874</td>\n",
       "      <td>221754286</td>\n",
       "      <td>...</td>\n",
       "      <td>207189</td>\n",
       "      <td>-39055</td>\n",
       "      <td>244055</td>\n",
       "      <td>2127</td>\n",
       "      <td>10881110</td>\n",
       "      <td>31083028</td>\n",
       "      <td>22537043</td>\n",
       "      <td>12996</td>\n",
       "      <td>8</td>\n",
       "      <td>62</td>\n",
       "    </tr>\n",
       "    <tr>\n",
       "      <th>576</th>\n",
       "      <td>577</td>\n",
       "      <td>2021-09-25</td>\n",
       "      <td>738058</td>\n",
       "      <td>33651247</td>\n",
       "      <td>296493</td>\n",
       "      <td>32894794</td>\n",
       "      <td>446949</td>\n",
       "      <td>563243245</td>\n",
       "      <td>630831085</td>\n",
       "      <td>225250442</td>\n",
       "      <td>...</td>\n",
       "      <td>204228</td>\n",
       "      <td>-28342</td>\n",
       "      <td>230424</td>\n",
       "      <td>2080</td>\n",
       "      <td>10903077</td>\n",
       "      <td>29784635</td>\n",
       "      <td>21924561</td>\n",
       "      <td>13011</td>\n",
       "      <td>15</td>\n",
       "      <td>66</td>\n",
       "    </tr>\n",
       "    <tr>\n",
       "      <th>577</th>\n",
       "      <td>578</td>\n",
       "      <td>2021-09-26</td>\n",
       "      <td>738059</td>\n",
       "      <td>33678246</td>\n",
       "      <td>293584</td>\n",
       "      <td>32924419</td>\n",
       "      <td>447225</td>\n",
       "      <td>564408251</td>\n",
       "      <td>633216286</td>\n",
       "      <td>226942725</td>\n",
       "      <td>...</td>\n",
       "      <td>200399</td>\n",
       "      <td>-18559</td>\n",
       "      <td>216832</td>\n",
       "      <td>2060</td>\n",
       "      <td>10786485</td>\n",
       "      <td>29549513</td>\n",
       "      <td>22041354</td>\n",
       "      <td>13018</td>\n",
       "      <td>7</td>\n",
       "      <td>66</td>\n",
       "    </tr>\n",
       "    <tr>\n",
       "      <th>578</th>\n",
       "      <td>579</td>\n",
       "      <td>2021-09-27</td>\n",
       "      <td>738060</td>\n",
       "      <td>33693153</td>\n",
       "      <td>284052</td>\n",
       "      <td>32948670</td>\n",
       "      <td>447406</td>\n",
       "      <td>565730031</td>\n",
       "      <td>639614662</td>\n",
       "      <td>231093974</td>\n",
       "      <td>...</td>\n",
       "      <td>190399</td>\n",
       "      <td>-18271</td>\n",
       "      <td>206613</td>\n",
       "      <td>1990</td>\n",
       "      <td>10694314</td>\n",
       "      <td>30046502</td>\n",
       "      <td>22148307</td>\n",
       "      <td>13025</td>\n",
       "      <td>7</td>\n",
       "      <td>67</td>\n",
       "    </tr>\n",
       "  </tbody>\n",
       "</table>\n",
       "<p>579 rows × 27 columns</p>\n",
       "</div>"
      ],
      "text/plain": [
       "     index_no        date  ordinal_date  total_confirmed  total_active  \\\n",
       "0           1  2020-01-30        737454                1             1   \n",
       "1           2  2020-02-02        737457                2             2   \n",
       "2           3  2020-02-03        737458                3             3   \n",
       "3           4  2020-02-14        737469                3             0   \n",
       "4           5  2020-03-02        737486                5             2   \n",
       "..        ...         ...           ...              ...           ...   \n",
       "574       575  2021-09-23        738056         33593513        293402   \n",
       "575       576  2021-09-24        738057         33623078        294619   \n",
       "576       577  2021-09-25        738058         33651247        296493   \n",
       "577       578  2021-09-26        738059         33678246        293584   \n",
       "578       579  2021-09-27        738060         33693153        284052   \n",
       "\n",
       "     total_recovered  total_deaths  total_tested  total_vaccinated1  \\\n",
       "0                  0             0             0                  0   \n",
       "1                  0             0             0                  0   \n",
       "2                  0             0             0                  0   \n",
       "3                  3             0             0                  0   \n",
       "4                  3             0             0                  0   \n",
       "..               ...           ...           ...                ...   \n",
       "574         32840724        446399     559932709          622902393   \n",
       "575         32868773        446690     561661383          627174874   \n",
       "576         32894794        446949     563243245          630831085   \n",
       "577         32924419        447225     564408251          633216286   \n",
       "578         32948670        447406     565730031          639614662   \n",
       "\n",
       "     total_vaccinated2  ...  delta7_confirmed  delta7_active  \\\n",
       "0                    0  ...                 1              1   \n",
       "1                    0  ...                 2              2   \n",
       "2                    0  ...                 3              3   \n",
       "3                    0  ...                 0             -3   \n",
       "4                    0  ...                 2              2   \n",
       "..                 ...  ...               ...            ...   \n",
       "574          218615633  ...            212978         -39045   \n",
       "575          221754286  ...            207189         -39055   \n",
       "576          225250442  ...            204228         -28342   \n",
       "577          226942725  ...            200399         -18559   \n",
       "578          231093974  ...            190399         -18271   \n",
       "\n",
       "     delta7_recovered  delta7_deaths  delta7_tested  delta7_vaccinated1  \\\n",
       "0                   0              0              0                   0   \n",
       "1                   0              0              0                   0   \n",
       "2                   0              0              0                   0   \n",
       "3                   3              0              0                   0   \n",
       "4                   0              0              0                   0   \n",
       "..                ...            ...            ...                 ...   \n",
       "574            249839           2121       10703560            40295488   \n",
       "575            244055           2127       10881110            31083028   \n",
       "576            230424           2080       10903077            29784635   \n",
       "577            216832           2060       10786485            29549513   \n",
       "578            206613           1990       10694314            30046502   \n",
       "\n",
       "     delta7_vaccinated2  total_other  delta_other  delta7_other  \n",
       "0                     0            0            0             0  \n",
       "1                     0            0            0             0  \n",
       "2                     0            0            0             0  \n",
       "3                     0            0            0             0  \n",
       "4                     0            0            0             0  \n",
       "..                  ...          ...          ...           ...  \n",
       "574            28796794        12988           13            63  \n",
       "575            22537043        12996            8            62  \n",
       "576            21924561        13011           15            66  \n",
       "577            22041354        13018            7            66  \n",
       "578            22148307        13025            7            67  \n",
       "\n",
       "[579 rows x 27 columns]"
      ]
     },
     "execution_count": 13,
     "metadata": {},
     "output_type": "execute_result"
    }
   ],
   "source": [
    "maindata"
   ]
  },
  {
   "cell_type": "code",
   "execution_count": 14,
   "id": "phantom-visibility",
   "metadata": {},
   "outputs": [],
   "source": [
    "train_data,test_data=splitting(maindata,0.95)"
   ]
  },
  {
   "cell_type": "code",
   "execution_count": 15,
   "id": "gorgeous-kingston",
   "metadata": {},
   "outputs": [],
   "source": [
    "# train_labels=train_data['delta_confirmed']\n",
    "train_labels=train_data['total_confirmed']"
   ]
  },
  {
   "cell_type": "code",
   "execution_count": 16,
   "id": "bizarre-formation",
   "metadata": {},
   "outputs": [],
   "source": [
    "# india_train_labels"
   ]
  },
  {
   "cell_type": "code",
   "execution_count": 17,
   "id": "brilliant-pointer",
   "metadata": {},
   "outputs": [],
   "source": [
    "train_features=train_data[['ordinal_date']]\n",
    "# train_fetures=train_data[['ordinal_date','delta_tested']]"
   ]
  },
  {
   "cell_type": "code",
   "execution_count": 18,
   "id": "sonic-tuition",
   "metadata": {},
   "outputs": [],
   "source": [
    "# train_labels"
   ]
  },
  {
   "cell_type": "code",
   "execution_count": 19,
   "id": "original-advance",
   "metadata": {},
   "outputs": [],
   "source": [
    "# test_labels=test_data['delta_confirmed']\n",
    "test_labels=test_data['total_confirmed']"
   ]
  },
  {
   "cell_type": "code",
   "execution_count": 20,
   "id": "innocent-barcelona",
   "metadata": {},
   "outputs": [],
   "source": [
    "# test_labels"
   ]
  },
  {
   "cell_type": "code",
   "execution_count": 21,
   "id": "figured-receiver",
   "metadata": {},
   "outputs": [],
   "source": [
    "test_features=test_data[['ordinal_date']]\n",
    "# test_features=test_data[['ordinal_date','delta_tested']]"
   ]
  },
  {
   "cell_type": "code",
   "execution_count": 22,
   "id": "negative-bahamas",
   "metadata": {},
   "outputs": [],
   "source": [
    "# test_features"
   ]
  },
  {
   "cell_type": "code",
   "execution_count": null,
   "id": "pressing-exclusive",
   "metadata": {},
   "outputs": [],
   "source": []
  },
  {
   "cell_type": "code",
   "execution_count": 23,
   "id": "powerful-parameter",
   "metadata": {},
   "outputs": [],
   "source": [
    "# print(predictingdate)\n",
    "# print(daterange)"
   ]
  },
  {
   "cell_type": "code",
   "execution_count": null,
   "id": "aggregate-federal",
   "metadata": {},
   "outputs": [],
   "source": []
  },
  {
   "cell_type": "markdown",
   "id": "intensive-spending",
   "metadata": {},
   "source": [
    "## Model Implementation \n",
    "1. Linear Regression\n",
    "2. Random Forest Regression\n",
    "3. Decision Tree Regression\n",
    "4. Extra Tree Regression"
   ]
  },
  {
   "cell_type": "code",
   "execution_count": 24,
   "id": "aboriginal-jewelry",
   "metadata": {},
   "outputs": [],
   "source": [
    "linear_regression_model=LinearRegression()\n",
    "random_forest_model=RandomForestRegressor()\n",
    "decision_tree_model=DecisionTreeRegressor()\n",
    "extra_tree_model=ExtraTreeRegressor()"
   ]
  },
  {
   "cell_type": "code",
   "execution_count": null,
   "id": "coordinate-sharp",
   "metadata": {},
   "outputs": [],
   "source": []
  },
  {
   "cell_type": "markdown",
   "id": "passing-japanese",
   "metadata": {},
   "source": [
    "#### Linear regression"
   ]
  },
  {
   "cell_type": "code",
   "execution_count": 25,
   "id": "martial-snake",
   "metadata": {},
   "outputs": [
    {
     "data": {
      "text/plain": [
       "LinearRegression()"
      ]
     },
     "execution_count": 25,
     "metadata": {},
     "output_type": "execute_result"
    }
   ],
   "source": [
    "linear_regression_model.fit(train_features,train_labels)"
   ]
  },
  {
   "cell_type": "code",
   "execution_count": 26,
   "id": "loose-fluid",
   "metadata": {},
   "outputs": [],
   "source": [
    "linear_regression_model_train_predicted=linear_regression_model.predict(train_features)"
   ]
  },
  {
   "cell_type": "code",
   "execution_count": 27,
   "id": "random-madness",
   "metadata": {},
   "outputs": [],
   "source": [
    "# linear_regression_model_train_predicted"
   ]
  },
  {
   "cell_type": "code",
   "execution_count": 28,
   "id": "productive-radar",
   "metadata": {},
   "outputs": [],
   "source": [
    "linear_regression_model_test_predicted=linear_regression_model.predict(test_features)"
   ]
  },
  {
   "cell_type": "code",
   "execution_count": 29,
   "id": "attempted-soldier",
   "metadata": {},
   "outputs": [],
   "source": [
    "# linear_regression_model_test_predicted"
   ]
  },
  {
   "cell_type": "code",
   "execution_count": 30,
   "id": "photographic-poetry",
   "metadata": {},
   "outputs": [],
   "source": [
    "linear_regression_model_next_7_days_predicted=linear_regression_model.predict(predictingdate)"
   ]
  },
  {
   "cell_type": "code",
   "execution_count": 31,
   "id": "nominated-programming",
   "metadata": {},
   "outputs": [],
   "source": [
    "# linear_regression_model_next_7_days_predicted"
   ]
  },
  {
   "cell_type": "code",
   "execution_count": 32,
   "id": "earlier-terrorist",
   "metadata": {},
   "outputs": [],
   "source": [
    "pyplot.figure('linear regression')\n",
    "line_of_regression=numpy.concatenate((linear_regression_model_train_predicted,linear_regression_model_test_predicted))\n",
    "pyplot.plot(maindata['date'],maindata_labels,label='Original Data')\n",
    "pyplot.plot(maindata['date'],line_of_regression,label='Line of Regression')\n",
    "pyplot.plot(train_data['date'],linear_regression_model_train_predicted,label='Train Data')\n",
    "pyplot.plot(test_data['date'],linear_regression_model_test_predicted,label='Test Data')\n",
    "pyplot.plot(daterange,linear_regression_model_next_7_days_predicted,label='Future Prediction')\n",
    "pyplot.legend()\n",
    "pyplot.show()"
   ]
  },
  {
   "cell_type": "code",
   "execution_count": null,
   "id": "given-soldier",
   "metadata": {},
   "outputs": [],
   "source": []
  },
  {
   "cell_type": "markdown",
   "id": "infinite-commission",
   "metadata": {},
   "source": [
    "#### Ramdom Forest Regression regression"
   ]
  },
  {
   "cell_type": "code",
   "execution_count": 33,
   "id": "amended-velvet",
   "metadata": {},
   "outputs": [
    {
     "data": {
      "text/plain": [
       "RandomForestRegressor()"
      ]
     },
     "execution_count": 33,
     "metadata": {},
     "output_type": "execute_result"
    }
   ],
   "source": [
    "random_forest_model.fit(train_features,train_labels)"
   ]
  },
  {
   "cell_type": "code",
   "execution_count": 34,
   "id": "opened-trademark",
   "metadata": {},
   "outputs": [],
   "source": [
    "random_forest_model_train_predicted=random_forest_model.predict(train_features)"
   ]
  },
  {
   "cell_type": "code",
   "execution_count": 35,
   "id": "biblical-indianapolis",
   "metadata": {},
   "outputs": [],
   "source": [
    "# random_forest_model_train_predicted"
   ]
  },
  {
   "cell_type": "code",
   "execution_count": 36,
   "id": "prostate-company",
   "metadata": {},
   "outputs": [],
   "source": [
    "random_forest_model_test_predicted=random_forest_model.predict(test_features)"
   ]
  },
  {
   "cell_type": "code",
   "execution_count": 37,
   "id": "renewable-message",
   "metadata": {},
   "outputs": [],
   "source": [
    "# random_forest_model_test_predicted"
   ]
  },
  {
   "cell_type": "code",
   "execution_count": 38,
   "id": "wanted-messenger",
   "metadata": {},
   "outputs": [],
   "source": [
    "random_forest_model_next_7_days_predicted=random_forest_model.predict(predictingdate)"
   ]
  },
  {
   "cell_type": "code",
   "execution_count": 39,
   "id": "severe-benchmark",
   "metadata": {},
   "outputs": [],
   "source": [
    "# random_forest_model_next_7_days_predicted"
   ]
  },
  {
   "cell_type": "code",
   "execution_count": 40,
   "id": "classified-introduction",
   "metadata": {},
   "outputs": [],
   "source": [
    "pyplot.figure('random forest regression')\n",
    "pyplot.plot(maindata['date'],maindata_labels,label='Original Data')\n",
    "pyplot.plot(train_data['date'],random_forest_model_train_predicted,label='Train Data')\n",
    "pyplot.plot(test_data['date'],random_forest_model_test_predicted,label='Test Data')\n",
    "pyplot.plot(daterange,random_forest_model_next_7_days_predicted,label='Future Prediction')\n",
    "pyplot.legend()\n",
    "pyplot.show()"
   ]
  },
  {
   "cell_type": "code",
   "execution_count": null,
   "id": "further-format",
   "metadata": {},
   "outputs": [],
   "source": []
  },
  {
   "cell_type": "markdown",
   "id": "serious-wagner",
   "metadata": {},
   "source": [
    "#### Decision Tree regression"
   ]
  },
  {
   "cell_type": "code",
   "execution_count": 41,
   "id": "herbal-truck",
   "metadata": {},
   "outputs": [
    {
     "data": {
      "text/plain": [
       "DecisionTreeRegressor()"
      ]
     },
     "execution_count": 41,
     "metadata": {},
     "output_type": "execute_result"
    }
   ],
   "source": [
    "decision_tree_model.fit(train_features,train_labels)"
   ]
  },
  {
   "cell_type": "code",
   "execution_count": 42,
   "id": "current-admission",
   "metadata": {},
   "outputs": [],
   "source": [
    "decision_tree_model_train_predicted=decision_tree_model.predict(train_features)"
   ]
  },
  {
   "cell_type": "code",
   "execution_count": 43,
   "id": "atomic-terror",
   "metadata": {},
   "outputs": [],
   "source": [
    "# decision_tree_model_train_predicted"
   ]
  },
  {
   "cell_type": "code",
   "execution_count": 44,
   "id": "several-supervisor",
   "metadata": {},
   "outputs": [],
   "source": [
    "decision_tree_model_test_predicted=decision_tree_model.predict(test_features)"
   ]
  },
  {
   "cell_type": "code",
   "execution_count": 45,
   "id": "marine-verse",
   "metadata": {},
   "outputs": [],
   "source": [
    "# decision_tree_model_test_predicted"
   ]
  },
  {
   "cell_type": "code",
   "execution_count": 46,
   "id": "anonymous-architecture",
   "metadata": {},
   "outputs": [],
   "source": [
    "decision_tree_model_next_y_days_predicted=decision_tree_model.predict(predictingdate)"
   ]
  },
  {
   "cell_type": "code",
   "execution_count": 47,
   "id": "unusual-solomon",
   "metadata": {},
   "outputs": [],
   "source": [
    "# decision_tree_model_next_y_days_predicted"
   ]
  },
  {
   "cell_type": "code",
   "execution_count": 48,
   "id": "nervous-nature",
   "metadata": {},
   "outputs": [],
   "source": [
    "pyplot.figure('Decision tree regression')\n",
    "pyplot.plot(maindata['date'],maindata_labels,label='Original Data')\n",
    "pyplot.plot(train_data['date'],decision_tree_model_train_predicted,label='Train Data')\n",
    "pyplot.plot(test_data['date'],decision_tree_model_test_predicted,label='Test Data')\n",
    "pyplot.plot(daterange,decision_tree_model_next_y_days_predicted,label='Future Prediction')\n",
    "pyplot.legend()\n",
    "pyplot.show()"
   ]
  },
  {
   "cell_type": "code",
   "execution_count": null,
   "id": "dated-stock",
   "metadata": {},
   "outputs": [],
   "source": []
  },
  {
   "cell_type": "markdown",
   "id": "minimal-nursing",
   "metadata": {},
   "source": [
    "#### Extra Tree regression"
   ]
  },
  {
   "cell_type": "code",
   "execution_count": 49,
   "id": "helpful-adobe",
   "metadata": {},
   "outputs": [
    {
     "data": {
      "text/plain": [
       "ExtraTreeRegressor()"
      ]
     },
     "execution_count": 49,
     "metadata": {},
     "output_type": "execute_result"
    }
   ],
   "source": [
    "extra_tree_model.fit(train_features,train_labels)"
   ]
  },
  {
   "cell_type": "code",
   "execution_count": 50,
   "id": "variable-congress",
   "metadata": {},
   "outputs": [],
   "source": [
    "extra_tree_model_train_predicted=extra_tree_model.predict(train_features)"
   ]
  },
  {
   "cell_type": "code",
   "execution_count": 51,
   "id": "biological-blanket",
   "metadata": {},
   "outputs": [],
   "source": [
    "# extra_tree_model_train_predicted"
   ]
  },
  {
   "cell_type": "code",
   "execution_count": 52,
   "id": "lasting-native",
   "metadata": {},
   "outputs": [],
   "source": [
    "extra_tree_model_test_predicted=extra_tree_model.predict(test_features)"
   ]
  },
  {
   "cell_type": "code",
   "execution_count": 53,
   "id": "latest-criticism",
   "metadata": {},
   "outputs": [],
   "source": [
    "# extra_tree_model_test_predicted"
   ]
  },
  {
   "cell_type": "code",
   "execution_count": 54,
   "id": "negative-literature",
   "metadata": {},
   "outputs": [],
   "source": [
    "extra_tree_model_next_7_days_predicted=extra_tree_model.predict(predictingdate)"
   ]
  },
  {
   "cell_type": "code",
   "execution_count": 55,
   "id": "duplicate-recall",
   "metadata": {},
   "outputs": [],
   "source": [
    "# extra_tree_model_next_7_days_predicted"
   ]
  },
  {
   "cell_type": "code",
   "execution_count": 56,
   "id": "blond-berry",
   "metadata": {},
   "outputs": [],
   "source": [
    "pyplot.figure('Extra tree regression')\n",
    "pyplot.plot(maindata['date'],maindata_labels,label='Original Data')\n",
    "pyplot.plot(train_data['date'],extra_tree_model_train_predicted,label='Train Data')\n",
    "pyplot.plot(test_data['date'],extra_tree_model_test_predicted,label='Test Data')\n",
    "pyplot.plot(daterange,extra_tree_model_next_7_days_predicted,label='Future Prediction')\n",
    "pyplot.legend()\n",
    "pyplot.show()"
   ]
  },
  {
   "cell_type": "code",
   "execution_count": null,
   "id": "funky-swift",
   "metadata": {},
   "outputs": [],
   "source": []
  },
  {
   "cell_type": "markdown",
   "id": "secondary-greeting",
   "metadata": {},
   "source": [
    "## Evaluation\n",
    "    model\n",
    "    train : mean_absolute_error     root_mean_squared_error\n",
    "    test :  mean_absolute_error     root_mean_squared_error"
   ]
  },
  {
   "cell_type": "code",
   "execution_count": 57,
   "id": "accepting-irish",
   "metadata": {},
   "outputs": [
    {
     "name": "stdout",
     "output_type": "stream",
     "text": [
      "linear regrassion\n",
      "3274141.049883589 3840814.828458117\n",
      "3872109.9887095485 3880742.300704528\n"
     ]
    }
   ],
   "source": [
    "print('linear regrassion')\n",
    "print(mean_absolute_error(linear_regression_model_train_predicted,train_labels),numpy.sqrt(mean_squared_error(linear_regression_model_train_predicted,train_labels)))\n",
    "print(mean_absolute_error(linear_regression_model_test_predicted,test_labels),numpy.sqrt(mean_squared_error(linear_regression_model_test_predicted,test_labels)))"
   ]
  },
  {
   "cell_type": "code",
   "execution_count": 58,
   "id": "ultimate-montreal",
   "metadata": {},
   "outputs": [
    {
     "name": "stdout",
     "output_type": "stream",
     "text": [
      "random forest regrassion\n",
      "11624.221600000048 20825.927356117907\n",
      "559288.6799999997 622527.1561400886\n"
     ]
    }
   ],
   "source": [
    "print('random forest regrassion')\n",
    "print(mean_absolute_error(random_forest_model_train_predicted,train_labels),numpy.sqrt(mean_squared_error(random_forest_model_train_predicted,train_labels)))\n",
    "print(mean_absolute_error(random_forest_model_test_predicted,test_labels),numpy.sqrt(mean_squared_error(random_forest_model_test_predicted,test_labels)))"
   ]
  },
  {
   "cell_type": "code",
   "execution_count": 59,
   "id": "attractive-lightning",
   "metadata": {},
   "outputs": [
    {
     "name": "stdout",
     "output_type": "stream",
     "text": [
      "Decision Tree regression\n",
      "0.0 0.0\n",
      "536833.0 602433.3178408412\n"
     ]
    }
   ],
   "source": [
    "print('Decision Tree regression')\n",
    "print(mean_absolute_error(decision_tree_model_train_predicted,train_labels),numpy.sqrt(mean_squared_error(decision_tree_model_train_predicted,train_labels)))\n",
    "print(mean_absolute_error(decision_tree_model_test_predicted,test_labels),numpy.sqrt(mean_squared_error(decision_tree_model_test_predicted,test_labels)))"
   ]
  },
  {
   "cell_type": "code",
   "execution_count": 60,
   "id": "greenhouse-billion",
   "metadata": {},
   "outputs": [
    {
     "name": "stdout",
     "output_type": "stream",
     "text": [
      "Extra Tree Regression\n",
      "0.0 0.0\n",
      "536833.0 602433.3178408412\n"
     ]
    }
   ],
   "source": [
    "print('Extra Tree Regression')\n",
    "print(mean_absolute_error(extra_tree_model_train_predicted,train_labels),numpy.sqrt(mean_squared_error(extra_tree_model_train_predicted,train_labels)))\n",
    "print(mean_absolute_error(extra_tree_model_test_predicted,test_labels),numpy.sqrt(mean_squared_error(extra_tree_model_test_predicted,test_labels)))"
   ]
  },
  {
   "cell_type": "code",
   "execution_count": null,
   "id": "hollywood-hazard",
   "metadata": {},
   "outputs": [],
   "source": []
  },
  {
   "cell_type": "code",
   "execution_count": null,
   "id": "wicked-there",
   "metadata": {},
   "outputs": [],
   "source": []
  },
  {
   "cell_type": "markdown",
   "id": "bridal-macedonia",
   "metadata": {},
   "source": [
    "## Polynomial Regression"
   ]
  },
  {
   "cell_type": "code",
   "execution_count": 61,
   "id": "arbitrary-edition",
   "metadata": {},
   "outputs": [
    {
     "data": {
      "text/plain": [
       "<matplotlib.collections.PathCollection at 0x24368291b80>"
      ]
     },
     "execution_count": 61,
     "metadata": {},
     "output_type": "execute_result"
    }
   ],
   "source": [
    "pyplot.scatter(train_features,train_labels)"
   ]
  },
  {
   "cell_type": "code",
   "execution_count": null,
   "id": "worse-terrorism",
   "metadata": {},
   "outputs": [],
   "source": []
  },
  {
   "cell_type": "code",
   "execution_count": 62,
   "id": "negative-density",
   "metadata": {
    "scrolled": true
   },
   "outputs": [],
   "source": [
    "def polynomial_regrassion_model(degree_of_equation=1):\n",
    "    polynomial=PolynomialFeatures(degree=degree_of_equation)\n",
    "    polynomial_train_data=polynomial.fit_transform(train_features.to_numpy())\n",
    "    polynomial_test_data=polynomial.fit_transform(test_features.to_numpy())\n",
    "    polynomial_future_test_data=polynomial.fit_transform(predictingdate)\n",
    "    polynomial_regression=LinearRegression()\n",
    "    polynomial_regression.fit(polynomial_train_data,train_labels)\n",
    "    polynomial_regression_model_train_predicted=polynomial_regression.predict(polynomial_train_data)\n",
    "    polynomial_regression_model_test_predicted=polynomial_regression.predict(polynomial_test_data)\n",
    "    polynomial_regression_model_nest_7_days_predicted=polynomial_regression.predict(polynomial_future_test_data)\n",
    "#     print('Train Data Prediction')\n",
    "#     print(polynomial_regression_model_train_predicted)\n",
    "#     print('\\n\\n\\nTest Data Prediction')\n",
    "#     print(polynomial_regression_model_test_predicted)\n",
    "#     print('\\n\\n\\nFuture Data Prediction')\n",
    "#     print(polynomial_regression_model_nest_7_days_predicted)\n",
    "#     print('\\n\\n\\n')\n",
    "    print('{} degree Polynomial regression'.format(degree_of_equation))\n",
    "    print(mean_absolute_error(polynomial_regression_model_train_predicted,train_labels),numpy.sqrt(mean_squared_error(polynomial_regression_model_train_predicted,train_labels)))\n",
    "    print(mean_absolute_error(polynomial_regression_model_test_predicted,test_labels),numpy.sqrt(mean_squared_error(polynomial_regression_model_test_predicted,test_labels)))\n",
    "    pyplot.figure('{} degree Polynomial regression'.format(degree_of_equation))\n",
    "    pyplot.plot(maindata['date'],maindata_labels,label='Original Data')\n",
    "    pyplot.plot(train_data['date'],polynomial_regression_model_train_predicted,label='Train Data')\n",
    "    pyplot.plot(test_data['date'],polynomial_regression_model_test_predicted,label='Test Data')\n",
    "    pyplot.plot(daterange,polynomial_regression_model_nest_7_days_predicted,label='Future Prediction')\n",
    "    pyplot.legend()\n",
    "    pyplot.show()"
   ]
  },
  {
   "cell_type": "code",
   "execution_count": null,
   "id": "latest-questionnaire",
   "metadata": {},
   "outputs": [],
   "source": []
  },
  {
   "cell_type": "code",
   "execution_count": 63,
   "id": "vocal-hazard",
   "metadata": {
    "scrolled": true
   },
   "outputs": [],
   "source": [
    "# polynomial_regrassion_model()"
   ]
  },
  {
   "cell_type": "code",
   "execution_count": 64,
   "id": "curious-product",
   "metadata": {
    "scrolled": true
   },
   "outputs": [
    {
     "name": "stdout",
     "output_type": "stream",
     "text": [
      "2 degree Polynomial regression\n",
      "1637497.4801988637 2202872.6481548846\n",
      "4273244.013469827 4373012.262487211\n"
     ]
    }
   ],
   "source": [
    "polynomial_regrassion_model(2)"
   ]
  },
  {
   "cell_type": "code",
   "execution_count": 65,
   "id": "artificial-capacity",
   "metadata": {
    "scrolled": false
   },
   "outputs": [
    {
     "name": "stdout",
     "output_type": "stream",
     "text": [
      "3 degree Polynomial regression\n",
      "1637448.2441335227 2202768.3527012817\n",
      "4274869.11637931 4374650.006828526\n"
     ]
    }
   ],
   "source": [
    "polynomial_regrassion_model(3)"
   ]
  },
  {
   "cell_type": "code",
   "execution_count": 66,
   "id": "unauthorized-testing",
   "metadata": {},
   "outputs": [
    {
     "name": "stdout",
     "output_type": "stream",
     "text": [
      "4 degree Polynomial regression\n",
      "1637400.7301136365 2202664.155690146\n",
      "4276482.767241379 4376276.4928690065\n"
     ]
    }
   ],
   "source": [
    "polynomial_regrassion_model(4)"
   ]
  },
  {
   "cell_type": "code",
   "execution_count": 67,
   "id": "convenient-dinner",
   "metadata": {},
   "outputs": [
    {
     "name": "stdout",
     "output_type": "stream",
     "text": [
      "5 degree Polynomial regression\n",
      "1637353.2073828124 2202560.057301186\n",
      "4278096.121531519 4377902.6895006485\n"
     ]
    }
   ],
   "source": [
    "polynomial_regrassion_model(5)"
   ]
  },
  {
   "cell_type": "code",
   "execution_count": 68,
   "id": "amended-traffic",
   "metadata": {},
   "outputs": [
    {
     "name": "stdout",
     "output_type": "stream",
     "text": [
      "6 degree Polynomial regression\n",
      "1637305.654296875 2202456.058455571\n",
      "4279708.999427533 4379528.419829248\n"
     ]
    }
   ],
   "source": [
    "polynomial_regrassion_model(6)"
   ]
  },
  {
   "cell_type": "code",
   "execution_count": null,
   "id": "binding-negative",
   "metadata": {},
   "outputs": [],
   "source": []
  },
  {
   "cell_type": "code",
   "execution_count": null,
   "id": "hungarian-guidance",
   "metadata": {},
   "outputs": [],
   "source": []
  },
  {
   "cell_type": "markdown",
   "id": "civilian-testament",
   "metadata": {},
   "source": [
    "# Forcasting Models"
   ]
  },
  {
   "cell_type": "code",
   "execution_count": null,
   "id": "brave-reproduction",
   "metadata": {},
   "outputs": [],
   "source": []
  },
  {
   "cell_type": "code",
   "execution_count": 69,
   "id": "lined-equity",
   "metadata": {},
   "outputs": [],
   "source": [
    "forcasting_data_features=maindata[['date','total_confirmed']]\n",
    "\n",
    "forcasting_train_data_features=train_data[['date','total_confirmed']]\n",
    "\n",
    "forcasting_test_data_features=test_data[['date','total_confirmed']]"
   ]
  },
  {
   "cell_type": "code",
   "execution_count": 70,
   "id": "historical-visiting",
   "metadata": {},
   "outputs": [
    {
     "name": "stderr",
     "output_type": "stream",
     "text": [
      "<ipython-input-70-7a0089d374bb>:1: SettingWithCopyWarning: \n",
      "A value is trying to be set on a copy of a slice from a DataFrame.\n",
      "Try using .loc[row_indexer,col_indexer] = value instead\n",
      "\n",
      "See the caveats in the documentation: https://pandas.pydata.org/pandas-docs/stable/user_guide/indexing.html#returning-a-view-versus-a-copy\n",
      "  forcasting_data_features['date']=pandas.to_datetime(forcasting_data_features['date'])\n",
      "<ipython-input-70-7a0089d374bb>:3: SettingWithCopyWarning: \n",
      "A value is trying to be set on a copy of a slice from a DataFrame.\n",
      "Try using .loc[row_indexer,col_indexer] = value instead\n",
      "\n",
      "See the caveats in the documentation: https://pandas.pydata.org/pandas-docs/stable/user_guide/indexing.html#returning-a-view-versus-a-copy\n",
      "  forcasting_train_data_features['date']=pandas.to_datetime(forcasting_train_data_features['date'])\n",
      "<ipython-input-70-7a0089d374bb>:5: SettingWithCopyWarning: \n",
      "A value is trying to be set on a copy of a slice from a DataFrame.\n",
      "Try using .loc[row_indexer,col_indexer] = value instead\n",
      "\n",
      "See the caveats in the documentation: https://pandas.pydata.org/pandas-docs/stable/user_guide/indexing.html#returning-a-view-versus-a-copy\n",
      "  forcasting_test_data_features['date']=pandas.to_datetime(forcasting_test_data_features['date'])\n"
     ]
    }
   ],
   "source": [
    "forcasting_data_features['date']=pandas.to_datetime(forcasting_data_features['date'])\n",
    "\n",
    "forcasting_train_data_features['date']=pandas.to_datetime(forcasting_train_data_features['date'])\n",
    "\n",
    "forcasting_test_data_features['date']=pandas.to_datetime(forcasting_test_data_features['date'])"
   ]
  },
  {
   "cell_type": "code",
   "execution_count": 71,
   "id": "strategic-carry",
   "metadata": {},
   "outputs": [],
   "source": [
    "forcasting_data_features=forcasting_data_features.set_index('date')\n",
    "\n",
    "forcasting_train_data_features=forcasting_train_data_features.set_index('date')\n",
    "\n",
    "forcasting_test_data_features=forcasting_test_data_features.set_index('date')"
   ]
  },
  {
   "cell_type": "code",
   "execution_count": 72,
   "id": "dependent-private",
   "metadata": {},
   "outputs": [],
   "source": [
    "# forcasting_data_features"
   ]
  },
  {
   "cell_type": "code",
   "execution_count": 73,
   "id": "cleared-spending",
   "metadata": {},
   "outputs": [],
   "source": [
    "# forcasting_train_data_features"
   ]
  },
  {
   "cell_type": "code",
   "execution_count": 74,
   "id": "arabic-camping",
   "metadata": {},
   "outputs": [],
   "source": [
    "# forcasting_test_data_features"
   ]
  },
  {
   "cell_type": "markdown",
   "id": "removable-ethics",
   "metadata": {},
   "source": [
    "## ARIMA model"
   ]
  },
  {
   "cell_type": "code",
   "execution_count": null,
   "id": "timely-battery",
   "metadata": {},
   "outputs": [],
   "source": []
  },
  {
   "cell_type": "code",
   "execution_count": 75,
   "id": "innocent-guatemala",
   "metadata": {},
   "outputs": [
    {
     "name": "stderr",
     "output_type": "stream",
     "text": [
      "C:\\Users\\Pankaj singh\\AppData\\Roaming\\Python\\Python39\\site-packages\\statsmodels\\tsa\\base\\tsa_model.py:581: ValueWarning: A date index has been provided, but it has no associated frequency information and so will be ignored when e.g. forecasting.\n",
      "  warnings.warn('A date index has been provided, but it has no'\n",
      "C:\\Users\\Pankaj singh\\AppData\\Roaming\\Python\\Python39\\site-packages\\statsmodels\\tsa\\base\\tsa_model.py:581: ValueWarning: A date index has been provided, but it has no associated frequency information and so will be ignored when e.g. forecasting.\n",
      "  warnings.warn('A date index has been provided, but it has no'\n",
      "C:\\Users\\Pankaj singh\\AppData\\Roaming\\Python\\Python39\\site-packages\\statsmodels\\tsa\\base\\tsa_model.py:581: ValueWarning: A date index has been provided, but it has no associated frequency information and so will be ignored when e.g. forecasting.\n",
      "  warnings.warn('A date index has been provided, but it has no'\n",
      "C:\\Users\\Pankaj singh\\AppData\\Roaming\\Python\\Python39\\site-packages\\statsmodels\\tsa\\base\\tsa_model.py:581: ValueWarning: A date index has been provided, but it has no associated frequency information and so will be ignored when e.g. forecasting.\n",
      "  warnings.warn('A date index has been provided, but it has no'\n",
      "C:\\Users\\Pankaj singh\\AppData\\Roaming\\Python\\Python39\\site-packages\\statsmodels\\tsa\\base\\tsa_model.py:581: ValueWarning: A date index has been provided, but it has no associated frequency information and so will be ignored when e.g. forecasting.\n",
      "  warnings.warn('A date index has been provided, but it has no'\n",
      "C:\\Users\\Pankaj singh\\AppData\\Roaming\\Python\\Python39\\site-packages\\statsmodels\\tsa\\base\\tsa_model.py:581: ValueWarning: A date index has been provided, but it has no associated frequency information and so will be ignored when e.g. forecasting.\n",
      "  warnings.warn('A date index has been provided, but it has no'\n"
     ]
    }
   ],
   "source": [
    "main_arima_model = ARIMA(forcasting_data_features,order=(5,0,3))\n",
    "train_arima_model = ARIMA(forcasting_train_data_features,order=(5,0,3))"
   ]
  },
  {
   "cell_type": "code",
   "execution_count": 76,
   "id": "accurate-return",
   "metadata": {},
   "outputs": [
    {
     "name": "stderr",
     "output_type": "stream",
     "text": [
      "C:\\Users\\Pankaj singh\\AppData\\Roaming\\Python\\Python39\\site-packages\\statsmodels\\tsa\\statespace\\sarimax.py:966: UserWarning: Non-stationary starting autoregressive parameters found. Using zeros as starting parameters.\n",
      "  warn('Non-stationary starting autoregressive parameters'\n",
      "C:\\Users\\Pankaj singh\\AppData\\Roaming\\Python\\Python39\\site-packages\\statsmodels\\tsa\\statespace\\sarimax.py:978: UserWarning: Non-invertible starting MA parameters found. Using zeros as starting parameters.\n",
      "  warn('Non-invertible starting MA parameters found.'\n",
      "C:\\Users\\Pankaj singh\\AppData\\Roaming\\Python\\Python39\\site-packages\\statsmodels\\base\\model.py:566: ConvergenceWarning: Maximum Likelihood optimization failed to converge. Check mle_retvals\n",
      "  warnings.warn(\"Maximum Likelihood optimization failed to \"\n",
      "C:\\Users\\Pankaj singh\\AppData\\Roaming\\Python\\Python39\\site-packages\\statsmodels\\base\\model.py:566: ConvergenceWarning: Maximum Likelihood optimization failed to converge. Check mle_retvals\n",
      "  warnings.warn(\"Maximum Likelihood optimization failed to \"\n"
     ]
    }
   ],
   "source": [
    "main_arima_fit_model=main_arima_model.fit()\n",
    "train_arima_fit_model=train_arima_model.fit()"
   ]
  },
  {
   "cell_type": "code",
   "execution_count": 77,
   "id": "entire-turtle",
   "metadata": {},
   "outputs": [
    {
     "name": "stderr",
     "output_type": "stream",
     "text": [
      "C:\\Users\\Pankaj singh\\AppData\\Roaming\\Python\\Python39\\site-packages\\statsmodels\\tsa\\base\\tsa_model.py:376: ValueWarning: No supported index is available. Prediction results will be given with an integer index beginning at `start`.\n",
      "  warnings.warn('No supported index is available.'\n"
     ]
    }
   ],
   "source": [
    "main_arima_fit_model_predicted=main_arima_fit_model.predict()\n",
    "train_arima_fit_model_predicted=train_arima_fit_model.predict()\n",
    "test_arima_predicted=train_arima_fit_model.forecast(steps=len(forcasting_test_data_features))"
   ]
  },
  {
   "cell_type": "code",
   "execution_count": 78,
   "id": "variable-ownership",
   "metadata": {
    "scrolled": false
   },
   "outputs": [
    {
     "name": "stderr",
     "output_type": "stream",
     "text": [
      "C:\\Users\\Pankaj singh\\AppData\\Roaming\\Python\\Python39\\site-packages\\statsmodels\\tsa\\base\\tsa_model.py:376: ValueWarning: No supported index is available. Prediction results will be given with an integer index beginning at `start`.\n",
      "  warnings.warn('No supported index is available.'\n"
     ]
    }
   ],
   "source": [
    "arima_model_forcast=main_arima_fit_model.forecast(steps=7)"
   ]
  },
  {
   "cell_type": "code",
   "execution_count": 79,
   "id": "surprising-roulette",
   "metadata": {},
   "outputs": [
    {
     "data": {
      "text/plain": [
       "579    3.370916e+07\n",
       "580    3.372290e+07\n",
       "581    3.373575e+07\n",
       "582    3.374926e+07\n",
       "583    3.375901e+07\n",
       "584    3.377155e+07\n",
       "585    3.377948e+07\n",
       "Name: predicted_mean, dtype: float64"
      ]
     },
     "execution_count": 79,
     "metadata": {},
     "output_type": "execute_result"
    }
   ],
   "source": [
    "# main_arima_fit_model_predicted\n",
    "# train_arima_fit_model_predicted\n",
    "# test_arima_predicted\n",
    "arima_model_forcast"
   ]
  },
  {
   "cell_type": "code",
   "execution_count": 91,
   "id": "adjacent-metallic",
   "metadata": {},
   "outputs": [],
   "source": [
    "pyplot.figure('ARIMA model Forcasting')\n",
    "pyplot.plot(maindata['date'],maindata_labels,label='Original Data')\n",
    "pyplot.plot(train_data['date'],train_arima_fit_model_predicted,label='Train Data')\n",
    "pyplot.plot(test_data['date'],test_arima_predicted,label='Test Data')\n",
    "pyplot.plot(daterange,arima_model_forcast,label='ARIMA Future Prediction')\n",
    "pyplot.legend()\n",
    "pyplot.show()"
   ]
  },
  {
   "cell_type": "code",
   "execution_count": null,
   "id": "surface-niagara",
   "metadata": {},
   "outputs": [],
   "source": []
  },
  {
   "cell_type": "code",
   "execution_count": 81,
   "id": "alleged-intersection",
   "metadata": {},
   "outputs": [
    {
     "name": "stdout",
     "output_type": "stream",
     "text": [
      "24102.90713138654 470398.4244600237\n",
      "73662.35401032968 94393.48683920378\n"
     ]
    }
   ],
   "source": [
    "print(mean_absolute_error(train_arima_fit_model_predicted,train_labels),numpy.sqrt(mean_squared_error(train_arima_fit_model_predicted,train_labels)))\n",
    "print(mean_absolute_error(test_arima_predicted,test_labels),numpy.sqrt(mean_squared_error(test_arima_predicted,test_labels)))\n",
    "    "
   ]
  },
  {
   "cell_type": "code",
   "execution_count": null,
   "id": "swedish-hunger",
   "metadata": {},
   "outputs": [],
   "source": []
  },
  {
   "cell_type": "markdown",
   "id": "turkish-silence",
   "metadata": {},
   "source": [
    "## SARIMA model"
   ]
  },
  {
   "cell_type": "code",
   "execution_count": null,
   "id": "alpine-scope",
   "metadata": {},
   "outputs": [],
   "source": []
  },
  {
   "cell_type": "code",
   "execution_count": 82,
   "id": "adverse-promotion",
   "metadata": {},
   "outputs": [
    {
     "name": "stderr",
     "output_type": "stream",
     "text": [
      "C:\\Users\\Pankaj singh\\AppData\\Roaming\\Python\\Python39\\site-packages\\statsmodels\\tsa\\base\\tsa_model.py:581: ValueWarning: A date index has been provided, but it has no associated frequency information and so will be ignored when e.g. forecasting.\n",
      "  warnings.warn('A date index has been provided, but it has no'\n",
      "C:\\Users\\Pankaj singh\\AppData\\Roaming\\Python\\Python39\\site-packages\\statsmodels\\tsa\\base\\tsa_model.py:581: ValueWarning: A date index has been provided, but it has no associated frequency information and so will be ignored when e.g. forecasting.\n",
      "  warnings.warn('A date index has been provided, but it has no'\n",
      "C:\\Users\\Pankaj singh\\AppData\\Roaming\\Python\\Python39\\site-packages\\statsmodels\\tsa\\base\\tsa_model.py:581: ValueWarning: A date index has been provided, but it has no associated frequency information and so will be ignored when e.g. forecasting.\n",
      "  warnings.warn('A date index has been provided, but it has no'\n",
      "C:\\Users\\Pankaj singh\\AppData\\Roaming\\Python\\Python39\\site-packages\\statsmodels\\tsa\\base\\tsa_model.py:581: ValueWarning: A date index has been provided, but it has no associated frequency information and so will be ignored when e.g. forecasting.\n",
      "  warnings.warn('A date index has been provided, but it has no'\n",
      "C:\\Users\\Pankaj singh\\AppData\\Roaming\\Python\\Python39\\site-packages\\statsmodels\\tsa\\base\\tsa_model.py:581: ValueWarning: A date index has been provided, but it has no associated frequency information and so will be ignored when e.g. forecasting.\n",
      "  warnings.warn('A date index has been provided, but it has no'\n"
     ]
    }
   ],
   "source": [
    "main_sarima_model=SARIMAX(forcasting_data_features)\n",
    "train_sarima_model = ARIMA(forcasting_train_data_features,order=(5,0,3))"
   ]
  },
  {
   "cell_type": "code",
   "execution_count": 83,
   "id": "alive-klein",
   "metadata": {},
   "outputs": [
    {
     "name": "stderr",
     "output_type": "stream",
     "text": [
      "C:\\Users\\Pankaj singh\\AppData\\Roaming\\Python\\Python39\\site-packages\\statsmodels\\tsa\\statespace\\sarimax.py:966: UserWarning: Non-stationary starting autoregressive parameters found. Using zeros as starting parameters.\n",
      "  warn('Non-stationary starting autoregressive parameters'\n",
      "C:\\Users\\Pankaj singh\\AppData\\Roaming\\Python\\Python39\\site-packages\\statsmodels\\tsa\\statespace\\sarimax.py:978: UserWarning: Non-invertible starting MA parameters found. Using zeros as starting parameters.\n",
      "  warn('Non-invertible starting MA parameters found.'\n",
      "C:\\Users\\Pankaj singh\\AppData\\Roaming\\Python\\Python39\\site-packages\\statsmodels\\base\\model.py:566: ConvergenceWarning: Maximum Likelihood optimization failed to converge. Check mle_retvals\n",
      "  warnings.warn(\"Maximum Likelihood optimization failed to \"\n"
     ]
    }
   ],
   "source": [
    "main_sarima_fit_model=main_sarima_model.fit()\n",
    "train_sarima_fit_model=train_sarima_model.fit()"
   ]
  },
  {
   "cell_type": "code",
   "execution_count": 84,
   "id": "coated-north",
   "metadata": {},
   "outputs": [
    {
     "name": "stderr",
     "output_type": "stream",
     "text": [
      "C:\\Users\\Pankaj singh\\AppData\\Roaming\\Python\\Python39\\site-packages\\statsmodels\\tsa\\base\\tsa_model.py:376: ValueWarning: No supported index is available. Prediction results will be given with an integer index beginning at `start`.\n",
      "  warnings.warn('No supported index is available.'\n"
     ]
    }
   ],
   "source": [
    "# sarima_model_fit.predict(590)\n",
    "main_sarima_fit_model_predicted=main_sarima_fit_model.predict()\n",
    "train_sarima_fit_model_predicted=train_sarima_fit_model.predict()\n",
    "test_sarima_predicted=train_sarima_fit_model.forecast(steps=len(forcasting_test_data_features))"
   ]
  },
  {
   "cell_type": "code",
   "execution_count": 86,
   "id": "musical-annex",
   "metadata": {
    "scrolled": true
   },
   "outputs": [
    {
     "name": "stderr",
     "output_type": "stream",
     "text": [
      "C:\\Users\\Pankaj singh\\AppData\\Roaming\\Python\\Python39\\site-packages\\statsmodels\\tsa\\base\\tsa_model.py:376: ValueWarning: No supported index is available. Prediction results will be given with an integer index beginning at `start`.\n",
      "  warnings.warn('No supported index is available.'\n"
     ]
    }
   ],
   "source": [
    "sarima_model_forcast=main_sarima_fit_model.forecast(steps=7)"
   ]
  },
  {
   "cell_type": "code",
   "execution_count": 87,
   "id": "generous-blood",
   "metadata": {},
   "outputs": [
    {
     "data": {
      "text/plain": [
       "579    3.369283e+07\n",
       "580    3.369250e+07\n",
       "581    3.369218e+07\n",
       "582    3.369185e+07\n",
       "583    3.369153e+07\n",
       "584    3.369120e+07\n",
       "585    3.369087e+07\n",
       "Name: predicted_mean, dtype: float64"
      ]
     },
     "execution_count": 87,
     "metadata": {},
     "output_type": "execute_result"
    }
   ],
   "source": [
    "# main_sarima_fit_model_predicted\n",
    "# train_sarima_fit_model_predicted\n",
    "# test_sarima_predicted\n",
    "sarima_model_forcast"
   ]
  },
  {
   "cell_type": "code",
   "execution_count": 92,
   "id": "selective-russell",
   "metadata": {},
   "outputs": [],
   "source": [
    "pyplot.figure('SARIMA model Forcasting')\n",
    "pyplot.plot(maindata['date'],maindata_labels,label='Original Data')\n",
    "pyplot.plot(train_data['date'],train_sarima_fit_model_predicted,label='Train Data')\n",
    "pyplot.plot(test_data['date'],test_sarima_predicted,label='Test Data')\n",
    "pyplot.plot(daterange,sarima_model_forcast,label='SARIMA Future Prediction')\n",
    "pyplot.legend()\n",
    "pyplot.show()"
   ]
  },
  {
   "cell_type": "code",
   "execution_count": null,
   "id": "angry-approach",
   "metadata": {},
   "outputs": [],
   "source": []
  },
  {
   "cell_type": "code",
   "execution_count": 93,
   "id": "private-italic",
   "metadata": {},
   "outputs": [
    {
     "name": "stdout",
     "output_type": "stream",
     "text": [
      "24102.90713138654 470398.4244600237\n",
      "73662.35401032968 94393.48683920378\n"
     ]
    }
   ],
   "source": [
    "print(mean_absolute_error(train_sarima_fit_model_predicted,train_labels),numpy.sqrt(mean_squared_error(train_sarima_fit_model_predicted,train_labels)))\n",
    "print(mean_absolute_error(test_sarima_predicted,test_labels),numpy.sqrt(mean_squared_error(test_sarima_predicted,test_labels)))\n",
    "    "
   ]
  },
  {
   "cell_type": "code",
   "execution_count": null,
   "id": "modular-reputation",
   "metadata": {},
   "outputs": [],
   "source": []
  }
 ],
 "metadata": {
  "kernelspec": {
   "display_name": "Python 3",
   "language": "python",
   "name": "python3"
  },
  "language_info": {
   "codemirror_mode": {
    "name": "ipython",
    "version": 3
   },
   "file_extension": ".py",
   "mimetype": "text/x-python",
   "name": "python",
   "nbconvert_exporter": "python",
   "pygments_lexer": "ipython3",
   "version": "3.9.2"
  }
 },
 "nbformat": 4,
 "nbformat_minor": 5
}
